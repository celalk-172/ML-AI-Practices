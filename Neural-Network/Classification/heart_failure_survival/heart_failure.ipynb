{
 "cells": [
  {
   "cell_type": "code",
   "execution_count": 1,
   "id": "1e807a55",
   "metadata": {},
   "outputs": [],
   "source": [
    "# Loading te data #\n",
    "## 1. and 2. Load as pandas DataFrame and visualise\n",
    "import pandas as pd\n",
    "data = pd.read_csv(\"heart_failure.csv\")"
   ]
  },
  {
   "cell_type": "code",
   "execution_count": 2,
   "id": "e8da1a04",
   "metadata": {},
   "outputs": [
    {
     "name": "stdout",
     "output_type": "stream",
     "text": [
      "<class 'pandas.core.frame.DataFrame'>\n",
      "RangeIndex: 299 entries, 0 to 298\n",
      "Data columns (total 15 columns):\n",
      " #   Column                    Non-Null Count  Dtype  \n",
      "---  ------                    --------------  -----  \n",
      " 0   Unnamed: 0                299 non-null    int64  \n",
      " 1   age                       299 non-null    float64\n",
      " 2   anaemia                   299 non-null    object \n",
      " 3   creatinine_phosphokinase  299 non-null    int64  \n",
      " 4   diabetes                  299 non-null    object \n",
      " 5   ejection_fraction         299 non-null    int64  \n",
      " 6   high_blood_pressure       299 non-null    object \n",
      " 7   platelets                 299 non-null    float64\n",
      " 8   serum_creatinine          299 non-null    float64\n",
      " 9   serum_sodium              299 non-null    int64  \n",
      " 10  sex                       299 non-null    object \n",
      " 11  smoking                   299 non-null    object \n",
      " 12  time                      299 non-null    int64  \n",
      " 13  DEATH_EVENT               299 non-null    int64  \n",
      " 14  death_event               299 non-null    object \n",
      "dtypes: float64(3), int64(6), object(6)\n",
      "memory usage: 35.2+ KB\n"
     ]
    }
   ],
   "source": [
    "### See all columns and their types\n",
    "data.info()"
   ]
  },
  {
   "cell_type": "code",
   "execution_count": 3,
   "id": "e4d7eeb5",
   "metadata": {},
   "outputs": [
    {
     "data": {
      "application/vnd.microsoft.datawrangler.viewer.v0+json": {
       "columns": [
        {
         "name": "index",
         "rawType": "object",
         "type": "string"
        },
        {
         "name": "Unnamed: 0",
         "rawType": "float64",
         "type": "float"
        },
        {
         "name": "age",
         "rawType": "float64",
         "type": "float"
        },
        {
         "name": "creatinine_phosphokinase",
         "rawType": "float64",
         "type": "float"
        },
        {
         "name": "ejection_fraction",
         "rawType": "float64",
         "type": "float"
        },
        {
         "name": "platelets",
         "rawType": "float64",
         "type": "float"
        },
        {
         "name": "serum_creatinine",
         "rawType": "float64",
         "type": "float"
        },
        {
         "name": "serum_sodium",
         "rawType": "float64",
         "type": "float"
        },
        {
         "name": "time",
         "rawType": "float64",
         "type": "float"
        },
        {
         "name": "DEATH_EVENT",
         "rawType": "float64",
         "type": "float"
        }
       ],
       "ref": "6675fb26-1056-4a3d-b522-d19371cfa388",
       "rows": [
        [
         "count",
         "299.0",
         "299.0",
         "299.0",
         "299.0",
         "299.0",
         "299.0",
         "299.0",
         "299.0",
         "299.0"
        ],
        [
         "mean",
         "149.0",
         "60.83389297658862",
         "581.8394648829432",
         "38.08361204013378",
         "263358.02926421404",
         "1.3938795986622072",
         "136.62541806020067",
         "130.2608695652174",
         "0.3210702341137124"
        ],
        [
         "std",
         "86.45808232895291",
         "11.89480907404447",
         "970.2878807124362",
         "11.834840741039171",
         "97804.2368685983",
         "1.0345100640898541",
         "4.412477283909235",
         "77.61420795029339",
         "0.46767042805677167"
        ],
        [
         "min",
         "0.0",
         "40.0",
         "23.0",
         "14.0",
         "25100.0",
         "0.5",
         "113.0",
         "4.0",
         "0.0"
        ],
        [
         "25%",
         "74.5",
         "51.0",
         "116.5",
         "30.0",
         "212500.0",
         "0.9",
         "134.0",
         "73.0",
         "0.0"
        ],
        [
         "50%",
         "149.0",
         "60.0",
         "250.0",
         "38.0",
         "262000.0",
         "1.1",
         "137.0",
         "115.0",
         "0.0"
        ],
        [
         "75%",
         "223.5",
         "70.0",
         "582.0",
         "45.0",
         "303500.0",
         "1.4",
         "140.0",
         "203.0",
         "1.0"
        ],
        [
         "max",
         "298.0",
         "95.0",
         "7861.0",
         "80.0",
         "850000.0",
         "9.4",
         "148.0",
         "285.0",
         "1.0"
        ]
       ],
       "shape": {
        "columns": 9,
        "rows": 8
       }
      },
      "text/html": [
       "<div>\n",
       "<style scoped>\n",
       "    .dataframe tbody tr th:only-of-type {\n",
       "        vertical-align: middle;\n",
       "    }\n",
       "\n",
       "    .dataframe tbody tr th {\n",
       "        vertical-align: top;\n",
       "    }\n",
       "\n",
       "    .dataframe thead th {\n",
       "        text-align: right;\n",
       "    }\n",
       "</style>\n",
       "<table border=\"1\" class=\"dataframe\">\n",
       "  <thead>\n",
       "    <tr style=\"text-align: right;\">\n",
       "      <th></th>\n",
       "      <th>Unnamed: 0</th>\n",
       "      <th>age</th>\n",
       "      <th>creatinine_phosphokinase</th>\n",
       "      <th>ejection_fraction</th>\n",
       "      <th>platelets</th>\n",
       "      <th>serum_creatinine</th>\n",
       "      <th>serum_sodium</th>\n",
       "      <th>time</th>\n",
       "      <th>DEATH_EVENT</th>\n",
       "    </tr>\n",
       "  </thead>\n",
       "  <tbody>\n",
       "    <tr>\n",
       "      <th>count</th>\n",
       "      <td>299.000000</td>\n",
       "      <td>299.000000</td>\n",
       "      <td>299.000000</td>\n",
       "      <td>299.000000</td>\n",
       "      <td>299.000000</td>\n",
       "      <td>299.00000</td>\n",
       "      <td>299.000000</td>\n",
       "      <td>299.000000</td>\n",
       "      <td>299.00000</td>\n",
       "    </tr>\n",
       "    <tr>\n",
       "      <th>mean</th>\n",
       "      <td>149.000000</td>\n",
       "      <td>60.833893</td>\n",
       "      <td>581.839465</td>\n",
       "      <td>38.083612</td>\n",
       "      <td>263358.029264</td>\n",
       "      <td>1.39388</td>\n",
       "      <td>136.625418</td>\n",
       "      <td>130.260870</td>\n",
       "      <td>0.32107</td>\n",
       "    </tr>\n",
       "    <tr>\n",
       "      <th>std</th>\n",
       "      <td>86.458082</td>\n",
       "      <td>11.894809</td>\n",
       "      <td>970.287881</td>\n",
       "      <td>11.834841</td>\n",
       "      <td>97804.236869</td>\n",
       "      <td>1.03451</td>\n",
       "      <td>4.412477</td>\n",
       "      <td>77.614208</td>\n",
       "      <td>0.46767</td>\n",
       "    </tr>\n",
       "    <tr>\n",
       "      <th>min</th>\n",
       "      <td>0.000000</td>\n",
       "      <td>40.000000</td>\n",
       "      <td>23.000000</td>\n",
       "      <td>14.000000</td>\n",
       "      <td>25100.000000</td>\n",
       "      <td>0.50000</td>\n",
       "      <td>113.000000</td>\n",
       "      <td>4.000000</td>\n",
       "      <td>0.00000</td>\n",
       "    </tr>\n",
       "    <tr>\n",
       "      <th>25%</th>\n",
       "      <td>74.500000</td>\n",
       "      <td>51.000000</td>\n",
       "      <td>116.500000</td>\n",
       "      <td>30.000000</td>\n",
       "      <td>212500.000000</td>\n",
       "      <td>0.90000</td>\n",
       "      <td>134.000000</td>\n",
       "      <td>73.000000</td>\n",
       "      <td>0.00000</td>\n",
       "    </tr>\n",
       "    <tr>\n",
       "      <th>50%</th>\n",
       "      <td>149.000000</td>\n",
       "      <td>60.000000</td>\n",
       "      <td>250.000000</td>\n",
       "      <td>38.000000</td>\n",
       "      <td>262000.000000</td>\n",
       "      <td>1.10000</td>\n",
       "      <td>137.000000</td>\n",
       "      <td>115.000000</td>\n",
       "      <td>0.00000</td>\n",
       "    </tr>\n",
       "    <tr>\n",
       "      <th>75%</th>\n",
       "      <td>223.500000</td>\n",
       "      <td>70.000000</td>\n",
       "      <td>582.000000</td>\n",
       "      <td>45.000000</td>\n",
       "      <td>303500.000000</td>\n",
       "      <td>1.40000</td>\n",
       "      <td>140.000000</td>\n",
       "      <td>203.000000</td>\n",
       "      <td>1.00000</td>\n",
       "    </tr>\n",
       "    <tr>\n",
       "      <th>max</th>\n",
       "      <td>298.000000</td>\n",
       "      <td>95.000000</td>\n",
       "      <td>7861.000000</td>\n",
       "      <td>80.000000</td>\n",
       "      <td>850000.000000</td>\n",
       "      <td>9.40000</td>\n",
       "      <td>148.000000</td>\n",
       "      <td>285.000000</td>\n",
       "      <td>1.00000</td>\n",
       "    </tr>\n",
       "  </tbody>\n",
       "</table>\n",
       "</div>"
      ],
      "text/plain": [
       "       Unnamed: 0         age  creatinine_phosphokinase  ejection_fraction  \\\n",
       "count  299.000000  299.000000                299.000000         299.000000   \n",
       "mean   149.000000   60.833893                581.839465          38.083612   \n",
       "std     86.458082   11.894809                970.287881          11.834841   \n",
       "min      0.000000   40.000000                 23.000000          14.000000   \n",
       "25%     74.500000   51.000000                116.500000          30.000000   \n",
       "50%    149.000000   60.000000                250.000000          38.000000   \n",
       "75%    223.500000   70.000000                582.000000          45.000000   \n",
       "max    298.000000   95.000000               7861.000000          80.000000   \n",
       "\n",
       "           platelets  serum_creatinine  serum_sodium        time  DEATH_EVENT  \n",
       "count     299.000000         299.00000    299.000000  299.000000    299.00000  \n",
       "mean   263358.029264           1.39388    136.625418  130.260870      0.32107  \n",
       "std     97804.236869           1.03451      4.412477   77.614208      0.46767  \n",
       "min     25100.000000           0.50000    113.000000    4.000000      0.00000  \n",
       "25%    212500.000000           0.90000    134.000000   73.000000      0.00000  \n",
       "50%    262000.000000           1.10000    137.000000  115.000000      0.00000  \n",
       "75%    303500.000000           1.40000    140.000000  203.000000      1.00000  \n",
       "max    850000.000000           9.40000    148.000000  285.000000      1.00000  "
      ]
     },
     "execution_count": 3,
     "metadata": {},
     "output_type": "execute_result"
    }
   ],
   "source": [
    "### See the statistical data of each column\n",
    "data.describe()"
   ]
  },
  {
   "cell_type": "code",
   "execution_count": 4,
   "id": "e5e18f5c",
   "metadata": {},
   "outputs": [
    {
     "data": {
      "application/vnd.microsoft.datawrangler.viewer.v0+json": {
       "columns": [
        {
         "name": "index",
         "rawType": "int64",
         "type": "integer"
        },
        {
         "name": "Unnamed: 0",
         "rawType": "int64",
         "type": "integer"
        },
        {
         "name": "age",
         "rawType": "float64",
         "type": "float"
        },
        {
         "name": "anaemia",
         "rawType": "object",
         "type": "string"
        },
        {
         "name": "creatinine_phosphokinase",
         "rawType": "int64",
         "type": "integer"
        },
        {
         "name": "diabetes",
         "rawType": "object",
         "type": "string"
        },
        {
         "name": "ejection_fraction",
         "rawType": "int64",
         "type": "integer"
        },
        {
         "name": "high_blood_pressure",
         "rawType": "object",
         "type": "string"
        },
        {
         "name": "platelets",
         "rawType": "float64",
         "type": "float"
        },
        {
         "name": "serum_creatinine",
         "rawType": "float64",
         "type": "float"
        },
        {
         "name": "serum_sodium",
         "rawType": "int64",
         "type": "integer"
        },
        {
         "name": "sex",
         "rawType": "object",
         "type": "string"
        },
        {
         "name": "smoking",
         "rawType": "object",
         "type": "string"
        },
        {
         "name": "time",
         "rawType": "int64",
         "type": "integer"
        },
        {
         "name": "DEATH_EVENT",
         "rawType": "int64",
         "type": "integer"
        },
        {
         "name": "death_event",
         "rawType": "object",
         "type": "string"
        }
       ],
       "ref": "9a6b521f-b8a0-4b84-b8f8-f7e76de7b3f5",
       "rows": [
        [
         "0",
         "0",
         "75.0",
         "no",
         "582",
         "no",
         "20",
         "yes",
         "265000.0",
         "1.9",
         "130",
         "yes",
         "no",
         "4",
         "1",
         "yes"
        ],
        [
         "1",
         "1",
         "55.0",
         "no",
         "7861",
         "no",
         "38",
         "no",
         "263358.03",
         "1.1",
         "136",
         "yes",
         "no",
         "6",
         "1",
         "yes"
        ],
        [
         "2",
         "2",
         "65.0",
         "no",
         "146",
         "no",
         "20",
         "no",
         "162000.0",
         "1.3",
         "129",
         "yes",
         "yes",
         "7",
         "1",
         "yes"
        ],
        [
         "3",
         "3",
         "50.0",
         "yes",
         "111",
         "no",
         "20",
         "no",
         "210000.0",
         "1.9",
         "137",
         "yes",
         "no",
         "7",
         "1",
         "yes"
        ],
        [
         "4",
         "4",
         "65.0",
         "yes",
         "160",
         "yes",
         "20",
         "no",
         "327000.0",
         "2.7",
         "116",
         "no",
         "no",
         "8",
         "1",
         "yes"
        ]
       ],
       "shape": {
        "columns": 15,
        "rows": 5
       }
      },
      "text/html": [
       "<div>\n",
       "<style scoped>\n",
       "    .dataframe tbody tr th:only-of-type {\n",
       "        vertical-align: middle;\n",
       "    }\n",
       "\n",
       "    .dataframe tbody tr th {\n",
       "        vertical-align: top;\n",
       "    }\n",
       "\n",
       "    .dataframe thead th {\n",
       "        text-align: right;\n",
       "    }\n",
       "</style>\n",
       "<table border=\"1\" class=\"dataframe\">\n",
       "  <thead>\n",
       "    <tr style=\"text-align: right;\">\n",
       "      <th></th>\n",
       "      <th>Unnamed: 0</th>\n",
       "      <th>age</th>\n",
       "      <th>anaemia</th>\n",
       "      <th>creatinine_phosphokinase</th>\n",
       "      <th>diabetes</th>\n",
       "      <th>ejection_fraction</th>\n",
       "      <th>high_blood_pressure</th>\n",
       "      <th>platelets</th>\n",
       "      <th>serum_creatinine</th>\n",
       "      <th>serum_sodium</th>\n",
       "      <th>sex</th>\n",
       "      <th>smoking</th>\n",
       "      <th>time</th>\n",
       "      <th>DEATH_EVENT</th>\n",
       "      <th>death_event</th>\n",
       "    </tr>\n",
       "  </thead>\n",
       "  <tbody>\n",
       "    <tr>\n",
       "      <th>0</th>\n",
       "      <td>0</td>\n",
       "      <td>75.0</td>\n",
       "      <td>no</td>\n",
       "      <td>582</td>\n",
       "      <td>no</td>\n",
       "      <td>20</td>\n",
       "      <td>yes</td>\n",
       "      <td>265000.00</td>\n",
       "      <td>1.9</td>\n",
       "      <td>130</td>\n",
       "      <td>yes</td>\n",
       "      <td>no</td>\n",
       "      <td>4</td>\n",
       "      <td>1</td>\n",
       "      <td>yes</td>\n",
       "    </tr>\n",
       "    <tr>\n",
       "      <th>1</th>\n",
       "      <td>1</td>\n",
       "      <td>55.0</td>\n",
       "      <td>no</td>\n",
       "      <td>7861</td>\n",
       "      <td>no</td>\n",
       "      <td>38</td>\n",
       "      <td>no</td>\n",
       "      <td>263358.03</td>\n",
       "      <td>1.1</td>\n",
       "      <td>136</td>\n",
       "      <td>yes</td>\n",
       "      <td>no</td>\n",
       "      <td>6</td>\n",
       "      <td>1</td>\n",
       "      <td>yes</td>\n",
       "    </tr>\n",
       "    <tr>\n",
       "      <th>2</th>\n",
       "      <td>2</td>\n",
       "      <td>65.0</td>\n",
       "      <td>no</td>\n",
       "      <td>146</td>\n",
       "      <td>no</td>\n",
       "      <td>20</td>\n",
       "      <td>no</td>\n",
       "      <td>162000.00</td>\n",
       "      <td>1.3</td>\n",
       "      <td>129</td>\n",
       "      <td>yes</td>\n",
       "      <td>yes</td>\n",
       "      <td>7</td>\n",
       "      <td>1</td>\n",
       "      <td>yes</td>\n",
       "    </tr>\n",
       "    <tr>\n",
       "      <th>3</th>\n",
       "      <td>3</td>\n",
       "      <td>50.0</td>\n",
       "      <td>yes</td>\n",
       "      <td>111</td>\n",
       "      <td>no</td>\n",
       "      <td>20</td>\n",
       "      <td>no</td>\n",
       "      <td>210000.00</td>\n",
       "      <td>1.9</td>\n",
       "      <td>137</td>\n",
       "      <td>yes</td>\n",
       "      <td>no</td>\n",
       "      <td>7</td>\n",
       "      <td>1</td>\n",
       "      <td>yes</td>\n",
       "    </tr>\n",
       "    <tr>\n",
       "      <th>4</th>\n",
       "      <td>4</td>\n",
       "      <td>65.0</td>\n",
       "      <td>yes</td>\n",
       "      <td>160</td>\n",
       "      <td>yes</td>\n",
       "      <td>20</td>\n",
       "      <td>no</td>\n",
       "      <td>327000.00</td>\n",
       "      <td>2.7</td>\n",
       "      <td>116</td>\n",
       "      <td>no</td>\n",
       "      <td>no</td>\n",
       "      <td>8</td>\n",
       "      <td>1</td>\n",
       "      <td>yes</td>\n",
       "    </tr>\n",
       "  </tbody>\n",
       "</table>\n",
       "</div>"
      ],
      "text/plain": [
       "   Unnamed: 0   age anaemia  creatinine_phosphokinase diabetes  \\\n",
       "0           0  75.0      no                       582       no   \n",
       "1           1  55.0      no                      7861       no   \n",
       "2           2  65.0      no                       146       no   \n",
       "3           3  50.0     yes                       111       no   \n",
       "4           4  65.0     yes                       160      yes   \n",
       "\n",
       "   ejection_fraction high_blood_pressure  platelets  serum_creatinine  \\\n",
       "0                 20                 yes  265000.00               1.9   \n",
       "1                 38                  no  263358.03               1.1   \n",
       "2                 20                  no  162000.00               1.3   \n",
       "3                 20                  no  210000.00               1.9   \n",
       "4                 20                  no  327000.00               2.7   \n",
       "\n",
       "   serum_sodium  sex smoking  time  DEATH_EVENT death_event  \n",
       "0           130  yes      no     4            1         yes  \n",
       "1           136  yes      no     6            1         yes  \n",
       "2           129  yes     yes     7            1         yes  \n",
       "3           137  yes      no     7            1         yes  \n",
       "4           116   no      no     8            1         yes  "
      ]
     },
     "execution_count": 4,
     "metadata": {},
     "output_type": "execute_result"
    }
   ],
   "source": [
    "### See a snippet of data\n",
    "data.head(5)"
   ]
  },
  {
   "cell_type": "code",
   "execution_count": 5,
   "metadata": {},
   "outputs": [
    {
     "name": "stdout",
     "output_type": "stream",
     "text": [
      "Classes and number of values in the dataset:  Counter({'no': 203, 'yes': 96})\n"
     ]
    }
   ],
   "source": [
    "## 3. Print ditribution of death_event\n",
    "from collections import Counter\n",
    "counter_death_event = Counter(data[\"death_event\"])\n",
    "print('Classes and number of values in the dataset: ', counter_death_event)"
   ]
  },
  {
   "cell_type": "code",
   "execution_count": 6,
   "id": "37867026",
   "metadata": {},
   "outputs": [
    {
     "data": {
      "application/vnd.microsoft.datawrangler.viewer.v0+json": {
       "columns": [
        {
         "name": "index",
         "rawType": "int64",
         "type": "integer"
        },
        {
         "name": "death_event",
         "rawType": "object",
         "type": "string"
        }
       ],
       "ref": "9876396f-b409-43a6-8303-f5c4e527f3a4",
       "rows": [
        [
         "0",
         "yes"
        ],
        [
         "1",
         "yes"
        ],
        [
         "2",
         "yes"
        ],
        [
         "3",
         "yes"
        ],
        [
         "4",
         "yes"
        ]
       ],
       "shape": {
        "columns": 1,
        "rows": 5
       }
      },
      "text/plain": [
       "0    yes\n",
       "1    yes\n",
       "2    yes\n",
       "3    yes\n",
       "4    yes\n",
       "Name: death_event, dtype: object"
      ]
     },
     "execution_count": 6,
     "metadata": {},
     "output_type": "execute_result"
    }
   ],
   "source": [
    "## 4. Assign label\n",
    "y = data.pop(\"death_event\")\n",
    "y.head(5)"
   ]
  },
  {
   "cell_type": "code",
   "execution_count": 7,
   "id": "d76a0b2a",
   "metadata": {},
   "outputs": [
    {
     "data": {
      "application/vnd.microsoft.datawrangler.viewer.v0+json": {
       "columns": [
        {
         "name": "index",
         "rawType": "int64",
         "type": "integer"
        },
        {
         "name": "age",
         "rawType": "float64",
         "type": "float"
        },
        {
         "name": "anaemia",
         "rawType": "object",
         "type": "string"
        },
        {
         "name": "creatinine_phosphokinase",
         "rawType": "int64",
         "type": "integer"
        },
        {
         "name": "diabetes",
         "rawType": "object",
         "type": "string"
        },
        {
         "name": "ejection_fraction",
         "rawType": "int64",
         "type": "integer"
        },
        {
         "name": "high_blood_pressure",
         "rawType": "object",
         "type": "string"
        },
        {
         "name": "platelets",
         "rawType": "float64",
         "type": "float"
        },
        {
         "name": "serum_creatinine",
         "rawType": "float64",
         "type": "float"
        },
        {
         "name": "serum_sodium",
         "rawType": "int64",
         "type": "integer"
        },
        {
         "name": "sex",
         "rawType": "object",
         "type": "string"
        },
        {
         "name": "smoking",
         "rawType": "object",
         "type": "string"
        },
        {
         "name": "time",
         "rawType": "int64",
         "type": "integer"
        }
       ],
       "ref": "2549e600-8b7d-400d-9751-bfb734f89c5e",
       "rows": [
        [
         "0",
         "75.0",
         "no",
         "582",
         "no",
         "20",
         "yes",
         "265000.0",
         "1.9",
         "130",
         "yes",
         "no",
         "4"
        ],
        [
         "1",
         "55.0",
         "no",
         "7861",
         "no",
         "38",
         "no",
         "263358.03",
         "1.1",
         "136",
         "yes",
         "no",
         "6"
        ],
        [
         "2",
         "65.0",
         "no",
         "146",
         "no",
         "20",
         "no",
         "162000.0",
         "1.3",
         "129",
         "yes",
         "yes",
         "7"
        ],
        [
         "3",
         "50.0",
         "yes",
         "111",
         "no",
         "20",
         "no",
         "210000.0",
         "1.9",
         "137",
         "yes",
         "no",
         "7"
        ],
        [
         "4",
         "65.0",
         "yes",
         "160",
         "yes",
         "20",
         "no",
         "327000.0",
         "2.7",
         "116",
         "no",
         "no",
         "8"
        ]
       ],
       "shape": {
        "columns": 12,
        "rows": 5
       }
      },
      "text/html": [
       "<div>\n",
       "<style scoped>\n",
       "    .dataframe tbody tr th:only-of-type {\n",
       "        vertical-align: middle;\n",
       "    }\n",
       "\n",
       "    .dataframe tbody tr th {\n",
       "        vertical-align: top;\n",
       "    }\n",
       "\n",
       "    .dataframe thead th {\n",
       "        text-align: right;\n",
       "    }\n",
       "</style>\n",
       "<table border=\"1\" class=\"dataframe\">\n",
       "  <thead>\n",
       "    <tr style=\"text-align: right;\">\n",
       "      <th></th>\n",
       "      <th>age</th>\n",
       "      <th>anaemia</th>\n",
       "      <th>creatinine_phosphokinase</th>\n",
       "      <th>diabetes</th>\n",
       "      <th>ejection_fraction</th>\n",
       "      <th>high_blood_pressure</th>\n",
       "      <th>platelets</th>\n",
       "      <th>serum_creatinine</th>\n",
       "      <th>serum_sodium</th>\n",
       "      <th>sex</th>\n",
       "      <th>smoking</th>\n",
       "      <th>time</th>\n",
       "    </tr>\n",
       "  </thead>\n",
       "  <tbody>\n",
       "    <tr>\n",
       "      <th>0</th>\n",
       "      <td>75.0</td>\n",
       "      <td>no</td>\n",
       "      <td>582</td>\n",
       "      <td>no</td>\n",
       "      <td>20</td>\n",
       "      <td>yes</td>\n",
       "      <td>265000.00</td>\n",
       "      <td>1.9</td>\n",
       "      <td>130</td>\n",
       "      <td>yes</td>\n",
       "      <td>no</td>\n",
       "      <td>4</td>\n",
       "    </tr>\n",
       "    <tr>\n",
       "      <th>1</th>\n",
       "      <td>55.0</td>\n",
       "      <td>no</td>\n",
       "      <td>7861</td>\n",
       "      <td>no</td>\n",
       "      <td>38</td>\n",
       "      <td>no</td>\n",
       "      <td>263358.03</td>\n",
       "      <td>1.1</td>\n",
       "      <td>136</td>\n",
       "      <td>yes</td>\n",
       "      <td>no</td>\n",
       "      <td>6</td>\n",
       "    </tr>\n",
       "    <tr>\n",
       "      <th>2</th>\n",
       "      <td>65.0</td>\n",
       "      <td>no</td>\n",
       "      <td>146</td>\n",
       "      <td>no</td>\n",
       "      <td>20</td>\n",
       "      <td>no</td>\n",
       "      <td>162000.00</td>\n",
       "      <td>1.3</td>\n",
       "      <td>129</td>\n",
       "      <td>yes</td>\n",
       "      <td>yes</td>\n",
       "      <td>7</td>\n",
       "    </tr>\n",
       "    <tr>\n",
       "      <th>3</th>\n",
       "      <td>50.0</td>\n",
       "      <td>yes</td>\n",
       "      <td>111</td>\n",
       "      <td>no</td>\n",
       "      <td>20</td>\n",
       "      <td>no</td>\n",
       "      <td>210000.00</td>\n",
       "      <td>1.9</td>\n",
       "      <td>137</td>\n",
       "      <td>yes</td>\n",
       "      <td>no</td>\n",
       "      <td>7</td>\n",
       "    </tr>\n",
       "    <tr>\n",
       "      <th>4</th>\n",
       "      <td>65.0</td>\n",
       "      <td>yes</td>\n",
       "      <td>160</td>\n",
       "      <td>yes</td>\n",
       "      <td>20</td>\n",
       "      <td>no</td>\n",
       "      <td>327000.00</td>\n",
       "      <td>2.7</td>\n",
       "      <td>116</td>\n",
       "      <td>no</td>\n",
       "      <td>no</td>\n",
       "      <td>8</td>\n",
       "    </tr>\n",
       "  </tbody>\n",
       "</table>\n",
       "</div>"
      ],
      "text/plain": [
       "    age anaemia  creatinine_phosphokinase diabetes  ejection_fraction  \\\n",
       "0  75.0      no                       582       no                 20   \n",
       "1  55.0      no                      7861       no                 38   \n",
       "2  65.0      no                       146       no                 20   \n",
       "3  50.0     yes                       111       no                 20   \n",
       "4  65.0     yes                       160      yes                 20   \n",
       "\n",
       "  high_blood_pressure  platelets  serum_creatinine  serum_sodium  sex smoking  \\\n",
       "0                 yes  265000.00               1.9           130  yes      no   \n",
       "1                  no  263358.03               1.1           136  yes      no   \n",
       "2                  no  162000.00               1.3           129  yes     yes   \n",
       "3                  no  210000.00               1.9           137  yes      no   \n",
       "4                  no  327000.00               2.7           116   no      no   \n",
       "\n",
       "   time  \n",
       "0     4  \n",
       "1     6  \n",
       "2     7  \n",
       "3     7  \n",
       "4     8  "
      ]
     },
     "execution_count": 7,
     "metadata": {},
     "output_type": "execute_result"
    }
   ],
   "source": [
    "## 5. Extract useful features\n",
    "X = data.loc[:, ['age','anaemia','creatinine_phosphokinase','diabetes','ejection_fraction','high_blood_pressure','platelets','serum_creatinine','serum_sodium','sex','smoking','time']]\n",
    "X.head(5)"
   ]
  },
  {
   "cell_type": "code",
   "execution_count": 8,
   "id": "fca0402e",
   "metadata": {},
   "outputs": [
    {
     "name": "stdout",
     "output_type": "stream",
     "text": [
      "['anaemia', 'diabetes', 'high_blood_pressure', 'sex', 'smoking']\n",
      "['age', 'creatinine_phosphokinase', 'ejection_fraction', 'platelets', 'serum_creatinine', 'serum_sodium', 'time', 'anaemia_no', 'anaemia_yes', 'diabetes_no', 'diabetes_yes', 'high_blood_pressure_no', 'high_blood_pressure_yes', 'sex_no', 'sex_yes', 'smoking_no', 'smoking_yes']\n"
     ]
    }
   ],
   "source": [
    "# Data Preprocessing\n",
    "## 6. One-hot encoding for categorical features\n",
    "cat_cols = X.select_dtypes(include = 'object').columns.tolist()\n",
    "print(cat_cols)\n",
    "\n",
    "X = pd.get_dummies(X, columns = cat_cols)\n",
    "print(X.columns.tolist())"
   ]
  },
  {
   "cell_type": "code",
   "execution_count": 9,
   "id": "678a620c",
   "metadata": {},
   "outputs": [],
   "source": [
    "## 7. Split the data\n",
    "from sklearn.model_selection import train_test_split\n",
    "X_train, X_test, y_train, y_test = train_test_split(\n",
    "  X, y, test_size = 0.20, train_size = 0.80, random_state = 42\n",
    "  )"
   ]
  },
  {
   "cell_type": "code",
   "execution_count": 10,
   "id": "c2256b5f",
   "metadata": {},
   "outputs": [
    {
     "name": "stdout",
     "output_type": "stream",
     "text": [
      "New class distribution after SMOTE: Counter({'yes': 168, 'no': 168})\n"
     ]
    }
   ],
   "source": [
    "### Apply SMOTE as the data is imbalanced\n",
    "from imblearn.over_sampling import SMOTE\n",
    "smote = SMOTE(random_state=42)\n",
    "\n",
    "# Use y_train before one-hot encoding\n",
    "X_train, y_train_res = smote.fit_resample(X_train, y_train)\n",
    "\n",
    "print(\"New class distribution after SMOTE:\", Counter(y_train_res))"
   ]
  },
  {
   "cell_type": "code",
   "execution_count": 11,
   "id": "d84b0e42",
   "metadata": {},
   "outputs": [],
   "source": [
    "## 8. and 9. Scale the numeric features for normalisation\n",
    "from sklearn.compose import ColumnTransformer\n",
    "from sklearn.preprocessing import StandardScaler\n",
    "\n",
    "### get numeric column names\n",
    "numeric_cols = X.select_dtypes(include = [\"int64\", \"float64\"]).columns.tolist()\n",
    "\n",
    "### define the tranformer (necessary for ColumnTransformer)\n",
    "transformer = [(\"My_Standard_Scaler\",  StandardScaler(), numeric_cols)]\n",
    "\n",
    "### set the column transformer settings\n",
    "my_ct = ColumnTransformer(transformer, remainder='passthrough', verbose=False) \n",
    "\n",
    "### fit the scaler and transform data\n",
    "X_train_scaled = my_ct.fit_transform(X_train)\n",
    "X_test_scaled = my_ct.transform(X_test)"
   ]
  },
  {
   "cell_type": "code",
   "execution_count": 12,
   "id": "bc165314",
   "metadata": {},
   "outputs": [
    {
     "data": {
      "application/vnd.microsoft.datawrangler.viewer.v0+json": {
       "columns": [
        {
         "name": "index",
         "rawType": "int64",
         "type": "integer"
        },
        {
         "name": "age",
         "rawType": "float64",
         "type": "float"
        },
        {
         "name": "creatinine_phosphokinase",
         "rawType": "float64",
         "type": "float"
        },
        {
         "name": "ejection_fraction",
         "rawType": "float64",
         "type": "float"
        },
        {
         "name": "platelets",
         "rawType": "float64",
         "type": "float"
        },
        {
         "name": "serum_creatinine",
         "rawType": "float64",
         "type": "float"
        },
        {
         "name": "serum_sodium",
         "rawType": "float64",
         "type": "float"
        },
        {
         "name": "time",
         "rawType": "float64",
         "type": "float"
        },
        {
         "name": "anaemia_no",
         "rawType": "float64",
         "type": "float"
        },
        {
         "name": "anaemia_yes",
         "rawType": "float64",
         "type": "float"
        },
        {
         "name": "diabetes_no",
         "rawType": "float64",
         "type": "float"
        },
        {
         "name": "diabetes_yes",
         "rawType": "float64",
         "type": "float"
        },
        {
         "name": "high_blood_pressure_no",
         "rawType": "float64",
         "type": "float"
        },
        {
         "name": "high_blood_pressure_yes",
         "rawType": "float64",
         "type": "float"
        },
        {
         "name": "sex_no",
         "rawType": "float64",
         "type": "float"
        },
        {
         "name": "sex_yes",
         "rawType": "float64",
         "type": "float"
        },
        {
         "name": "smoking_no",
         "rawType": "float64",
         "type": "float"
        },
        {
         "name": "smoking_yes",
         "rawType": "float64",
         "type": "float"
        }
       ],
       "ref": "e69cb872-73d3-4bda-94e0-54aaf72031d7",
       "rows": [
        [
         "0",
         "1.0611190654405644",
         "-0.36822757023007113",
         "-1.8773219787506332",
         "-1.3173129092548963",
         "-0.3062886827509588",
         "0.2359228806835799",
         "-1.3388552904065323",
         "0.0",
         "1.0",
         "1.0",
         "0.0",
         "1.0",
         "0.0",
         "0.0",
         "1.0",
         "1.0",
         "0.0"
        ],
        [
         "1",
         "1.0611190654405644",
         "-0.5177380073867923",
         "0.11771986005366979",
         "-0.3138765156943147",
         "0.9536282346384429",
         "-0.4655823220569678",
         "0.6197267842853336",
         "1.0",
         "0.0",
         "1.0",
         "0.0",
         "0.0",
         "1.0",
         "0.0",
         "1.0",
         "1.0",
         "0.0"
        ],
        [
         "2",
         "-0.15653042858987593",
         "-0.5126526183678562",
         "-0.5762077360521748",
         "1.3929998238674994",
         "-0.015538624891866032",
         "0.0020878131033973354",
         "0.7356954597605099",
         "0.0",
         "1.0",
         "0.0",
         "1.0",
         "1.0",
         "0.0",
         "0.0",
         "1.0",
         "1.0",
         "0.0"
        ],
        [
         "3",
         "-0.8928290516807732",
         "-0.48417443986181413",
         "-0.5762077360521748",
         "-0.3759447462238352",
         "-0.7908721125161132",
         "0.0020878131033973354",
         "-0.02454363502120124",
         "1.0",
         "0.0",
         "1.0",
         "0.0",
         "1.0",
         "0.0",
         "0.0",
         "1.0",
         "0.0",
         "1.0"
        ],
        [
         "4",
         "2.6752501187147133",
         "-0.026489428157565383",
         "0.11771986005366979",
         "0.09327069751031633",
         "0.304286438753136",
         "-0.4655823220569678",
         "-1.1198033478423104",
         "1.0",
         "0.0",
         "0.0",
         "1.0",
         "0.0",
         "1.0",
         "0.0",
         "1.0",
         "1.0",
         "0.0"
        ]
       ],
       "shape": {
        "columns": 17,
        "rows": 5
       }
      },
      "text/html": [
       "<div>\n",
       "<style scoped>\n",
       "    .dataframe tbody tr th:only-of-type {\n",
       "        vertical-align: middle;\n",
       "    }\n",
       "\n",
       "    .dataframe tbody tr th {\n",
       "        vertical-align: top;\n",
       "    }\n",
       "\n",
       "    .dataframe thead th {\n",
       "        text-align: right;\n",
       "    }\n",
       "</style>\n",
       "<table border=\"1\" class=\"dataframe\">\n",
       "  <thead>\n",
       "    <tr style=\"text-align: right;\">\n",
       "      <th></th>\n",
       "      <th>age</th>\n",
       "      <th>creatinine_phosphokinase</th>\n",
       "      <th>ejection_fraction</th>\n",
       "      <th>platelets</th>\n",
       "      <th>serum_creatinine</th>\n",
       "      <th>serum_sodium</th>\n",
       "      <th>time</th>\n",
       "      <th>anaemia_no</th>\n",
       "      <th>anaemia_yes</th>\n",
       "      <th>diabetes_no</th>\n",
       "      <th>diabetes_yes</th>\n",
       "      <th>high_blood_pressure_no</th>\n",
       "      <th>high_blood_pressure_yes</th>\n",
       "      <th>sex_no</th>\n",
       "      <th>sex_yes</th>\n",
       "      <th>smoking_no</th>\n",
       "      <th>smoking_yes</th>\n",
       "    </tr>\n",
       "  </thead>\n",
       "  <tbody>\n",
       "    <tr>\n",
       "      <th>0</th>\n",
       "      <td>1.061119</td>\n",
       "      <td>-0.368228</td>\n",
       "      <td>-1.877322</td>\n",
       "      <td>-1.317313</td>\n",
       "      <td>-0.306289</td>\n",
       "      <td>0.235923</td>\n",
       "      <td>-1.338855</td>\n",
       "      <td>0.0</td>\n",
       "      <td>1.0</td>\n",
       "      <td>1.0</td>\n",
       "      <td>0.0</td>\n",
       "      <td>1.0</td>\n",
       "      <td>0.0</td>\n",
       "      <td>0.0</td>\n",
       "      <td>1.0</td>\n",
       "      <td>1.0</td>\n",
       "      <td>0.0</td>\n",
       "    </tr>\n",
       "    <tr>\n",
       "      <th>1</th>\n",
       "      <td>1.061119</td>\n",
       "      <td>-0.517738</td>\n",
       "      <td>0.117720</td>\n",
       "      <td>-0.313877</td>\n",
       "      <td>0.953628</td>\n",
       "      <td>-0.465582</td>\n",
       "      <td>0.619727</td>\n",
       "      <td>1.0</td>\n",
       "      <td>0.0</td>\n",
       "      <td>1.0</td>\n",
       "      <td>0.0</td>\n",
       "      <td>0.0</td>\n",
       "      <td>1.0</td>\n",
       "      <td>0.0</td>\n",
       "      <td>1.0</td>\n",
       "      <td>1.0</td>\n",
       "      <td>0.0</td>\n",
       "    </tr>\n",
       "    <tr>\n",
       "      <th>2</th>\n",
       "      <td>-0.156530</td>\n",
       "      <td>-0.512653</td>\n",
       "      <td>-0.576208</td>\n",
       "      <td>1.393000</td>\n",
       "      <td>-0.015539</td>\n",
       "      <td>0.002088</td>\n",
       "      <td>0.735695</td>\n",
       "      <td>0.0</td>\n",
       "      <td>1.0</td>\n",
       "      <td>0.0</td>\n",
       "      <td>1.0</td>\n",
       "      <td>1.0</td>\n",
       "      <td>0.0</td>\n",
       "      <td>0.0</td>\n",
       "      <td>1.0</td>\n",
       "      <td>1.0</td>\n",
       "      <td>0.0</td>\n",
       "    </tr>\n",
       "    <tr>\n",
       "      <th>3</th>\n",
       "      <td>-0.892829</td>\n",
       "      <td>-0.484174</td>\n",
       "      <td>-0.576208</td>\n",
       "      <td>-0.375945</td>\n",
       "      <td>-0.790872</td>\n",
       "      <td>0.002088</td>\n",
       "      <td>-0.024544</td>\n",
       "      <td>1.0</td>\n",
       "      <td>0.0</td>\n",
       "      <td>1.0</td>\n",
       "      <td>0.0</td>\n",
       "      <td>1.0</td>\n",
       "      <td>0.0</td>\n",
       "      <td>0.0</td>\n",
       "      <td>1.0</td>\n",
       "      <td>0.0</td>\n",
       "      <td>1.0</td>\n",
       "    </tr>\n",
       "    <tr>\n",
       "      <th>4</th>\n",
       "      <td>2.675250</td>\n",
       "      <td>-0.026489</td>\n",
       "      <td>0.117720</td>\n",
       "      <td>0.093271</td>\n",
       "      <td>0.304286</td>\n",
       "      <td>-0.465582</td>\n",
       "      <td>-1.119803</td>\n",
       "      <td>1.0</td>\n",
       "      <td>0.0</td>\n",
       "      <td>0.0</td>\n",
       "      <td>1.0</td>\n",
       "      <td>0.0</td>\n",
       "      <td>1.0</td>\n",
       "      <td>0.0</td>\n",
       "      <td>1.0</td>\n",
       "      <td>1.0</td>\n",
       "      <td>0.0</td>\n",
       "    </tr>\n",
       "  </tbody>\n",
       "</table>\n",
       "</div>"
      ],
      "text/plain": [
       "        age  creatinine_phosphokinase  ejection_fraction  platelets  \\\n",
       "0  1.061119                 -0.368228          -1.877322  -1.317313   \n",
       "1  1.061119                 -0.517738           0.117720  -0.313877   \n",
       "2 -0.156530                 -0.512653          -0.576208   1.393000   \n",
       "3 -0.892829                 -0.484174          -0.576208  -0.375945   \n",
       "4  2.675250                 -0.026489           0.117720   0.093271   \n",
       "\n",
       "   serum_creatinine  serum_sodium      time  anaemia_no  anaemia_yes  \\\n",
       "0         -0.306289      0.235923 -1.338855         0.0          1.0   \n",
       "1          0.953628     -0.465582  0.619727         1.0          0.0   \n",
       "2         -0.015539      0.002088  0.735695         0.0          1.0   \n",
       "3         -0.790872      0.002088 -0.024544         1.0          0.0   \n",
       "4          0.304286     -0.465582 -1.119803         1.0          0.0   \n",
       "\n",
       "   diabetes_no  diabetes_yes  high_blood_pressure_no  high_blood_pressure_yes  \\\n",
       "0          1.0           0.0                     1.0                      0.0   \n",
       "1          1.0           0.0                     0.0                      1.0   \n",
       "2          0.0           1.0                     1.0                      0.0   \n",
       "3          1.0           0.0                     1.0                      0.0   \n",
       "4          0.0           1.0                     0.0                      1.0   \n",
       "\n",
       "   sex_no  sex_yes  smoking_no  smoking_yes  \n",
       "0     0.0      1.0         1.0          0.0  \n",
       "1     0.0      1.0         1.0          0.0  \n",
       "2     0.0      1.0         1.0          0.0  \n",
       "3     0.0      1.0         0.0          1.0  \n",
       "4     0.0      1.0         1.0          0.0  "
      ]
     },
     "execution_count": 12,
     "metadata": {},
     "output_type": "execute_result"
    }
   ],
   "source": [
    "### Visualise the normalised data\n",
    "X_train_scaled_df = pd.DataFrame(X_train_scaled, columns=X_train.columns.tolist())\n",
    "X_train_scaled_df.head(5)"
   ]
  },
  {
   "cell_type": "code",
   "execution_count": 13,
   "id": "4db5d9fb",
   "metadata": {},
   "outputs": [
    {
     "name": "stdout",
     "output_type": "stream",
     "text": [
      "un-processed labels: \n",
      " 6      yes\n",
      "183    yes\n",
      "185    yes\n",
      "146     no\n",
      "Name: death_event, dtype: object\n",
      "label-encoded, categorical labels: \n",
      " [[0. 1.]\n",
      " [0. 1.]\n",
      " [0. 1.]\n",
      " [1. 0.]]\n"
     ]
    }
   ],
   "source": [
    "# Prepare labels for classification #\n",
    "## 11. Initialise label encoder\n",
    "from sklearn.preprocessing import LabelEncoder\n",
    "le = LabelEncoder()\n",
    "print(\"un-processed labels: \\n\", y_train[0:4])\n",
    "\n",
    "## 12. and 13. Fit the encoder and transform labels\n",
    "y_train = le.fit_transform(y_train_res)\n",
    "y_test = le.transform(y_test)\n",
    "\n",
    "## 14. and 15. Convert encoded labels into binary vector\n",
    "from tensorflow.keras.utils import to_categorical\n",
    "y_train = to_categorical(y_train)\n",
    "y_test = to_categorical(y_test)\n",
    "\n",
    "print(\"label-encoded, categorical labels: \\n\", y_train[0:4])"
   ]
  },
  {
   "cell_type": "code",
   "execution_count": 14,
   "id": "25a9e167",
   "metadata": {},
   "outputs": [
    {
     "data": {
      "text/html": [
       "<pre style=\"white-space:pre;overflow-x:auto;line-height:normal;font-family:Menlo,'DejaVu Sans Mono',consolas,'Courier New',monospace\"><span style=\"font-weight: bold\">Model: \"sequential\"</span>\n",
       "</pre>\n"
      ],
      "text/plain": [
       "\u001b[1mModel: \"sequential\"\u001b[0m\n"
      ]
     },
     "metadata": {},
     "output_type": "display_data"
    },
    {
     "data": {
      "text/html": [
       "<pre style=\"white-space:pre;overflow-x:auto;line-height:normal;font-family:Menlo,'DejaVu Sans Mono',consolas,'Courier New',monospace\">┏━━━━━━━━━━━━━━━━━━━━━━━━━━━━━━━━━┳━━━━━━━━━━━━━━━━━━━━━━━━┳━━━━━━━━━━━━━━━┓\n",
       "┃<span style=\"font-weight: bold\"> Layer (type)                    </span>┃<span style=\"font-weight: bold\"> Output Shape           </span>┃<span style=\"font-weight: bold\">       Param # </span>┃\n",
       "┡━━━━━━━━━━━━━━━━━━━━━━━━━━━━━━━━━╇━━━━━━━━━━━━━━━━━━━━━━━━╇━━━━━━━━━━━━━━━┩\n",
       "│ Hidden_Layer1 (<span style=\"color: #0087ff; text-decoration-color: #0087ff\">Dense</span>)           │ (<span style=\"color: #00d7ff; text-decoration-color: #00d7ff\">None</span>, <span style=\"color: #00af00; text-decoration-color: #00af00\">16</span>)             │           <span style=\"color: #00af00; text-decoration-color: #00af00\">288</span> │\n",
       "├─────────────────────────────────┼────────────────────────┼───────────────┤\n",
       "│ Output_Layer (<span style=\"color: #0087ff; text-decoration-color: #0087ff\">Dense</span>)            │ (<span style=\"color: #00d7ff; text-decoration-color: #00d7ff\">None</span>, <span style=\"color: #00af00; text-decoration-color: #00af00\">2</span>)              │            <span style=\"color: #00af00; text-decoration-color: #00af00\">34</span> │\n",
       "└─────────────────────────────────┴────────────────────────┴───────────────┘\n",
       "</pre>\n"
      ],
      "text/plain": [
       "┏━━━━━━━━━━━━━━━━━━━━━━━━━━━━━━━━━┳━━━━━━━━━━━━━━━━━━━━━━━━┳━━━━━━━━━━━━━━━┓\n",
       "┃\u001b[1m \u001b[0m\u001b[1mLayer (type)                   \u001b[0m\u001b[1m \u001b[0m┃\u001b[1m \u001b[0m\u001b[1mOutput Shape          \u001b[0m\u001b[1m \u001b[0m┃\u001b[1m \u001b[0m\u001b[1m      Param #\u001b[0m\u001b[1m \u001b[0m┃\n",
       "┡━━━━━━━━━━━━━━━━━━━━━━━━━━━━━━━━━╇━━━━━━━━━━━━━━━━━━━━━━━━╇━━━━━━━━━━━━━━━┩\n",
       "│ Hidden_Layer1 (\u001b[38;5;33mDense\u001b[0m)           │ (\u001b[38;5;45mNone\u001b[0m, \u001b[38;5;34m16\u001b[0m)             │           \u001b[38;5;34m288\u001b[0m │\n",
       "├─────────────────────────────────┼────────────────────────┼───────────────┤\n",
       "│ Output_Layer (\u001b[38;5;33mDense\u001b[0m)            │ (\u001b[38;5;45mNone\u001b[0m, \u001b[38;5;34m2\u001b[0m)              │            \u001b[38;5;34m34\u001b[0m │\n",
       "└─────────────────────────────────┴────────────────────────┴───────────────┘\n"
      ]
     },
     "metadata": {},
     "output_type": "display_data"
    },
    {
     "data": {
      "text/html": [
       "<pre style=\"white-space:pre;overflow-x:auto;line-height:normal;font-family:Menlo,'DejaVu Sans Mono',consolas,'Courier New',monospace\"><span style=\"font-weight: bold\"> Total params: </span><span style=\"color: #00af00; text-decoration-color: #00af00\">322</span> (1.26 KB)\n",
       "</pre>\n"
      ],
      "text/plain": [
       "\u001b[1m Total params: \u001b[0m\u001b[38;5;34m322\u001b[0m (1.26 KB)\n"
      ]
     },
     "metadata": {},
     "output_type": "display_data"
    },
    {
     "data": {
      "text/html": [
       "<pre style=\"white-space:pre;overflow-x:auto;line-height:normal;font-family:Menlo,'DejaVu Sans Mono',consolas,'Courier New',monospace\"><span style=\"font-weight: bold\"> Trainable params: </span><span style=\"color: #00af00; text-decoration-color: #00af00\">322</span> (1.26 KB)\n",
       "</pre>\n"
      ],
      "text/plain": [
       "\u001b[1m Trainable params: \u001b[0m\u001b[38;5;34m322\u001b[0m (1.26 KB)\n"
      ]
     },
     "metadata": {},
     "output_type": "display_data"
    },
    {
     "data": {
      "text/html": [
       "<pre style=\"white-space:pre;overflow-x:auto;line-height:normal;font-family:Menlo,'DejaVu Sans Mono',consolas,'Courier New',monospace\"><span style=\"font-weight: bold\"> Non-trainable params: </span><span style=\"color: #00af00; text-decoration-color: #00af00\">0</span> (0.00 B)\n",
       "</pre>\n"
      ],
      "text/plain": [
       "\u001b[1m Non-trainable params: \u001b[0m\u001b[38;5;34m0\u001b[0m (0.00 B)\n"
      ]
     },
     "metadata": {},
     "output_type": "display_data"
    },
    {
     "name": "stdout",
     "output_type": "stream",
     "text": [
      "None\n"
     ]
    }
   ],
   "source": [
    "# Design the model\n",
    "## 16. Initialise a sequential model\n",
    "from tensorflow.keras.models import Sequential\n",
    "my_model = Sequential()\n",
    "\n",
    "## 17. Create and add the input layer to the model\n",
    "from tensorflow.keras.layers import InputLayer\n",
    "my_model.add(\n",
    "  InputLayer(\n",
    "    shape=(X_train_scaled.shape[1], ),\n",
    "    name=\"Input_Layer\",   \n",
    "  )\n",
    ")\n",
    "\n",
    "## 18. Create and add the hidden dense layer(s) to the model\n",
    "from tensorflow.keras.layers import Dense\n",
    "from tensorflow.keras import regularizers\n",
    "\n",
    "my_model.add(\n",
    "  Dense(\n",
    "    units = 16,\n",
    "    activation = 'relu',    \n",
    "    use_bias = True,\n",
    "    kernel_regularizer = regularizers.L1L2(0.01),\n",
    "    name = \"Hidden_Layer1\"\n",
    "  )\n",
    ")\n",
    "\n",
    "## 19. Create and add the output layer to the model\n",
    "my_model.add(\n",
    "  Dense(\n",
    "    units = len(y_train[1]),\n",
    "    activation = 'softmax',    \n",
    "    use_bias = True,\n",
    "    kernel_regularizer = regularizers.L1L2(0.001),\n",
    "    name = \"Output_Layer\"\n",
    "  )\n",
    ")\n",
    "\n",
    "## Visualise the model\n",
    "print(my_model.summary())"
   ]
  },
  {
   "cell_type": "code",
   "execution_count": 15,
   "id": "07accedc",
   "metadata": {},
   "outputs": [],
   "source": [
    "## 20. Compile the model\n",
    "### Create Optimizer\n",
    "from tensorflow.keras.optimizers import Adam\n",
    "my_optimizer = Adam(learning_rate=0.001)\n",
    "\n",
    "### Define Loss\n",
    "from tensorflow.keras.losses import CategoricalCrossentropy\n",
    "my_loss = CategoricalCrossentropy()\n",
    "\n",
    "### Compile\n",
    "from tensorflow.keras.metrics import AUC, Precision, Recall\n",
    "\n",
    "my_model.compile(\n",
    "    optimizer = my_optimizer,\n",
    "    loss = my_loss,\n",
    "    metrics = [\n",
    "        'categorical_accuracy',\n",
    "        AUC(name='auc'),\n",
    "        Precision(name='precision'),\n",
    "        Recall(name='recall')\n",
    "    ]\n",
    ")"
   ]
  },
  {
   "cell_type": "code",
   "execution_count": 16,
   "id": "6f672757",
   "metadata": {},
   "outputs": [
    {
     "name": "stdout",
     "output_type": "stream",
     "text": [
      "Epoch 1/100\n",
      "\u001b[1m168/168\u001b[0m \u001b[32m━━━━━━━━━━━━━━━━━━━━\u001b[0m\u001b[37m\u001b[0m \u001b[1m2s\u001b[0m 5ms/step - auc: 0.5671 - categorical_accuracy: 0.5206 - loss: 1.3255 - precision: 0.5206 - recall: 0.5206 - val_auc: 0.6886 - val_categorical_accuracy: 0.6167 - val_loss: 1.1621 - val_precision: 0.6167 - val_recall: 0.6167\n",
      "Epoch 2/100\n",
      "\u001b[1m168/168\u001b[0m \u001b[32m━━━━━━━━━━━━━━━━━━━━\u001b[0m\u001b[37m\u001b[0m \u001b[1m0s\u001b[0m 2ms/step - auc: 0.8452 - categorical_accuracy: 0.7631 - loss: 1.0126 - precision: 0.7631 - recall: 0.7631 - val_auc: 0.7872 - val_categorical_accuracy: 0.6667 - val_loss: 0.9974 - val_precision: 0.6667 - val_recall: 0.6667\n",
      "Epoch 3/100\n",
      "\u001b[1m168/168\u001b[0m \u001b[32m━━━━━━━━━━━━━━━━━━━━\u001b[0m\u001b[37m\u001b[0m \u001b[1m0s\u001b[0m 2ms/step - auc: 0.8940 - categorical_accuracy: 0.7865 - loss: 0.8741 - precision: 0.7865 - recall: 0.7865 - val_auc: 0.8308 - val_categorical_accuracy: 0.7333 - val_loss: 0.9078 - val_precision: 0.7333 - val_recall: 0.7333\n",
      "Epoch 4/100\n",
      "\u001b[1m168/168\u001b[0m \u001b[32m━━━━━━━━━━━━━━━━━━━━\u001b[0m\u001b[37m\u001b[0m \u001b[1m0s\u001b[0m 2ms/step - auc: 0.9226 - categorical_accuracy: 0.8807 - loss: 0.7670 - precision: 0.8807 - recall: 0.8807 - val_auc: 0.8363 - val_categorical_accuracy: 0.7500 - val_loss: 0.8597 - val_precision: 0.7500 - val_recall: 0.7500\n",
      "Epoch 5/100\n",
      "\u001b[1m168/168\u001b[0m \u001b[32m━━━━━━━━━━━━━━━━━━━━\u001b[0m\u001b[37m\u001b[0m \u001b[1m0s\u001b[0m 2ms/step - auc: 0.9396 - categorical_accuracy: 0.8796 - loss: 0.6865 - precision: 0.8796 - recall: 0.8796 - val_auc: 0.8372 - val_categorical_accuracy: 0.7667 - val_loss: 0.8276 - val_precision: 0.7667 - val_recall: 0.7667\n",
      "Epoch 6/100\n",
      "\u001b[1m168/168\u001b[0m \u001b[32m━━━━━━━━━━━━━━━━━━━━\u001b[0m\u001b[37m\u001b[0m \u001b[1m0s\u001b[0m 2ms/step - auc: 0.9366 - categorical_accuracy: 0.8637 - loss: 0.6484 - precision: 0.8637 - recall: 0.8637 - val_auc: 0.8368 - val_categorical_accuracy: 0.7667 - val_loss: 0.8046 - val_precision: 0.7667 - val_recall: 0.7667\n",
      "Epoch 7/100\n",
      "\u001b[1m168/168\u001b[0m \u001b[32m━━━━━━━━━━━━━━━━━━━━\u001b[0m\u001b[37m\u001b[0m \u001b[1m0s\u001b[0m 3ms/step - auc: 0.9229 - categorical_accuracy: 0.8180 - loss: 0.6471 - precision: 0.8180 - recall: 0.8180 - val_auc: 0.8375 - val_categorical_accuracy: 0.7500 - val_loss: 0.7848 - val_precision: 0.7500 - val_recall: 0.7500\n",
      "Epoch 8/100\n",
      "\u001b[1m168/168\u001b[0m \u001b[32m━━━━━━━━━━━━━━━━━━━━\u001b[0m\u001b[37m\u001b[0m \u001b[1m0s\u001b[0m 2ms/step - auc: 0.9249 - categorical_accuracy: 0.8232 - loss: 0.6213 - precision: 0.8232 - recall: 0.8232 - val_auc: 0.8364 - val_categorical_accuracy: 0.7833 - val_loss: 0.7713 - val_precision: 0.7833 - val_recall: 0.7833\n",
      "Epoch 9/100\n",
      "\u001b[1m168/168\u001b[0m \u001b[32m━━━━━━━━━━━━━━━━━━━━\u001b[0m\u001b[37m\u001b[0m \u001b[1m0s\u001b[0m 2ms/step - auc: 0.9499 - categorical_accuracy: 0.8758 - loss: 0.5484 - precision: 0.8758 - recall: 0.8758 - val_auc: 0.8425 - val_categorical_accuracy: 0.7833 - val_loss: 0.7485 - val_precision: 0.7833 - val_recall: 0.7833\n",
      "Epoch 10/100\n",
      "\u001b[1m168/168\u001b[0m \u001b[32m━━━━━━━━━━━━━━━━━━━━\u001b[0m\u001b[37m\u001b[0m \u001b[1m0s\u001b[0m 2ms/step - auc: 0.9548 - categorical_accuracy: 0.8747 - loss: 0.5175 - precision: 0.8747 - recall: 0.8747 - val_auc: 0.8415 - val_categorical_accuracy: 0.8000 - val_loss: 0.7379 - val_precision: 0.8000 - val_recall: 0.8000\n",
      "Epoch 11/100\n",
      "\u001b[1m168/168\u001b[0m \u001b[32m━━━━━━━━━━━━━━━━━━━━\u001b[0m\u001b[37m\u001b[0m \u001b[1m0s\u001b[0m 2ms/step - auc: 0.9498 - categorical_accuracy: 0.8665 - loss: 0.5223 - precision: 0.8665 - recall: 0.8665 - val_auc: 0.8425 - val_categorical_accuracy: 0.8000 - val_loss: 0.7218 - val_precision: 0.8000 - val_recall: 0.8000\n",
      "Epoch 12/100\n",
      "\u001b[1m168/168\u001b[0m \u001b[32m━━━━━━━━━━━━━━━━━━━━\u001b[0m\u001b[37m\u001b[0m \u001b[1m0s\u001b[0m 2ms/step - auc: 0.9499 - categorical_accuracy: 0.8673 - loss: 0.5011 - precision: 0.8673 - recall: 0.8673 - val_auc: 0.8383 - val_categorical_accuracy: 0.7833 - val_loss: 0.7233 - val_precision: 0.7833 - val_recall: 0.7833\n",
      "Epoch 13/100\n",
      "\u001b[1m168/168\u001b[0m \u001b[32m━━━━━━━━━━━━━━━━━━━━\u001b[0m\u001b[37m\u001b[0m \u001b[1m0s\u001b[0m 2ms/step - auc: 0.9540 - categorical_accuracy: 0.8823 - loss: 0.4784 - precision: 0.8823 - recall: 0.8823 - val_auc: 0.8414 - val_categorical_accuracy: 0.8000 - val_loss: 0.7016 - val_precision: 0.8000 - val_recall: 0.8000\n",
      "Epoch 14/100\n",
      "\u001b[1m168/168\u001b[0m \u001b[32m━━━━━━━━━━━━━━━━━━━━\u001b[0m\u001b[37m\u001b[0m \u001b[1m0s\u001b[0m 2ms/step - auc: 0.9563 - categorical_accuracy: 0.8820 - loss: 0.4638 - precision: 0.8820 - recall: 0.8820 - val_auc: 0.8406 - val_categorical_accuracy: 0.8000 - val_loss: 0.6893 - val_precision: 0.8000 - val_recall: 0.8000\n",
      "Epoch 15/100\n",
      "\u001b[1m168/168\u001b[0m \u001b[32m━━━━━━━━━━━━━━━━━━━━\u001b[0m\u001b[37m\u001b[0m \u001b[1m0s\u001b[0m 2ms/step - auc: 0.9557 - categorical_accuracy: 0.8890 - loss: 0.4572 - precision: 0.8890 - recall: 0.8890 - val_auc: 0.8414 - val_categorical_accuracy: 0.8167 - val_loss: 0.6853 - val_precision: 0.8167 - val_recall: 0.8167\n",
      "Epoch 16/100\n",
      "\u001b[1m168/168\u001b[0m \u001b[32m━━━━━━━━━━━━━━━━━━━━\u001b[0m\u001b[37m\u001b[0m \u001b[1m0s\u001b[0m 3ms/step - auc: 0.9552 - categorical_accuracy: 0.8771 - loss: 0.4653 - precision: 0.8771 - recall: 0.8771 - val_auc: 0.8386 - val_categorical_accuracy: 0.8167 - val_loss: 0.6785 - val_precision: 0.8167 - val_recall: 0.8167\n",
      "Epoch 17/100\n",
      "\u001b[1m168/168\u001b[0m \u001b[32m━━━━━━━━━━━━━━━━━━━━\u001b[0m\u001b[37m\u001b[0m \u001b[1m0s\u001b[0m 2ms/step - auc: 0.9565 - categorical_accuracy: 0.8751 - loss: 0.4295 - precision: 0.8751 - recall: 0.8751 - val_auc: 0.8369 - val_categorical_accuracy: 0.8000 - val_loss: 0.6810 - val_precision: 0.8000 - val_recall: 0.8000\n",
      "Epoch 18/100\n",
      "\u001b[1m168/168\u001b[0m \u001b[32m━━━━━━━━━━━━━━━━━━━━\u001b[0m\u001b[37m\u001b[0m \u001b[1m0s\u001b[0m 3ms/step - auc: 0.9602 - categorical_accuracy: 0.8817 - loss: 0.4280 - precision: 0.8817 - recall: 0.8817 - val_auc: 0.8406 - val_categorical_accuracy: 0.8000 - val_loss: 0.6621 - val_precision: 0.8000 - val_recall: 0.8000\n",
      "Epoch 19/100\n",
      "\u001b[1m168/168\u001b[0m \u001b[32m━━━━━━━━━━━━━━━━━━━━\u001b[0m\u001b[37m\u001b[0m \u001b[1m0s\u001b[0m 2ms/step - auc: 0.9704 - categorical_accuracy: 0.8959 - loss: 0.4017 - precision: 0.8959 - recall: 0.8959 - val_auc: 0.8400 - val_categorical_accuracy: 0.8000 - val_loss: 0.6662 - val_precision: 0.8000 - val_recall: 0.8000\n",
      "Epoch 20/100\n",
      "\u001b[1m168/168\u001b[0m \u001b[32m━━━━━━━━━━━━━━━━━━━━\u001b[0m\u001b[37m\u001b[0m \u001b[1m0s\u001b[0m 2ms/step - auc: 0.9586 - categorical_accuracy: 0.8923 - loss: 0.4126 - precision: 0.8923 - recall: 0.8923 - val_auc: 0.8431 - val_categorical_accuracy: 0.8167 - val_loss: 0.6585 - val_precision: 0.8167 - val_recall: 0.8167\n",
      "Epoch 21/100\n",
      "\u001b[1m168/168\u001b[0m \u001b[32m━━━━━━━━━━━━━━━━━━━━\u001b[0m\u001b[37m\u001b[0m \u001b[1m0s\u001b[0m 2ms/step - auc: 0.9588 - categorical_accuracy: 0.8875 - loss: 0.4151 - precision: 0.8875 - recall: 0.8875 - val_auc: 0.8465 - val_categorical_accuracy: 0.8167 - val_loss: 0.6498 - val_precision: 0.8167 - val_recall: 0.8167\n",
      "Epoch 22/100\n",
      "\u001b[1m168/168\u001b[0m \u001b[32m━━━━━━━━━━━━━━━━━━━━\u001b[0m\u001b[37m\u001b[0m \u001b[1m0s\u001b[0m 2ms/step - auc: 0.9575 - categorical_accuracy: 0.8775 - loss: 0.4119 - precision: 0.8775 - recall: 0.8775 - val_auc: 0.8439 - val_categorical_accuracy: 0.7833 - val_loss: 0.6568 - val_precision: 0.7833 - val_recall: 0.7833\n",
      "Epoch 23/100\n",
      "\u001b[1m168/168\u001b[0m \u001b[32m━━━━━━━━━━━━━━━━━━━━\u001b[0m\u001b[37m\u001b[0m \u001b[1m0s\u001b[0m 2ms/step - auc: 0.9789 - categorical_accuracy: 0.9232 - loss: 0.3483 - precision: 0.9232 - recall: 0.9232 - val_auc: 0.8447 - val_categorical_accuracy: 0.8167 - val_loss: 0.6452 - val_precision: 0.8167 - val_recall: 0.8167\n",
      "Epoch 24/100\n",
      "\u001b[1m168/168\u001b[0m \u001b[32m━━━━━━━━━━━━━━━━━━━━\u001b[0m\u001b[37m\u001b[0m \u001b[1m0s\u001b[0m 2ms/step - auc: 0.9616 - categorical_accuracy: 0.8805 - loss: 0.4002 - precision: 0.8805 - recall: 0.8805 - val_auc: 0.8453 - val_categorical_accuracy: 0.7833 - val_loss: 0.6450 - val_precision: 0.7833 - val_recall: 0.7833\n",
      "Epoch 25/100\n",
      "\u001b[1m168/168\u001b[0m \u001b[32m━━━━━━━━━━━━━━━━━━━━\u001b[0m\u001b[37m\u001b[0m \u001b[1m0s\u001b[0m 2ms/step - auc: 0.9567 - categorical_accuracy: 0.8858 - loss: 0.4048 - precision: 0.8858 - recall: 0.8858 - val_auc: 0.8446 - val_categorical_accuracy: 0.7833 - val_loss: 0.6423 - val_precision: 0.7833 - val_recall: 0.7833\n",
      "Epoch 26/100\n",
      "\u001b[1m168/168\u001b[0m \u001b[32m━━━━━━━━━━━━━━━━━━━━\u001b[0m\u001b[37m\u001b[0m \u001b[1m1s\u001b[0m 3ms/step - auc: 0.9591 - categorical_accuracy: 0.8681 - loss: 0.3900 - precision: 0.8681 - recall: 0.8681 - val_auc: 0.8449 - val_categorical_accuracy: 0.8167 - val_loss: 0.6422 - val_precision: 0.8167 - val_recall: 0.8167\n",
      "Epoch 27/100\n",
      "\u001b[1m168/168\u001b[0m \u001b[32m━━━━━━━━━━━━━━━━━━━━\u001b[0m\u001b[37m\u001b[0m \u001b[1m0s\u001b[0m 3ms/step - auc: 0.9671 - categorical_accuracy: 0.9009 - loss: 0.3772 - precision: 0.9009 - recall: 0.9009 - val_auc: 0.8497 - val_categorical_accuracy: 0.8167 - val_loss: 0.6266 - val_precision: 0.8167 - val_recall: 0.8167\n",
      "Epoch 28/100\n",
      "\u001b[1m168/168\u001b[0m \u001b[32m━━━━━━━━━━━━━━━━━━━━\u001b[0m\u001b[37m\u001b[0m \u001b[1m0s\u001b[0m 3ms/step - auc: 0.9486 - categorical_accuracy: 0.8530 - loss: 0.4112 - precision: 0.8530 - recall: 0.8530 - val_auc: 0.8506 - val_categorical_accuracy: 0.8000 - val_loss: 0.6264 - val_precision: 0.8000 - val_recall: 0.8000\n",
      "Epoch 29/100\n",
      "\u001b[1m168/168\u001b[0m \u001b[32m━━━━━━━━━━━━━━━━━━━━\u001b[0m\u001b[37m\u001b[0m \u001b[1m0s\u001b[0m 2ms/step - auc: 0.9658 - categorical_accuracy: 0.9232 - loss: 0.3728 - precision: 0.9232 - recall: 0.9232 - val_auc: 0.8517 - val_categorical_accuracy: 0.8000 - val_loss: 0.6248 - val_precision: 0.8000 - val_recall: 0.8000\n",
      "Epoch 30/100\n",
      "\u001b[1m168/168\u001b[0m \u001b[32m━━━━━━━━━━━━━━━━━━━━\u001b[0m\u001b[37m\u001b[0m \u001b[1m0s\u001b[0m 2ms/step - auc: 0.9666 - categorical_accuracy: 0.8856 - loss: 0.3711 - precision: 0.8856 - recall: 0.8856 - val_auc: 0.8383 - val_categorical_accuracy: 0.7500 - val_loss: 0.6550 - val_precision: 0.7500 - val_recall: 0.7500\n",
      "Epoch 31/100\n",
      "\u001b[1m168/168\u001b[0m \u001b[32m━━━━━━━━━━━━━━━━━━━━\u001b[0m\u001b[37m\u001b[0m \u001b[1m1s\u001b[0m 2ms/step - auc: 0.9545 - categorical_accuracy: 0.8758 - loss: 0.3998 - precision: 0.8758 - recall: 0.8758 - val_auc: 0.8522 - val_categorical_accuracy: 0.8000 - val_loss: 0.6231 - val_precision: 0.8000 - val_recall: 0.8000\n",
      "Epoch 32/100\n",
      "\u001b[1m168/168\u001b[0m \u001b[32m━━━━━━━━━━━━━━━━━━━━\u001b[0m\u001b[37m\u001b[0m \u001b[1m0s\u001b[0m 2ms/step - auc: 0.9672 - categorical_accuracy: 0.9090 - loss: 0.3522 - precision: 0.9090 - recall: 0.9090 - val_auc: 0.8500 - val_categorical_accuracy: 0.8000 - val_loss: 0.6224 - val_precision: 0.8000 - val_recall: 0.8000\n",
      "Epoch 33/100\n",
      "\u001b[1m168/168\u001b[0m \u001b[32m━━━━━━━━━━━━━━━━━━━━\u001b[0m\u001b[37m\u001b[0m \u001b[1m1s\u001b[0m 3ms/step - auc: 0.9580 - categorical_accuracy: 0.8882 - loss: 0.3813 - precision: 0.8882 - recall: 0.8882 - val_auc: 0.8492 - val_categorical_accuracy: 0.8167 - val_loss: 0.6234 - val_precision: 0.8167 - val_recall: 0.8167\n",
      "Epoch 34/100\n",
      "\u001b[1m168/168\u001b[0m \u001b[32m━━━━━━━━━━━━━━━━━━━━\u001b[0m\u001b[37m\u001b[0m \u001b[1m0s\u001b[0m 2ms/step - auc: 0.9788 - categorical_accuracy: 0.9341 - loss: 0.3333 - precision: 0.9341 - recall: 0.9341 - val_auc: 0.8481 - val_categorical_accuracy: 0.8000 - val_loss: 0.6328 - val_precision: 0.8000 - val_recall: 0.8000\n",
      "Epoch 35/100\n",
      "\u001b[1m168/168\u001b[0m \u001b[32m━━━━━━━━━━━━━━━━━━━━\u001b[0m\u001b[37m\u001b[0m \u001b[1m0s\u001b[0m 2ms/step - auc: 0.9750 - categorical_accuracy: 0.9251 - loss: 0.3335 - precision: 0.9251 - recall: 0.9251 - val_auc: 0.8467 - val_categorical_accuracy: 0.8000 - val_loss: 0.6301 - val_precision: 0.8000 - val_recall: 0.8000\n",
      "Epoch 36/100\n",
      "\u001b[1m168/168\u001b[0m \u001b[32m━━━━━━━━━━━━━━━━━━━━\u001b[0m\u001b[37m\u001b[0m \u001b[1m0s\u001b[0m 2ms/step - auc: 0.9782 - categorical_accuracy: 0.9379 - loss: 0.3255 - precision: 0.9379 - recall: 0.9379 - val_auc: 0.8486 - val_categorical_accuracy: 0.8000 - val_loss: 0.6283 - val_precision: 0.8000 - val_recall: 0.8000\n",
      "Epoch 37/100\n",
      "\u001b[1m168/168\u001b[0m \u001b[32m━━━━━━━━━━━━━━━━━━━━\u001b[0m\u001b[37m\u001b[0m \u001b[1m0s\u001b[0m 2ms/step - auc: 0.9693 - categorical_accuracy: 0.9123 - loss: 0.3558 - precision: 0.9123 - recall: 0.9123 - val_auc: 0.8442 - val_categorical_accuracy: 0.7833 - val_loss: 0.6389 - val_precision: 0.7833 - val_recall: 0.7833\n",
      "Epoch 38/100\n",
      "\u001b[1m168/168\u001b[0m \u001b[32m━━━━━━━━━━━━━━━━━━━━\u001b[0m\u001b[37m\u001b[0m \u001b[1m0s\u001b[0m 2ms/step - auc: 0.9835 - categorical_accuracy: 0.9344 - loss: 0.3092 - precision: 0.9344 - recall: 0.9344 - val_auc: 0.8489 - val_categorical_accuracy: 0.8167 - val_loss: 0.6259 - val_precision: 0.8167 - val_recall: 0.8167\n",
      "Epoch 39/100\n",
      "\u001b[1m168/168\u001b[0m \u001b[32m━━━━━━━━━━━━━━━━━━━━\u001b[0m\u001b[37m\u001b[0m \u001b[1m0s\u001b[0m 2ms/step - auc: 0.9741 - categorical_accuracy: 0.9341 - loss: 0.3391 - precision: 0.9341 - recall: 0.9341 - val_auc: 0.8582 - val_categorical_accuracy: 0.7667 - val_loss: 0.6122 - val_precision: 0.7667 - val_recall: 0.7667\n",
      "Epoch 40/100\n",
      "\u001b[1m168/168\u001b[0m \u001b[32m━━━━━━━━━━━━━━━━━━━━\u001b[0m\u001b[37m\u001b[0m \u001b[1m0s\u001b[0m 1ms/step - auc: 0.9771 - categorical_accuracy: 0.9241 - loss: 0.3335 - precision: 0.9241 - recall: 0.9241 - val_auc: 0.8483 - val_categorical_accuracy: 0.8000 - val_loss: 0.6296 - val_precision: 0.8000 - val_recall: 0.8000\n",
      "Epoch 41/100\n",
      "\u001b[1m168/168\u001b[0m \u001b[32m━━━━━━━━━━━━━━━━━━━━\u001b[0m\u001b[37m\u001b[0m \u001b[1m0s\u001b[0m 2ms/step - auc: 0.9793 - categorical_accuracy: 0.9263 - loss: 0.3191 - precision: 0.9263 - recall: 0.9263 - val_auc: 0.8494 - val_categorical_accuracy: 0.8167 - val_loss: 0.6258 - val_precision: 0.8167 - val_recall: 0.8167\n",
      "Epoch 42/100\n",
      "\u001b[1m168/168\u001b[0m \u001b[32m━━━━━━━━━━━━━━━━━━━━\u001b[0m\u001b[37m\u001b[0m \u001b[1m0s\u001b[0m 2ms/step - auc: 0.9802 - categorical_accuracy: 0.9385 - loss: 0.3238 - precision: 0.9385 - recall: 0.9385 - val_auc: 0.8485 - val_categorical_accuracy: 0.8167 - val_loss: 0.6272 - val_precision: 0.8167 - val_recall: 0.8167\n",
      "Epoch 43/100\n",
      "\u001b[1m168/168\u001b[0m \u001b[32m━━━━━━━━━━━━━━━━━━━━\u001b[0m\u001b[37m\u001b[0m \u001b[1m0s\u001b[0m 2ms/step - auc: 0.9751 - categorical_accuracy: 0.9229 - loss: 0.3343 - precision: 0.9229 - recall: 0.9229 - val_auc: 0.8469 - val_categorical_accuracy: 0.8000 - val_loss: 0.6294 - val_precision: 0.8000 - val_recall: 0.8000\n",
      "Epoch 44/100\n",
      "\u001b[1m168/168\u001b[0m \u001b[32m━━━━━━━━━━━━━━━━━━━━\u001b[0m\u001b[37m\u001b[0m \u001b[1m0s\u001b[0m 2ms/step - auc: 0.9747 - categorical_accuracy: 0.9258 - loss: 0.3327 - precision: 0.9258 - recall: 0.9258 - val_auc: 0.8469 - val_categorical_accuracy: 0.8167 - val_loss: 0.6331 - val_precision: 0.8167 - val_recall: 0.8167\n",
      "Epoch 45/100\n",
      "\u001b[1m168/168\u001b[0m \u001b[32m━━━━━━━━━━━━━━━━━━━━\u001b[0m\u001b[37m\u001b[0m \u001b[1m0s\u001b[0m 2ms/step - auc: 0.9763 - categorical_accuracy: 0.9119 - loss: 0.3334 - precision: 0.9119 - recall: 0.9119 - val_auc: 0.8464 - val_categorical_accuracy: 0.7667 - val_loss: 0.6374 - val_precision: 0.7667 - val_recall: 0.7667\n",
      "Epoch 46/100\n",
      "\u001b[1m168/168\u001b[0m \u001b[32m━━━━━━━━━━━━━━━━━━━━\u001b[0m\u001b[37m\u001b[0m \u001b[1m0s\u001b[0m 2ms/step - auc: 0.9760 - categorical_accuracy: 0.9102 - loss: 0.3322 - precision: 0.9102 - recall: 0.9102 - val_auc: 0.8486 - val_categorical_accuracy: 0.8000 - val_loss: 0.6208 - val_precision: 0.8000 - val_recall: 0.8000\n",
      "Epoch 47/100\n",
      "\u001b[1m168/168\u001b[0m \u001b[32m━━━━━━━━━━━━━━━━━━━━\u001b[0m\u001b[37m\u001b[0m \u001b[1m0s\u001b[0m 2ms/step - auc: 0.9678 - categorical_accuracy: 0.9214 - loss: 0.3500 - precision: 0.9214 - recall: 0.9214 - val_auc: 0.8469 - val_categorical_accuracy: 0.8000 - val_loss: 0.6294 - val_precision: 0.8000 - val_recall: 0.8000\n",
      "Epoch 48/100\n",
      "\u001b[1m168/168\u001b[0m \u001b[32m━━━━━━━━━━━━━━━━━━━━\u001b[0m\u001b[37m\u001b[0m \u001b[1m0s\u001b[0m 2ms/step - auc: 0.9647 - categorical_accuracy: 0.8900 - loss: 0.3662 - precision: 0.8900 - recall: 0.8900 - val_auc: 0.8499 - val_categorical_accuracy: 0.8000 - val_loss: 0.6266 - val_precision: 0.8000 - val_recall: 0.8000\n",
      "Epoch 49/100\n",
      "\u001b[1m168/168\u001b[0m \u001b[32m━━━━━━━━━━━━━━━━━━━━\u001b[0m\u001b[37m\u001b[0m \u001b[1m0s\u001b[0m 2ms/step - auc: 0.9649 - categorical_accuracy: 0.9058 - loss: 0.3649 - precision: 0.9058 - recall: 0.9058 - val_auc: 0.8467 - val_categorical_accuracy: 0.7833 - val_loss: 0.6404 - val_precision: 0.7833 - val_recall: 0.7833\n"
     ]
    }
   ],
   "source": [
    "# Train and ealuate model # \n",
    "from tensorflow.keras.callbacks import EarlyStopping\n",
    "early_stop = EarlyStopping(monitor='val_loss', patience=10, restore_best_weights=True)\n",
    "\n",
    "## 21. Train the model\n",
    "history = my_model.fit(\n",
    "              x=X_train_scaled,\n",
    "              y=y_train,\n",
    "              batch_size=2,\n",
    "              epochs=100,\n",
    "              verbose=1,\n",
    "              callbacks=[early_stop], # can add layter on\n",
    "              validation_data=(X_test_scaled, y_test),\n",
    "              shuffle=True\n",
    "              )"
   ]
  },
  {
   "cell_type": "code",
   "execution_count": 17,
   "id": "af1ccb9d",
   "metadata": {},
   "outputs": [
    {
     "data": {
      "image/png": "[encoded data removed]",
      "text/plain": [
       "<Figure size 1400x500 with 2 Axes>"
      ]
     },
     "metadata": {},
     "output_type": "display_data"
    }
   ],
   "source": [
    "import matplotlib.pyplot as plt\n",
    "\n",
    "# Create subplots: 1 row, 2 columns\n",
    "fig, axs = plt.subplots(1, 2, figsize=(14, 5))\n",
    "\n",
    "# Plot Loss\n",
    "axs[0].plot(history.history['loss'], label='Training Loss')\n",
    "axs[0].plot(history.history['val_loss'], label='Validation Loss')\n",
    "axs[0].set_xlabel('Epoch')\n",
    "axs[0].set_ylabel('Loss')\n",
    "axs[0].set_title('Loss over Epochs')\n",
    "axs[0].legend()\n",
    "axs[0].grid(True)\n",
    "\n",
    "# Plot Categorical Accuracy\n",
    "axs[1].plot(history.history['categorical_accuracy'], label='Training Accuracy')\n",
    "axs[1].plot(history.history['val_categorical_accuracy'], label='Validation Accuracy')\n",
    "axs[1].set_xlabel('Epoch')\n",
    "axs[1].set_ylabel('Categorical Accuracy')\n",
    "axs[1].set_title('Accuracy over Epochs')\n",
    "axs[1].legend()\n",
    "axs[1].grid(True)\n",
    "\n",
    "plt.tight_layout()\n",
    "plt.show()\n"
   ]
  },
  {
   "cell_type": "code",
   "execution_count": 18,
   "id": "8976f3df",
   "metadata": {},
   "outputs": [
    {
     "name": "stdout",
     "output_type": "stream",
     "text": [
      "Loss = 0.6122\n",
      "Accuracy = 76.67%\n",
      "AUC = 0.8582, Precision = 0.7667, Recall = 0.7667\n"
     ]
    }
   ],
   "source": [
    "## 22. Evaluate the model\n",
    "loss, acc, auc, prec, recall = my_model.evaluate(\n",
    "                    x=X_test_scaled,\n",
    "                    y=y_test,\n",
    "                    batch_size=2,\n",
    "                    verbose=0\n",
    "                    )\n",
    "print(f\"Loss = {loss:.4f}\")\n",
    "print(f\"Accuracy = {acc*100:.2f}%\")\n",
    "print(f\"AUC = {auc:.4f}, Precision = {prec:.4f}, Recall = {recall:.4f}\")"
   ]
  },
  {
   "cell_type": "code",
   "execution_count": 19,
   "id": "b4ca1e41",
   "metadata": {},
   "outputs": [
    {
     "name": "stdout",
     "output_type": "stream",
     "text": [
      "\u001b[1m2/2\u001b[0m \u001b[32m━━━━━━━━━━━━━━━━━━━━\u001b[0m\u001b[37m\u001b[0m \u001b[1m0s\u001b[0m 40ms/step\n",
      "              precision    recall  f1-score   support\n",
      "\n",
      "           0       0.78      0.83      0.81        35\n",
      "           1       0.74      0.68      0.71        25\n",
      "\n",
      "    accuracy                           0.77        60\n",
      "   macro avg       0.76      0.75      0.76        60\n",
      "weighted avg       0.77      0.77      0.77        60\n",
      "\n",
      "Note: Class 0 -> Survival, Class 1 -> Death\n"
     ]
    }
   ],
   "source": [
    "# Generate Classification report\n",
    "## 23. Predictions\n",
    "y_estimate = my_model.predict(x = X_test_scaled)\n",
    "\n",
    "## 24. - 26. Print classification report\n",
    "import numpy as np\n",
    "from sklearn.metrics import classification_report\n",
    "\n",
    "y_estimate = np.argmax(y_estimate, axis = 1)\n",
    "y_true = np.argmax(y_test, axis = 1)\n",
    "\n",
    "print(classification_report(y_true, y_estimate))\n",
    "print(\"Note: Class 0 -> Survival, Class 1 -> Death\")"
   ]
  },
  {
   "cell_type": "markdown",
   "id": "56af3273",
   "metadata": {},
   "source": [
    "Interpretation of each metric:\n",
    "Precision for Class 0 (Survival):\n",
    "Out of all instances predicted as survival, 76% were actually survival.\n",
    "\n",
    "Recall for Class 0:\n",
    "The model correctly identified 89% of all survival cases (high recall means few false negatives for survival).\n",
    "\n",
    "Precision for Class 1 (Death):\n",
    "Out of all instances predicted as death, 79% were actually death.\n",
    "\n",
    "Recall for Class 1:\n",
    "The model correctly identified 60% of all death cases (moderate recall means it missed 40% of deaths)."
   ]
  },
  {
   "cell_type": "code",
   "execution_count": 20,
   "id": "d7b9faf8",
   "metadata": {},
   "outputs": [
    {
     "name": "stdout",
     "output_type": "stream",
     "text": [
      "\u001b[1m2/2\u001b[0m \u001b[32m━━━━━━━━━━━━━━━━━━━━\u001b[0m\u001b[37m\u001b[0m \u001b[1m0s\u001b[0m 26ms/step\n"
     ]
    },
    {
     "data": {
      "image/png": "[encoded data removed]",
      "text/plain": [
       "<Figure size 800x600 with 1 Axes>"
      ]
     },
     "metadata": {},
     "output_type": "display_data"
    }
   ],
   "source": [
    "## ROC curve\n",
    "import matplotlib.pyplot as plt\n",
    "from sklearn.metrics import roc_curve, auc\n",
    "import numpy as np\n",
    "\n",
    "# Assuming y_test and y_estimate are already defined as one-hot and probabilities respectively:\n",
    "\n",
    "# If y_test is one-hot encoded, get the true labels for positive class (e.g. class 1)\n",
    "y_true = y_test[:, 1]\n",
    "\n",
    "# Get predicted probabilities for positive class from your model\n",
    "y_scores = my_model.predict(X_test_scaled)[:, 1]\n",
    "\n",
    "# Calculate ROC curve\n",
    "fpr, tpr, thresholds = roc_curve(y_true, y_scores)\n",
    "\n",
    "# Calculate AUC\n",
    "roc_auc = auc(fpr, tpr)\n",
    "\n",
    "# Plot ROC curve\n",
    "plt.figure(figsize=(8, 6))\n",
    "plt.plot(fpr, tpr, color='darkorange', lw=2, label=f'ROC curve (AUC = {roc_auc:.2f})')\n",
    "plt.plot([0, 1], [0, 1], color='navy', lw=2, linestyle='--')  # Diagonal line (random guess)\n",
    "plt.xlim([0.0, 1.0])\n",
    "plt.ylim([0.0, 1.05])\n",
    "plt.xlabel('False Positive Rate')\n",
    "plt.ylabel('True Positive Rate (Recall)')\n",
    "plt.title('Receiver Operating Characteristic (ROC) Curve')\n",
    "plt.legend(loc=\"lower right\")\n",
    "plt.grid(True)\n",
    "plt.show()"
   ]
  }
 ],
 "metadata": {
  "kernelspec": {
   "display_name": ".venv",
   "language": "python",
   "name": "python3"
  },
  "language_info": {
   "codemirror_mode": {
    "name": "ipython",
    "version": 3
   },
   "file_extension": ".py",
   "mimetype": "text/x-python",
   "name": "python",
   "nbconvert_exporter": "python",
   "pygments_lexer": "ipython3",
   "version": "3.12.10"
  }
 },
 "nbformat": 4,
 "nbformat_minor": 5
}
