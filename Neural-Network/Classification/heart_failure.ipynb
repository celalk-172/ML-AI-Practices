{
 "cells": [
  {
   "cell_type": "code",
   "execution_count": 315,
   "id": "1e807a55",
   "metadata": {},
   "outputs": [],
   "source": [
    "# Loading te data #\n",
    "## 1. and 2. Load as pandas DataFrame and visualise\n",
    "import pandas as pd\n",
    "data = pd.read_csv(\"heart_failure.csv\")"
   ]
  },
  {
   "cell_type": "code",
   "execution_count": 316,
   "id": "e8da1a04",
   "metadata": {},
   "outputs": [
    {
     "name": "stdout",
     "output_type": "stream",
     "text": [
      "<class 'pandas.core.frame.DataFrame'>\n",
      "RangeIndex: 299 entries, 0 to 298\n",
      "Data columns (total 15 columns):\n",
      " #   Column                    Non-Null Count  Dtype  \n",
      "---  ------                    --------------  -----  \n",
      " 0   Unnamed: 0                299 non-null    int64  \n",
      " 1   age                       299 non-null    float64\n",
      " 2   anaemia                   299 non-null    object \n",
      " 3   creatinine_phosphokinase  299 non-null    int64  \n",
      " 4   diabetes                  299 non-null    object \n",
      " 5   ejection_fraction         299 non-null    int64  \n",
      " 6   high_blood_pressure       299 non-null    object \n",
      " 7   platelets                 299 non-null    float64\n",
      " 8   serum_creatinine          299 non-null    float64\n",
      " 9   serum_sodium              299 non-null    int64  \n",
      " 10  sex                       299 non-null    object \n",
      " 11  smoking                   299 non-null    object \n",
      " 12  time                      299 non-null    int64  \n",
      " 13  DEATH_EVENT               299 non-null    int64  \n",
      " 14  death_event               299 non-null    object \n",
      "dtypes: float64(3), int64(6), object(6)\n",
      "memory usage: 35.2+ KB\n"
     ]
    }
   ],
   "source": [
    "### See all columns and their types\n",
    "data.info()"
   ]
  },
  {
   "cell_type": "code",
   "execution_count": 317,
   "id": "e4d7eeb5",
   "metadata": {},
   "outputs": [
    {
     "data": {
      "application/vnd.microsoft.datawrangler.viewer.v0+json": {
       "columns": [
        {
         "name": "index",
         "rawType": "object",
         "type": "string"
        },
        {
         "name": "Unnamed: 0",
         "rawType": "float64",
         "type": "float"
        },
        {
         "name": "age",
         "rawType": "float64",
         "type": "float"
        },
        {
         "name": "creatinine_phosphokinase",
         "rawType": "float64",
         "type": "float"
        },
        {
         "name": "ejection_fraction",
         "rawType": "float64",
         "type": "float"
        },
        {
         "name": "platelets",
         "rawType": "float64",
         "type": "float"
        },
        {
         "name": "serum_creatinine",
         "rawType": "float64",
         "type": "float"
        },
        {
         "name": "serum_sodium",
         "rawType": "float64",
         "type": "float"
        },
        {
         "name": "time",
         "rawType": "float64",
         "type": "float"
        },
        {
         "name": "DEATH_EVENT",
         "rawType": "float64",
         "type": "float"
        }
       ],
       "ref": "250925b9-173f-4d98-a75b-f089a6b7a9d3",
       "rows": [
        [
         "count",
         "299.0",
         "299.0",
         "299.0",
         "299.0",
         "299.0",
         "299.0",
         "299.0",
         "299.0",
         "299.0"
        ],
        [
         "mean",
         "149.0",
         "60.83389297658862",
         "581.8394648829432",
         "38.08361204013378",
         "263358.02926421404",
         "1.3938795986622072",
         "136.62541806020067",
         "130.2608695652174",
         "0.3210702341137124"
        ],
        [
         "std",
         "86.45808232895291",
         "11.89480907404447",
         "970.2878807124362",
         "11.834840741039171",
         "97804.2368685983",
         "1.0345100640898541",
         "4.412477283909235",
         "77.61420795029339",
         "0.46767042805677167"
        ],
        [
         "min",
         "0.0",
         "40.0",
         "23.0",
         "14.0",
         "25100.0",
         "0.5",
         "113.0",
         "4.0",
         "0.0"
        ],
        [
         "25%",
         "74.5",
         "51.0",
         "116.5",
         "30.0",
         "212500.0",
         "0.9",
         "134.0",
         "73.0",
         "0.0"
        ],
        [
         "50%",
         "149.0",
         "60.0",
         "250.0",
         "38.0",
         "262000.0",
         "1.1",
         "137.0",
         "115.0",
         "0.0"
        ],
        [
         "75%",
         "223.5",
         "70.0",
         "582.0",
         "45.0",
         "303500.0",
         "1.4",
         "140.0",
         "203.0",
         "1.0"
        ],
        [
         "max",
         "298.0",
         "95.0",
         "7861.0",
         "80.0",
         "850000.0",
         "9.4",
         "148.0",
         "285.0",
         "1.0"
        ]
       ],
       "shape": {
        "columns": 9,
        "rows": 8
       }
      },
      "text/html": [
       "<div>\n",
       "<style scoped>\n",
       "    .dataframe tbody tr th:only-of-type {\n",
       "        vertical-align: middle;\n",
       "    }\n",
       "\n",
       "    .dataframe tbody tr th {\n",
       "        vertical-align: top;\n",
       "    }\n",
       "\n",
       "    .dataframe thead th {\n",
       "        text-align: right;\n",
       "    }\n",
       "</style>\n",
       "<table border=\"1\" class=\"dataframe\">\n",
       "  <thead>\n",
       "    <tr style=\"text-align: right;\">\n",
       "      <th></th>\n",
       "      <th>Unnamed: 0</th>\n",
       "      <th>age</th>\n",
       "      <th>creatinine_phosphokinase</th>\n",
       "      <th>ejection_fraction</th>\n",
       "      <th>platelets</th>\n",
       "      <th>serum_creatinine</th>\n",
       "      <th>serum_sodium</th>\n",
       "      <th>time</th>\n",
       "      <th>DEATH_EVENT</th>\n",
       "    </tr>\n",
       "  </thead>\n",
       "  <tbody>\n",
       "    <tr>\n",
       "      <th>count</th>\n",
       "      <td>299.000000</td>\n",
       "      <td>299.000000</td>\n",
       "      <td>299.000000</td>\n",
       "      <td>299.000000</td>\n",
       "      <td>299.000000</td>\n",
       "      <td>299.00000</td>\n",
       "      <td>299.000000</td>\n",
       "      <td>299.000000</td>\n",
       "      <td>299.00000</td>\n",
       "    </tr>\n",
       "    <tr>\n",
       "      <th>mean</th>\n",
       "      <td>149.000000</td>\n",
       "      <td>60.833893</td>\n",
       "      <td>581.839465</td>\n",
       "      <td>38.083612</td>\n",
       "      <td>263358.029264</td>\n",
       "      <td>1.39388</td>\n",
       "      <td>136.625418</td>\n",
       "      <td>130.260870</td>\n",
       "      <td>0.32107</td>\n",
       "    </tr>\n",
       "    <tr>\n",
       "      <th>std</th>\n",
       "      <td>86.458082</td>\n",
       "      <td>11.894809</td>\n",
       "      <td>970.287881</td>\n",
       "      <td>11.834841</td>\n",
       "      <td>97804.236869</td>\n",
       "      <td>1.03451</td>\n",
       "      <td>4.412477</td>\n",
       "      <td>77.614208</td>\n",
       "      <td>0.46767</td>\n",
       "    </tr>\n",
       "    <tr>\n",
       "      <th>min</th>\n",
       "      <td>0.000000</td>\n",
       "      <td>40.000000</td>\n",
       "      <td>23.000000</td>\n",
       "      <td>14.000000</td>\n",
       "      <td>25100.000000</td>\n",
       "      <td>0.50000</td>\n",
       "      <td>113.000000</td>\n",
       "      <td>4.000000</td>\n",
       "      <td>0.00000</td>\n",
       "    </tr>\n",
       "    <tr>\n",
       "      <th>25%</th>\n",
       "      <td>74.500000</td>\n",
       "      <td>51.000000</td>\n",
       "      <td>116.500000</td>\n",
       "      <td>30.000000</td>\n",
       "      <td>212500.000000</td>\n",
       "      <td>0.90000</td>\n",
       "      <td>134.000000</td>\n",
       "      <td>73.000000</td>\n",
       "      <td>0.00000</td>\n",
       "    </tr>\n",
       "    <tr>\n",
       "      <th>50%</th>\n",
       "      <td>149.000000</td>\n",
       "      <td>60.000000</td>\n",
       "      <td>250.000000</td>\n",
       "      <td>38.000000</td>\n",
       "      <td>262000.000000</td>\n",
       "      <td>1.10000</td>\n",
       "      <td>137.000000</td>\n",
       "      <td>115.000000</td>\n",
       "      <td>0.00000</td>\n",
       "    </tr>\n",
       "    <tr>\n",
       "      <th>75%</th>\n",
       "      <td>223.500000</td>\n",
       "      <td>70.000000</td>\n",
       "      <td>582.000000</td>\n",
       "      <td>45.000000</td>\n",
       "      <td>303500.000000</td>\n",
       "      <td>1.40000</td>\n",
       "      <td>140.000000</td>\n",
       "      <td>203.000000</td>\n",
       "      <td>1.00000</td>\n",
       "    </tr>\n",
       "    <tr>\n",
       "      <th>max</th>\n",
       "      <td>298.000000</td>\n",
       "      <td>95.000000</td>\n",
       "      <td>7861.000000</td>\n",
       "      <td>80.000000</td>\n",
       "      <td>850000.000000</td>\n",
       "      <td>9.40000</td>\n",
       "      <td>148.000000</td>\n",
       "      <td>285.000000</td>\n",
       "      <td>1.00000</td>\n",
       "    </tr>\n",
       "  </tbody>\n",
       "</table>\n",
       "</div>"
      ],
      "text/plain": [
       "       Unnamed: 0         age  creatinine_phosphokinase  ejection_fraction  \\\n",
       "count  299.000000  299.000000                299.000000         299.000000   \n",
       "mean   149.000000   60.833893                581.839465          38.083612   \n",
       "std     86.458082   11.894809                970.287881          11.834841   \n",
       "min      0.000000   40.000000                 23.000000          14.000000   \n",
       "25%     74.500000   51.000000                116.500000          30.000000   \n",
       "50%    149.000000   60.000000                250.000000          38.000000   \n",
       "75%    223.500000   70.000000                582.000000          45.000000   \n",
       "max    298.000000   95.000000               7861.000000          80.000000   \n",
       "\n",
       "           platelets  serum_creatinine  serum_sodium        time  DEATH_EVENT  \n",
       "count     299.000000         299.00000    299.000000  299.000000    299.00000  \n",
       "mean   263358.029264           1.39388    136.625418  130.260870      0.32107  \n",
       "std     97804.236869           1.03451      4.412477   77.614208      0.46767  \n",
       "min     25100.000000           0.50000    113.000000    4.000000      0.00000  \n",
       "25%    212500.000000           0.90000    134.000000   73.000000      0.00000  \n",
       "50%    262000.000000           1.10000    137.000000  115.000000      0.00000  \n",
       "75%    303500.000000           1.40000    140.000000  203.000000      1.00000  \n",
       "max    850000.000000           9.40000    148.000000  285.000000      1.00000  "
      ]
     },
     "execution_count": 317,
     "metadata": {},
     "output_type": "execute_result"
    }
   ],
   "source": [
    "### See the statistical data of each column\n",
    "data.describe()"
   ]
  },
  {
   "cell_type": "code",
   "execution_count": 318,
   "id": "e5e18f5c",
   "metadata": {},
   "outputs": [
    {
     "data": {
      "application/vnd.microsoft.datawrangler.viewer.v0+json": {
       "columns": [
        {
         "name": "index",
         "rawType": "int64",
         "type": "integer"
        },
        {
         "name": "Unnamed: 0",
         "rawType": "int64",
         "type": "integer"
        },
        {
         "name": "age",
         "rawType": "float64",
         "type": "float"
        },
        {
         "name": "anaemia",
         "rawType": "object",
         "type": "string"
        },
        {
         "name": "creatinine_phosphokinase",
         "rawType": "int64",
         "type": "integer"
        },
        {
         "name": "diabetes",
         "rawType": "object",
         "type": "string"
        },
        {
         "name": "ejection_fraction",
         "rawType": "int64",
         "type": "integer"
        },
        {
         "name": "high_blood_pressure",
         "rawType": "object",
         "type": "string"
        },
        {
         "name": "platelets",
         "rawType": "float64",
         "type": "float"
        },
        {
         "name": "serum_creatinine",
         "rawType": "float64",
         "type": "float"
        },
        {
         "name": "serum_sodium",
         "rawType": "int64",
         "type": "integer"
        },
        {
         "name": "sex",
         "rawType": "object",
         "type": "string"
        },
        {
         "name": "smoking",
         "rawType": "object",
         "type": "string"
        },
        {
         "name": "time",
         "rawType": "int64",
         "type": "integer"
        },
        {
         "name": "DEATH_EVENT",
         "rawType": "int64",
         "type": "integer"
        },
        {
         "name": "death_event",
         "rawType": "object",
         "type": "string"
        }
       ],
       "ref": "664a5193-978b-4333-860c-43fda4f378a4",
       "rows": [
        [
         "0",
         "0",
         "75.0",
         "no",
         "582",
         "no",
         "20",
         "yes",
         "265000.0",
         "1.9",
         "130",
         "yes",
         "no",
         "4",
         "1",
         "yes"
        ],
        [
         "1",
         "1",
         "55.0",
         "no",
         "7861",
         "no",
         "38",
         "no",
         "263358.03",
         "1.1",
         "136",
         "yes",
         "no",
         "6",
         "1",
         "yes"
        ],
        [
         "2",
         "2",
         "65.0",
         "no",
         "146",
         "no",
         "20",
         "no",
         "162000.0",
         "1.3",
         "129",
         "yes",
         "yes",
         "7",
         "1",
         "yes"
        ],
        [
         "3",
         "3",
         "50.0",
         "yes",
         "111",
         "no",
         "20",
         "no",
         "210000.0",
         "1.9",
         "137",
         "yes",
         "no",
         "7",
         "1",
         "yes"
        ],
        [
         "4",
         "4",
         "65.0",
         "yes",
         "160",
         "yes",
         "20",
         "no",
         "327000.0",
         "2.7",
         "116",
         "no",
         "no",
         "8",
         "1",
         "yes"
        ]
       ],
       "shape": {
        "columns": 15,
        "rows": 5
       }
      },
      "text/html": [
       "<div>\n",
       "<style scoped>\n",
       "    .dataframe tbody tr th:only-of-type {\n",
       "        vertical-align: middle;\n",
       "    }\n",
       "\n",
       "    .dataframe tbody tr th {\n",
       "        vertical-align: top;\n",
       "    }\n",
       "\n",
       "    .dataframe thead th {\n",
       "        text-align: right;\n",
       "    }\n",
       "</style>\n",
       "<table border=\"1\" class=\"dataframe\">\n",
       "  <thead>\n",
       "    <tr style=\"text-align: right;\">\n",
       "      <th></th>\n",
       "      <th>Unnamed: 0</th>\n",
       "      <th>age</th>\n",
       "      <th>anaemia</th>\n",
       "      <th>creatinine_phosphokinase</th>\n",
       "      <th>diabetes</th>\n",
       "      <th>ejection_fraction</th>\n",
       "      <th>high_blood_pressure</th>\n",
       "      <th>platelets</th>\n",
       "      <th>serum_creatinine</th>\n",
       "      <th>serum_sodium</th>\n",
       "      <th>sex</th>\n",
       "      <th>smoking</th>\n",
       "      <th>time</th>\n",
       "      <th>DEATH_EVENT</th>\n",
       "      <th>death_event</th>\n",
       "    </tr>\n",
       "  </thead>\n",
       "  <tbody>\n",
       "    <tr>\n",
       "      <th>0</th>\n",
       "      <td>0</td>\n",
       "      <td>75.0</td>\n",
       "      <td>no</td>\n",
       "      <td>582</td>\n",
       "      <td>no</td>\n",
       "      <td>20</td>\n",
       "      <td>yes</td>\n",
       "      <td>265000.00</td>\n",
       "      <td>1.9</td>\n",
       "      <td>130</td>\n",
       "      <td>yes</td>\n",
       "      <td>no</td>\n",
       "      <td>4</td>\n",
       "      <td>1</td>\n",
       "      <td>yes</td>\n",
       "    </tr>\n",
       "    <tr>\n",
       "      <th>1</th>\n",
       "      <td>1</td>\n",
       "      <td>55.0</td>\n",
       "      <td>no</td>\n",
       "      <td>7861</td>\n",
       "      <td>no</td>\n",
       "      <td>38</td>\n",
       "      <td>no</td>\n",
       "      <td>263358.03</td>\n",
       "      <td>1.1</td>\n",
       "      <td>136</td>\n",
       "      <td>yes</td>\n",
       "      <td>no</td>\n",
       "      <td>6</td>\n",
       "      <td>1</td>\n",
       "      <td>yes</td>\n",
       "    </tr>\n",
       "    <tr>\n",
       "      <th>2</th>\n",
       "      <td>2</td>\n",
       "      <td>65.0</td>\n",
       "      <td>no</td>\n",
       "      <td>146</td>\n",
       "      <td>no</td>\n",
       "      <td>20</td>\n",
       "      <td>no</td>\n",
       "      <td>162000.00</td>\n",
       "      <td>1.3</td>\n",
       "      <td>129</td>\n",
       "      <td>yes</td>\n",
       "      <td>yes</td>\n",
       "      <td>7</td>\n",
       "      <td>1</td>\n",
       "      <td>yes</td>\n",
       "    </tr>\n",
       "    <tr>\n",
       "      <th>3</th>\n",
       "      <td>3</td>\n",
       "      <td>50.0</td>\n",
       "      <td>yes</td>\n",
       "      <td>111</td>\n",
       "      <td>no</td>\n",
       "      <td>20</td>\n",
       "      <td>no</td>\n",
       "      <td>210000.00</td>\n",
       "      <td>1.9</td>\n",
       "      <td>137</td>\n",
       "      <td>yes</td>\n",
       "      <td>no</td>\n",
       "      <td>7</td>\n",
       "      <td>1</td>\n",
       "      <td>yes</td>\n",
       "    </tr>\n",
       "    <tr>\n",
       "      <th>4</th>\n",
       "      <td>4</td>\n",
       "      <td>65.0</td>\n",
       "      <td>yes</td>\n",
       "      <td>160</td>\n",
       "      <td>yes</td>\n",
       "      <td>20</td>\n",
       "      <td>no</td>\n",
       "      <td>327000.00</td>\n",
       "      <td>2.7</td>\n",
       "      <td>116</td>\n",
       "      <td>no</td>\n",
       "      <td>no</td>\n",
       "      <td>8</td>\n",
       "      <td>1</td>\n",
       "      <td>yes</td>\n",
       "    </tr>\n",
       "  </tbody>\n",
       "</table>\n",
       "</div>"
      ],
      "text/plain": [
       "   Unnamed: 0   age anaemia  creatinine_phosphokinase diabetes  \\\n",
       "0           0  75.0      no                       582       no   \n",
       "1           1  55.0      no                      7861       no   \n",
       "2           2  65.0      no                       146       no   \n",
       "3           3  50.0     yes                       111       no   \n",
       "4           4  65.0     yes                       160      yes   \n",
       "\n",
       "   ejection_fraction high_blood_pressure  platelets  serum_creatinine  \\\n",
       "0                 20                 yes  265000.00               1.9   \n",
       "1                 38                  no  263358.03               1.1   \n",
       "2                 20                  no  162000.00               1.3   \n",
       "3                 20                  no  210000.00               1.9   \n",
       "4                 20                  no  327000.00               2.7   \n",
       "\n",
       "   serum_sodium  sex smoking  time  DEATH_EVENT death_event  \n",
       "0           130  yes      no     4            1         yes  \n",
       "1           136  yes      no     6            1         yes  \n",
       "2           129  yes     yes     7            1         yes  \n",
       "3           137  yes      no     7            1         yes  \n",
       "4           116   no      no     8            1         yes  "
      ]
     },
     "execution_count": 318,
     "metadata": {},
     "output_type": "execute_result"
    }
   ],
   "source": [
    "### See a snippet of data\n",
    "data.head(5)"
   ]
  },
  {
   "cell_type": "code",
   "execution_count": 319,
   "metadata": {},
   "outputs": [
    {
     "name": "stdout",
     "output_type": "stream",
     "text": [
      "Classes and number of values in the dataset:  Counter({'no': 203, 'yes': 96})\n"
     ]
    }
   ],
   "source": [
    "## 3. Print ditribution of death_event\n",
    "from collections import Counter\n",
    "counter_death_event = Counter(data[\"death_event\"])\n",
    "print('Classes and number of values in the dataset: ', counter_death_event)"
   ]
  },
  {
   "cell_type": "code",
   "execution_count": 320,
   "id": "37867026",
   "metadata": {},
   "outputs": [
    {
     "data": {
      "application/vnd.microsoft.datawrangler.viewer.v0+json": {
       "columns": [
        {
         "name": "index",
         "rawType": "int64",
         "type": "integer"
        },
        {
         "name": "death_event",
         "rawType": "object",
         "type": "string"
        }
       ],
       "ref": "b74169cf-4664-49bd-883f-11d9f513a01a",
       "rows": [
        [
         "0",
         "yes"
        ],
        [
         "1",
         "yes"
        ],
        [
         "2",
         "yes"
        ],
        [
         "3",
         "yes"
        ],
        [
         "4",
         "yes"
        ]
       ],
       "shape": {
        "columns": 1,
        "rows": 5
       }
      },
      "text/plain": [
       "0    yes\n",
       "1    yes\n",
       "2    yes\n",
       "3    yes\n",
       "4    yes\n",
       "Name: death_event, dtype: object"
      ]
     },
     "execution_count": 320,
     "metadata": {},
     "output_type": "execute_result"
    }
   ],
   "source": [
    "## 4. Assign label\n",
    "y = data.pop(\"death_event\")\n",
    "y.head(5)"
   ]
  },
  {
   "cell_type": "code",
   "execution_count": 321,
   "id": "d76a0b2a",
   "metadata": {},
   "outputs": [
    {
     "data": {
      "application/vnd.microsoft.datawrangler.viewer.v0+json": {
       "columns": [
        {
         "name": "index",
         "rawType": "int64",
         "type": "integer"
        },
        {
         "name": "age",
         "rawType": "float64",
         "type": "float"
        },
        {
         "name": "anaemia",
         "rawType": "object",
         "type": "string"
        },
        {
         "name": "creatinine_phosphokinase",
         "rawType": "int64",
         "type": "integer"
        },
        {
         "name": "diabetes",
         "rawType": "object",
         "type": "string"
        },
        {
         "name": "ejection_fraction",
         "rawType": "int64",
         "type": "integer"
        },
        {
         "name": "high_blood_pressure",
         "rawType": "object",
         "type": "string"
        },
        {
         "name": "platelets",
         "rawType": "float64",
         "type": "float"
        },
        {
         "name": "serum_creatinine",
         "rawType": "float64",
         "type": "float"
        },
        {
         "name": "serum_sodium",
         "rawType": "int64",
         "type": "integer"
        },
        {
         "name": "sex",
         "rawType": "object",
         "type": "string"
        },
        {
         "name": "smoking",
         "rawType": "object",
         "type": "string"
        },
        {
         "name": "time",
         "rawType": "int64",
         "type": "integer"
        }
       ],
       "ref": "6a3693e5-b4c9-4751-aa81-e7405e4f5e31",
       "rows": [
        [
         "0",
         "75.0",
         "no",
         "582",
         "no",
         "20",
         "yes",
         "265000.0",
         "1.9",
         "130",
         "yes",
         "no",
         "4"
        ],
        [
         "1",
         "55.0",
         "no",
         "7861",
         "no",
         "38",
         "no",
         "263358.03",
         "1.1",
         "136",
         "yes",
         "no",
         "6"
        ],
        [
         "2",
         "65.0",
         "no",
         "146",
         "no",
         "20",
         "no",
         "162000.0",
         "1.3",
         "129",
         "yes",
         "yes",
         "7"
        ],
        [
         "3",
         "50.0",
         "yes",
         "111",
         "no",
         "20",
         "no",
         "210000.0",
         "1.9",
         "137",
         "yes",
         "no",
         "7"
        ],
        [
         "4",
         "65.0",
         "yes",
         "160",
         "yes",
         "20",
         "no",
         "327000.0",
         "2.7",
         "116",
         "no",
         "no",
         "8"
        ]
       ],
       "shape": {
        "columns": 12,
        "rows": 5
       }
      },
      "text/html": [
       "<div>\n",
       "<style scoped>\n",
       "    .dataframe tbody tr th:only-of-type {\n",
       "        vertical-align: middle;\n",
       "    }\n",
       "\n",
       "    .dataframe tbody tr th {\n",
       "        vertical-align: top;\n",
       "    }\n",
       "\n",
       "    .dataframe thead th {\n",
       "        text-align: right;\n",
       "    }\n",
       "</style>\n",
       "<table border=\"1\" class=\"dataframe\">\n",
       "  <thead>\n",
       "    <tr style=\"text-align: right;\">\n",
       "      <th></th>\n",
       "      <th>age</th>\n",
       "      <th>anaemia</th>\n",
       "      <th>creatinine_phosphokinase</th>\n",
       "      <th>diabetes</th>\n",
       "      <th>ejection_fraction</th>\n",
       "      <th>high_blood_pressure</th>\n",
       "      <th>platelets</th>\n",
       "      <th>serum_creatinine</th>\n",
       "      <th>serum_sodium</th>\n",
       "      <th>sex</th>\n",
       "      <th>smoking</th>\n",
       "      <th>time</th>\n",
       "    </tr>\n",
       "  </thead>\n",
       "  <tbody>\n",
       "    <tr>\n",
       "      <th>0</th>\n",
       "      <td>75.0</td>\n",
       "      <td>no</td>\n",
       "      <td>582</td>\n",
       "      <td>no</td>\n",
       "      <td>20</td>\n",
       "      <td>yes</td>\n",
       "      <td>265000.00</td>\n",
       "      <td>1.9</td>\n",
       "      <td>130</td>\n",
       "      <td>yes</td>\n",
       "      <td>no</td>\n",
       "      <td>4</td>\n",
       "    </tr>\n",
       "    <tr>\n",
       "      <th>1</th>\n",
       "      <td>55.0</td>\n",
       "      <td>no</td>\n",
       "      <td>7861</td>\n",
       "      <td>no</td>\n",
       "      <td>38</td>\n",
       "      <td>no</td>\n",
       "      <td>263358.03</td>\n",
       "      <td>1.1</td>\n",
       "      <td>136</td>\n",
       "      <td>yes</td>\n",
       "      <td>no</td>\n",
       "      <td>6</td>\n",
       "    </tr>\n",
       "    <tr>\n",
       "      <th>2</th>\n",
       "      <td>65.0</td>\n",
       "      <td>no</td>\n",
       "      <td>146</td>\n",
       "      <td>no</td>\n",
       "      <td>20</td>\n",
       "      <td>no</td>\n",
       "      <td>162000.00</td>\n",
       "      <td>1.3</td>\n",
       "      <td>129</td>\n",
       "      <td>yes</td>\n",
       "      <td>yes</td>\n",
       "      <td>7</td>\n",
       "    </tr>\n",
       "    <tr>\n",
       "      <th>3</th>\n",
       "      <td>50.0</td>\n",
       "      <td>yes</td>\n",
       "      <td>111</td>\n",
       "      <td>no</td>\n",
       "      <td>20</td>\n",
       "      <td>no</td>\n",
       "      <td>210000.00</td>\n",
       "      <td>1.9</td>\n",
       "      <td>137</td>\n",
       "      <td>yes</td>\n",
       "      <td>no</td>\n",
       "      <td>7</td>\n",
       "    </tr>\n",
       "    <tr>\n",
       "      <th>4</th>\n",
       "      <td>65.0</td>\n",
       "      <td>yes</td>\n",
       "      <td>160</td>\n",
       "      <td>yes</td>\n",
       "      <td>20</td>\n",
       "      <td>no</td>\n",
       "      <td>327000.00</td>\n",
       "      <td>2.7</td>\n",
       "      <td>116</td>\n",
       "      <td>no</td>\n",
       "      <td>no</td>\n",
       "      <td>8</td>\n",
       "    </tr>\n",
       "  </tbody>\n",
       "</table>\n",
       "</div>"
      ],
      "text/plain": [
       "    age anaemia  creatinine_phosphokinase diabetes  ejection_fraction  \\\n",
       "0  75.0      no                       582       no                 20   \n",
       "1  55.0      no                      7861       no                 38   \n",
       "2  65.0      no                       146       no                 20   \n",
       "3  50.0     yes                       111       no                 20   \n",
       "4  65.0     yes                       160      yes                 20   \n",
       "\n",
       "  high_blood_pressure  platelets  serum_creatinine  serum_sodium  sex smoking  \\\n",
       "0                 yes  265000.00               1.9           130  yes      no   \n",
       "1                  no  263358.03               1.1           136  yes      no   \n",
       "2                  no  162000.00               1.3           129  yes     yes   \n",
       "3                  no  210000.00               1.9           137  yes      no   \n",
       "4                  no  327000.00               2.7           116   no      no   \n",
       "\n",
       "   time  \n",
       "0     4  \n",
       "1     6  \n",
       "2     7  \n",
       "3     7  \n",
       "4     8  "
      ]
     },
     "execution_count": 321,
     "metadata": {},
     "output_type": "execute_result"
    }
   ],
   "source": [
    "## 5. Extract useful features\n",
    "X = data.loc[:, ['age','anaemia','creatinine_phosphokinase','diabetes','ejection_fraction','high_blood_pressure','platelets','serum_creatinine','serum_sodium','sex','smoking','time']]\n",
    "X.head(5)"
   ]
  },
  {
   "cell_type": "code",
   "execution_count": 322,
   "id": "fca0402e",
   "metadata": {},
   "outputs": [
    {
     "name": "stdout",
     "output_type": "stream",
     "text": [
      "['anaemia', 'diabetes', 'high_blood_pressure', 'sex', 'smoking']\n",
      "['age', 'creatinine_phosphokinase', 'ejection_fraction', 'platelets', 'serum_creatinine', 'serum_sodium', 'time', 'anaemia_no', 'anaemia_yes', 'diabetes_no', 'diabetes_yes', 'high_blood_pressure_no', 'high_blood_pressure_yes', 'sex_no', 'sex_yes', 'smoking_no', 'smoking_yes']\n"
     ]
    }
   ],
   "source": [
    "# Data Preprocessing\n",
    "## 6. One-hot encoding for categorical features\n",
    "cat_cols = X.select_dtypes(include = 'object').columns.tolist()\n",
    "print(cat_cols)\n",
    "\n",
    "X = pd.get_dummies(X, columns = cat_cols)\n",
    "print(X.columns.tolist())"
   ]
  },
  {
   "cell_type": "code",
   "execution_count": 323,
   "id": "678a620c",
   "metadata": {},
   "outputs": [],
   "source": [
    "## 7. Split the data\n",
    "from sklearn.model_selection import train_test_split\n",
    "X_train, X_test, y_train, y_test = train_test_split(\n",
    "  X, y, test_size = 0.20, train_size = 0.80, random_state = 42\n",
    "  )"
   ]
  },
  {
   "cell_type": "code",
   "execution_count": 324,
   "id": "c2256b5f",
   "metadata": {},
   "outputs": [
    {
     "name": "stdout",
     "output_type": "stream",
     "text": [
      "New class distribution after SMOTE: Counter({'yes': 168, 'no': 168})\n"
     ]
    }
   ],
   "source": [
    "### Apply SMOTE as the data is imbalanced\n",
    "from imblearn.over_sampling import SMOTE\n",
    "smote = SMOTE(random_state=42)\n",
    "\n",
    "# Use y_train before one-hot encoding\n",
    "X_train, y_train_res = smote.fit_resample(X_train, y_train)\n",
    "\n",
    "print(\"New class distribution after SMOTE:\", Counter(y_train_res))"
   ]
  },
  {
   "cell_type": "code",
   "execution_count": 325,
   "id": "d84b0e42",
   "metadata": {},
   "outputs": [],
   "source": [
    "## 8. and 9. Scale the numeric features for normalisation\n",
    "from sklearn.compose import ColumnTransformer\n",
    "from sklearn.preprocessing import StandardScaler\n",
    "\n",
    "### get numeric column names\n",
    "numeric_cols = X.select_dtypes(include = [\"int64\", \"float64\"]).columns.tolist()\n",
    "\n",
    "### define the tranformer (necessary for ColumnTransformer)\n",
    "transformer = [(\"My_Standard_Scaler\",  StandardScaler(), numeric_cols)]\n",
    "\n",
    "### set the column transformer settings\n",
    "my_ct = ColumnTransformer(transformer, remainder='passthrough', verbose=False) \n",
    "\n",
    "### fit the scaler and transform data\n",
    "X_train_scaled = my_ct.fit_transform(X_train)\n",
    "X_test_scaled = my_ct.transform(X_test)"
   ]
  },
  {
   "cell_type": "code",
   "execution_count": 326,
   "id": "bc165314",
   "metadata": {},
   "outputs": [
    {
     "data": {
      "application/vnd.microsoft.datawrangler.viewer.v0+json": {
       "columns": [
        {
         "name": "index",
         "rawType": "int64",
         "type": "integer"
        },
        {
         "name": "age",
         "rawType": "float64",
         "type": "float"
        },
        {
         "name": "creatinine_phosphokinase",
         "rawType": "float64",
         "type": "float"
        },
        {
         "name": "ejection_fraction",
         "rawType": "float64",
         "type": "float"
        },
        {
         "name": "platelets",
         "rawType": "float64",
         "type": "float"
        },
        {
         "name": "serum_creatinine",
         "rawType": "float64",
         "type": "float"
        },
        {
         "name": "serum_sodium",
         "rawType": "float64",
         "type": "float"
        },
        {
         "name": "time",
         "rawType": "float64",
         "type": "float"
        },
        {
         "name": "anaemia_no",
         "rawType": "float64",
         "type": "float"
        },
        {
         "name": "anaemia_yes",
         "rawType": "float64",
         "type": "float"
        },
        {
         "name": "diabetes_no",
         "rawType": "float64",
         "type": "float"
        },
        {
         "name": "diabetes_yes",
         "rawType": "float64",
         "type": "float"
        },
        {
         "name": "high_blood_pressure_no",
         "rawType": "float64",
         "type": "float"
        },
        {
         "name": "high_blood_pressure_yes",
         "rawType": "float64",
         "type": "float"
        },
        {
         "name": "sex_no",
         "rawType": "float64",
         "type": "float"
        },
        {
         "name": "sex_yes",
         "rawType": "float64",
         "type": "float"
        },
        {
         "name": "smoking_no",
         "rawType": "float64",
         "type": "float"
        },
        {
         "name": "smoking_yes",
         "rawType": "float64",
         "type": "float"
        }
       ],
       "ref": "8d2e1735-0b43-4cd4-b8d1-d239e641f7ee",
       "rows": [
        [
         "0",
         "1.0611190654405644",
         "-0.36822757023007113",
         "-1.8773219787506332",
         "-1.3173129092548963",
         "-0.3062886827509588",
         "0.2359228806835799",
         "-1.3388552904065323",
         "0.0",
         "1.0",
         "1.0",
         "0.0",
         "1.0",
         "0.0",
         "0.0",
         "1.0",
         "1.0",
         "0.0"
        ],
        [
         "1",
         "1.0611190654405644",
         "-0.5177380073867923",
         "0.11771986005366979",
         "-0.3138765156943147",
         "0.9536282346384429",
         "-0.4655823220569678",
         "0.6197267842853336",
         "1.0",
         "0.0",
         "1.0",
         "0.0",
         "0.0",
         "1.0",
         "0.0",
         "1.0",
         "1.0",
         "0.0"
        ],
        [
         "2",
         "-0.15653042858987593",
         "-0.5126526183678562",
         "-0.5762077360521748",
         "1.3929998238674994",
         "-0.015538624891866032",
         "0.0020878131033973354",
         "0.7356954597605099",
         "0.0",
         "1.0",
         "0.0",
         "1.0",
         "1.0",
         "0.0",
         "0.0",
         "1.0",
         "1.0",
         "0.0"
        ],
        [
         "3",
         "-0.8928290516807732",
         "-0.48417443986181413",
         "-0.5762077360521748",
         "-0.3759447462238352",
         "-0.7908721125161132",
         "0.0020878131033973354",
         "-0.02454363502120124",
         "1.0",
         "0.0",
         "1.0",
         "0.0",
         "1.0",
         "0.0",
         "0.0",
         "1.0",
         "0.0",
         "1.0"
        ],
        [
         "4",
         "2.6752501187147133",
         "-0.026489428157565383",
         "0.11771986005366979",
         "0.09327069751031633",
         "0.304286438753136",
         "-0.4655823220569678",
         "-1.1198033478423104",
         "1.0",
         "0.0",
         "0.0",
         "1.0",
         "0.0",
         "1.0",
         "0.0",
         "1.0",
         "1.0",
         "0.0"
        ]
       ],
       "shape": {
        "columns": 17,
        "rows": 5
       }
      },
      "text/html": [
       "<div>\n",
       "<style scoped>\n",
       "    .dataframe tbody tr th:only-of-type {\n",
       "        vertical-align: middle;\n",
       "    }\n",
       "\n",
       "    .dataframe tbody tr th {\n",
       "        vertical-align: top;\n",
       "    }\n",
       "\n",
       "    .dataframe thead th {\n",
       "        text-align: right;\n",
       "    }\n",
       "</style>\n",
       "<table border=\"1\" class=\"dataframe\">\n",
       "  <thead>\n",
       "    <tr style=\"text-align: right;\">\n",
       "      <th></th>\n",
       "      <th>age</th>\n",
       "      <th>creatinine_phosphokinase</th>\n",
       "      <th>ejection_fraction</th>\n",
       "      <th>platelets</th>\n",
       "      <th>serum_creatinine</th>\n",
       "      <th>serum_sodium</th>\n",
       "      <th>time</th>\n",
       "      <th>anaemia_no</th>\n",
       "      <th>anaemia_yes</th>\n",
       "      <th>diabetes_no</th>\n",
       "      <th>diabetes_yes</th>\n",
       "      <th>high_blood_pressure_no</th>\n",
       "      <th>high_blood_pressure_yes</th>\n",
       "      <th>sex_no</th>\n",
       "      <th>sex_yes</th>\n",
       "      <th>smoking_no</th>\n",
       "      <th>smoking_yes</th>\n",
       "    </tr>\n",
       "  </thead>\n",
       "  <tbody>\n",
       "    <tr>\n",
       "      <th>0</th>\n",
       "      <td>1.061119</td>\n",
       "      <td>-0.368228</td>\n",
       "      <td>-1.877322</td>\n",
       "      <td>-1.317313</td>\n",
       "      <td>-0.306289</td>\n",
       "      <td>0.235923</td>\n",
       "      <td>-1.338855</td>\n",
       "      <td>0.0</td>\n",
       "      <td>1.0</td>\n",
       "      <td>1.0</td>\n",
       "      <td>0.0</td>\n",
       "      <td>1.0</td>\n",
       "      <td>0.0</td>\n",
       "      <td>0.0</td>\n",
       "      <td>1.0</td>\n",
       "      <td>1.0</td>\n",
       "      <td>0.0</td>\n",
       "    </tr>\n",
       "    <tr>\n",
       "      <th>1</th>\n",
       "      <td>1.061119</td>\n",
       "      <td>-0.517738</td>\n",
       "      <td>0.117720</td>\n",
       "      <td>-0.313877</td>\n",
       "      <td>0.953628</td>\n",
       "      <td>-0.465582</td>\n",
       "      <td>0.619727</td>\n",
       "      <td>1.0</td>\n",
       "      <td>0.0</td>\n",
       "      <td>1.0</td>\n",
       "      <td>0.0</td>\n",
       "      <td>0.0</td>\n",
       "      <td>1.0</td>\n",
       "      <td>0.0</td>\n",
       "      <td>1.0</td>\n",
       "      <td>1.0</td>\n",
       "      <td>0.0</td>\n",
       "    </tr>\n",
       "    <tr>\n",
       "      <th>2</th>\n",
       "      <td>-0.156530</td>\n",
       "      <td>-0.512653</td>\n",
       "      <td>-0.576208</td>\n",
       "      <td>1.393000</td>\n",
       "      <td>-0.015539</td>\n",
       "      <td>0.002088</td>\n",
       "      <td>0.735695</td>\n",
       "      <td>0.0</td>\n",
       "      <td>1.0</td>\n",
       "      <td>0.0</td>\n",
       "      <td>1.0</td>\n",
       "      <td>1.0</td>\n",
       "      <td>0.0</td>\n",
       "      <td>0.0</td>\n",
       "      <td>1.0</td>\n",
       "      <td>1.0</td>\n",
       "      <td>0.0</td>\n",
       "    </tr>\n",
       "    <tr>\n",
       "      <th>3</th>\n",
       "      <td>-0.892829</td>\n",
       "      <td>-0.484174</td>\n",
       "      <td>-0.576208</td>\n",
       "      <td>-0.375945</td>\n",
       "      <td>-0.790872</td>\n",
       "      <td>0.002088</td>\n",
       "      <td>-0.024544</td>\n",
       "      <td>1.0</td>\n",
       "      <td>0.0</td>\n",
       "      <td>1.0</td>\n",
       "      <td>0.0</td>\n",
       "      <td>1.0</td>\n",
       "      <td>0.0</td>\n",
       "      <td>0.0</td>\n",
       "      <td>1.0</td>\n",
       "      <td>0.0</td>\n",
       "      <td>1.0</td>\n",
       "    </tr>\n",
       "    <tr>\n",
       "      <th>4</th>\n",
       "      <td>2.675250</td>\n",
       "      <td>-0.026489</td>\n",
       "      <td>0.117720</td>\n",
       "      <td>0.093271</td>\n",
       "      <td>0.304286</td>\n",
       "      <td>-0.465582</td>\n",
       "      <td>-1.119803</td>\n",
       "      <td>1.0</td>\n",
       "      <td>0.0</td>\n",
       "      <td>0.0</td>\n",
       "      <td>1.0</td>\n",
       "      <td>0.0</td>\n",
       "      <td>1.0</td>\n",
       "      <td>0.0</td>\n",
       "      <td>1.0</td>\n",
       "      <td>1.0</td>\n",
       "      <td>0.0</td>\n",
       "    </tr>\n",
       "  </tbody>\n",
       "</table>\n",
       "</div>"
      ],
      "text/plain": [
       "        age  creatinine_phosphokinase  ejection_fraction  platelets  \\\n",
       "0  1.061119                 -0.368228          -1.877322  -1.317313   \n",
       "1  1.061119                 -0.517738           0.117720  -0.313877   \n",
       "2 -0.156530                 -0.512653          -0.576208   1.393000   \n",
       "3 -0.892829                 -0.484174          -0.576208  -0.375945   \n",
       "4  2.675250                 -0.026489           0.117720   0.093271   \n",
       "\n",
       "   serum_creatinine  serum_sodium      time  anaemia_no  anaemia_yes  \\\n",
       "0         -0.306289      0.235923 -1.338855         0.0          1.0   \n",
       "1          0.953628     -0.465582  0.619727         1.0          0.0   \n",
       "2         -0.015539      0.002088  0.735695         0.0          1.0   \n",
       "3         -0.790872      0.002088 -0.024544         1.0          0.0   \n",
       "4          0.304286     -0.465582 -1.119803         1.0          0.0   \n",
       "\n",
       "   diabetes_no  diabetes_yes  high_blood_pressure_no  high_blood_pressure_yes  \\\n",
       "0          1.0           0.0                     1.0                      0.0   \n",
       "1          1.0           0.0                     0.0                      1.0   \n",
       "2          0.0           1.0                     1.0                      0.0   \n",
       "3          1.0           0.0                     1.0                      0.0   \n",
       "4          0.0           1.0                     0.0                      1.0   \n",
       "\n",
       "   sex_no  sex_yes  smoking_no  smoking_yes  \n",
       "0     0.0      1.0         1.0          0.0  \n",
       "1     0.0      1.0         1.0          0.0  \n",
       "2     0.0      1.0         1.0          0.0  \n",
       "3     0.0      1.0         0.0          1.0  \n",
       "4     0.0      1.0         1.0          0.0  "
      ]
     },
     "execution_count": 326,
     "metadata": {},
     "output_type": "execute_result"
    }
   ],
   "source": [
    "### Visualise the normalised data\n",
    "X_train_scaled_df = pd.DataFrame(X_train_scaled, columns=X_train.columns.tolist())\n",
    "X_train_scaled_df.head(5)"
   ]
  },
  {
   "cell_type": "code",
   "execution_count": 327,
   "id": "4db5d9fb",
   "metadata": {},
   "outputs": [
    {
     "name": "stdout",
     "output_type": "stream",
     "text": [
      "un-processed labels: \n",
      " 6      yes\n",
      "183    yes\n",
      "185    yes\n",
      "146     no\n",
      "Name: death_event, dtype: object\n",
      "label-encoded, categorical labels: \n",
      " [[0. 1.]\n",
      " [0. 1.]\n",
      " [0. 1.]\n",
      " [1. 0.]]\n"
     ]
    }
   ],
   "source": [
    "# Prepare labels for classification #\n",
    "## 11. Initialise label encoder\n",
    "from sklearn.preprocessing import LabelEncoder\n",
    "le = LabelEncoder()\n",
    "print(\"un-processed labels: \\n\", y_train[0:4])\n",
    "\n",
    "## 12. and 13. Fit the encoder and transform labels\n",
    "y_train = le.fit_transform(y_train_res)\n",
    "y_test = le.transform(y_test)\n",
    "\n",
    "## 14. and 15. Convert encoded labels into binary vector\n",
    "from tensorflow.keras.utils import to_categorical\n",
    "y_train = to_categorical(y_train)\n",
    "y_test = to_categorical(y_test)\n",
    "\n",
    "print(\"label-encoded, categorical labels: \\n\", y_train[0:4])"
   ]
  },
  {
   "cell_type": "code",
   "execution_count": 328,
   "id": "25a9e167",
   "metadata": {},
   "outputs": [
    {
     "data": {
      "text/html": [
       "<pre style=\"white-space:pre;overflow-x:auto;line-height:normal;font-family:Menlo,'DejaVu Sans Mono',consolas,'Courier New',monospace\"><span style=\"font-weight: bold\">Model: \"sequential_11\"</span>\n",
       "</pre>\n"
      ],
      "text/plain": [
       "\u001b[1mModel: \"sequential_11\"\u001b[0m\n"
      ]
     },
     "metadata": {},
     "output_type": "display_data"
    },
    {
     "data": {
      "text/html": [
       "<pre style=\"white-space:pre;overflow-x:auto;line-height:normal;font-family:Menlo,'DejaVu Sans Mono',consolas,'Courier New',monospace\">┏━━━━━━━━━━━━━━━━━━━━━━━━━━━━━━━━━┳━━━━━━━━━━━━━━━━━━━━━━━━┳━━━━━━━━━━━━━━━┓\n",
       "┃<span style=\"font-weight: bold\"> Layer (type)                    </span>┃<span style=\"font-weight: bold\"> Output Shape           </span>┃<span style=\"font-weight: bold\">       Param # </span>┃\n",
       "┡━━━━━━━━━━━━━━━━━━━━━━━━━━━━━━━━━╇━━━━━━━━━━━━━━━━━━━━━━━━╇━━━━━━━━━━━━━━━┩\n",
       "│ Hidden_Layer1 (<span style=\"color: #0087ff; text-decoration-color: #0087ff\">Dense</span>)           │ (<span style=\"color: #00d7ff; text-decoration-color: #00d7ff\">None</span>, <span style=\"color: #00af00; text-decoration-color: #00af00\">8</span>)              │           <span style=\"color: #00af00; text-decoration-color: #00af00\">144</span> │\n",
       "├─────────────────────────────────┼────────────────────────┼───────────────┤\n",
       "│ Output_Layer (<span style=\"color: #0087ff; text-decoration-color: #0087ff\">Dense</span>)            │ (<span style=\"color: #00d7ff; text-decoration-color: #00d7ff\">None</span>, <span style=\"color: #00af00; text-decoration-color: #00af00\">2</span>)              │            <span style=\"color: #00af00; text-decoration-color: #00af00\">18</span> │\n",
       "└─────────────────────────────────┴────────────────────────┴───────────────┘\n",
       "</pre>\n"
      ],
      "text/plain": [
       "┏━━━━━━━━━━━━━━━━━━━━━━━━━━━━━━━━━┳━━━━━━━━━━━━━━━━━━━━━━━━┳━━━━━━━━━━━━━━━┓\n",
       "┃\u001b[1m \u001b[0m\u001b[1mLayer (type)                   \u001b[0m\u001b[1m \u001b[0m┃\u001b[1m \u001b[0m\u001b[1mOutput Shape          \u001b[0m\u001b[1m \u001b[0m┃\u001b[1m \u001b[0m\u001b[1m      Param #\u001b[0m\u001b[1m \u001b[0m┃\n",
       "┡━━━━━━━━━━━━━━━━━━━━━━━━━━━━━━━━━╇━━━━━━━━━━━━━━━━━━━━━━━━╇━━━━━━━━━━━━━━━┩\n",
       "│ Hidden_Layer1 (\u001b[38;5;33mDense\u001b[0m)           │ (\u001b[38;5;45mNone\u001b[0m, \u001b[38;5;34m8\u001b[0m)              │           \u001b[38;5;34m144\u001b[0m │\n",
       "├─────────────────────────────────┼────────────────────────┼───────────────┤\n",
       "│ Output_Layer (\u001b[38;5;33mDense\u001b[0m)            │ (\u001b[38;5;45mNone\u001b[0m, \u001b[38;5;34m2\u001b[0m)              │            \u001b[38;5;34m18\u001b[0m │\n",
       "└─────────────────────────────────┴────────────────────────┴───────────────┘\n"
      ]
     },
     "metadata": {},
     "output_type": "display_data"
    },
    {
     "data": {
      "text/html": [
       "<pre style=\"white-space:pre;overflow-x:auto;line-height:normal;font-family:Menlo,'DejaVu Sans Mono',consolas,'Courier New',monospace\"><span style=\"font-weight: bold\"> Total params: </span><span style=\"color: #00af00; text-decoration-color: #00af00\">162</span> (648.00 B)\n",
       "</pre>\n"
      ],
      "text/plain": [
       "\u001b[1m Total params: \u001b[0m\u001b[38;5;34m162\u001b[0m (648.00 B)\n"
      ]
     },
     "metadata": {},
     "output_type": "display_data"
    },
    {
     "data": {
      "text/html": [
       "<pre style=\"white-space:pre;overflow-x:auto;line-height:normal;font-family:Menlo,'DejaVu Sans Mono',consolas,'Courier New',monospace\"><span style=\"font-weight: bold\"> Trainable params: </span><span style=\"color: #00af00; text-decoration-color: #00af00\">162</span> (648.00 B)\n",
       "</pre>\n"
      ],
      "text/plain": [
       "\u001b[1m Trainable params: \u001b[0m\u001b[38;5;34m162\u001b[0m (648.00 B)\n"
      ]
     },
     "metadata": {},
     "output_type": "display_data"
    },
    {
     "data": {
      "text/html": [
       "<pre style=\"white-space:pre;overflow-x:auto;line-height:normal;font-family:Menlo,'DejaVu Sans Mono',consolas,'Courier New',monospace\"><span style=\"font-weight: bold\"> Non-trainable params: </span><span style=\"color: #00af00; text-decoration-color: #00af00\">0</span> (0.00 B)\n",
       "</pre>\n"
      ],
      "text/plain": [
       "\u001b[1m Non-trainable params: \u001b[0m\u001b[38;5;34m0\u001b[0m (0.00 B)\n"
      ]
     },
     "metadata": {},
     "output_type": "display_data"
    },
    {
     "name": "stdout",
     "output_type": "stream",
     "text": [
      "None\n"
     ]
    }
   ],
   "source": [
    "# Design the model\n",
    "## 16. Initialise a sequential model\n",
    "from tensorflow.keras.models import Sequential\n",
    "my_model = Sequential()\n",
    "\n",
    "## 17. Create and add the input layer to the model\n",
    "from tensorflow.keras.layers import InputLayer\n",
    "my_model.add(\n",
    "  InputLayer(\n",
    "    shape=(X_train_scaled.shape[1], ),\n",
    "    name=\"Input_Layer\",   \n",
    "  )\n",
    ")\n",
    "\n",
    "## 18. Create and add the hidden dense layer(s) to the model\n",
    "from tensorflow.keras.layers import Dense\n",
    "from tensorflow.keras import regularizers\n",
    "\n",
    "my_model.add(\n",
    "  Dense(\n",
    "    units = 8,\n",
    "    activation = 'relu',    \n",
    "    use_bias = True,\n",
    "    kernel_regularizer = regularizers.L1L2(0.01),\n",
    "    name = \"Hidden_Layer1\"\n",
    "  )\n",
    ")\n",
    "\n",
    "## 19. Create and add the output layer to the model\n",
    "my_model.add(\n",
    "  Dense(\n",
    "    units = len(y_train[1]),\n",
    "    activation = 'softmax',    \n",
    "    use_bias = True,\n",
    "    kernel_regularizer = regularizers.L1L2(0.001),\n",
    "    name = \"Output_Layer\"\n",
    "  )\n",
    ")\n",
    "\n",
    "## Visualise the model\n",
    "print(my_model.summary())"
   ]
  },
  {
   "cell_type": "code",
   "execution_count": 329,
   "id": "07accedc",
   "metadata": {},
   "outputs": [],
   "source": [
    "## 20. Compile the model\n",
    "### Create Optimizer\n",
    "from tensorflow.keras.optimizers import Adam\n",
    "my_optimizer = Adam(learning_rate=0.001)\n",
    "\n",
    "### Define Loss\n",
    "from tensorflow.keras.losses import CategoricalCrossentropy\n",
    "my_loss = CategoricalCrossentropy()\n",
    "\n",
    "### Compile\n",
    "from tensorflow.keras.metrics import AUC, Precision, Recall\n",
    "\n",
    "my_model.compile(\n",
    "    optimizer = my_optimizer,\n",
    "    loss = my_loss,\n",
    "    metrics = [\n",
    "        'categorical_accuracy',\n",
    "        AUC(name='auc'),\n",
    "        Precision(name='precision'),\n",
    "        Recall(name='recall')\n",
    "    ]\n",
    ")"
   ]
  },
  {
   "cell_type": "code",
   "execution_count": 330,
   "id": "6f672757",
   "metadata": {},
   "outputs": [
    {
     "name": "stdout",
     "output_type": "stream",
     "text": [
      "Epoch 1/100\n"
     ]
    },
    {
     "name": "stdout",
     "output_type": "stream",
     "text": [
      "\u001b[1m168/168\u001b[0m \u001b[32m━━━━━━━━━━━━━━━━━━━━\u001b[0m\u001b[37m\u001b[0m \u001b[1m2s\u001b[0m 5ms/step - auc: 0.5075 - categorical_accuracy: 0.5105 - loss: 1.0494 - precision: 0.5105 - recall: 0.5105 - val_auc: 0.6397 - val_categorical_accuracy: 0.6167 - val_loss: 0.9448 - val_precision: 0.6167 - val_recall: 0.6167\n",
      "Epoch 2/100\n",
      "\u001b[1m168/168\u001b[0m \u001b[32m━━━━━━━━━━━━━━━━━━━━\u001b[0m\u001b[37m\u001b[0m \u001b[1m0s\u001b[0m 2ms/step - auc: 0.7556 - categorical_accuracy: 0.6631 - loss: 0.8675 - precision: 0.6631 - recall: 0.6631 - val_auc: 0.7689 - val_categorical_accuracy: 0.7167 - val_loss: 0.8394 - val_precision: 0.7167 - val_recall: 0.7167\n",
      "Epoch 3/100\n",
      "\u001b[1m168/168\u001b[0m \u001b[32m━━━━━━━━━━━━━━━━━━━━\u001b[0m\u001b[37m\u001b[0m \u001b[1m0s\u001b[0m 3ms/step - auc: 0.8522 - categorical_accuracy: 0.7547 - loss: 0.7535 - precision: 0.7547 - recall: 0.7547 - val_auc: 0.8131 - val_categorical_accuracy: 0.7333 - val_loss: 0.7649 - val_precision: 0.7333 - val_recall: 0.7333\n",
      "Epoch 4/100\n",
      "\u001b[1m168/168\u001b[0m \u001b[32m━━━━━━━━━━━━━━━━━━━━\u001b[0m\u001b[37m\u001b[0m \u001b[1m0s\u001b[0m 2ms/step - auc: 0.9145 - categorical_accuracy: 0.8334 - loss: 0.6344 - precision: 0.8334 - recall: 0.8334 - val_auc: 0.8197 - val_categorical_accuracy: 0.7667 - val_loss: 0.7194 - val_precision: 0.7667 - val_recall: 0.7667\n",
      "Epoch 5/100\n",
      "\u001b[1m168/168\u001b[0m \u001b[32m━━━━━━━━━━━━━━━━━━━━\u001b[0m\u001b[37m\u001b[0m \u001b[1m0s\u001b[0m 2ms/step - auc: 0.8962 - categorical_accuracy: 0.8415 - loss: 0.6281 - precision: 0.8415 - recall: 0.8415 - val_auc: 0.8333 - val_categorical_accuracy: 0.7667 - val_loss: 0.6925 - val_precision: 0.7667 - val_recall: 0.7667\n",
      "Epoch 6/100\n",
      "\u001b[1m168/168\u001b[0m \u001b[32m━━━━━━━━━━━━━━━━━━━━\u001b[0m\u001b[37m\u001b[0m \u001b[1m0s\u001b[0m 3ms/step - auc: 0.9259 - categorical_accuracy: 0.8471 - loss: 0.5509 - precision: 0.8471 - recall: 0.8471 - val_auc: 0.8350 - val_categorical_accuracy: 0.7833 - val_loss: 0.6694 - val_precision: 0.7833 - val_recall: 0.7833\n",
      "Epoch 7/100\n",
      "\u001b[1m168/168\u001b[0m \u001b[32m━━━━━━━━━━━━━━━━━━━━\u001b[0m\u001b[37m\u001b[0m \u001b[1m0s\u001b[0m 3ms/step - auc: 0.9124 - categorical_accuracy: 0.8419 - loss: 0.5565 - precision: 0.8419 - recall: 0.8419 - val_auc: 0.8400 - val_categorical_accuracy: 0.7833 - val_loss: 0.6552 - val_precision: 0.7833 - val_recall: 0.7833\n",
      "Epoch 8/100\n",
      "\u001b[1m168/168\u001b[0m \u001b[32m━━━━━━━━━━━━━━━━━━━━\u001b[0m\u001b[37m\u001b[0m \u001b[1m0s\u001b[0m 2ms/step - auc: 0.9319 - categorical_accuracy: 0.8448 - loss: 0.5027 - precision: 0.8448 - recall: 0.8448 - val_auc: 0.8375 - val_categorical_accuracy: 0.7833 - val_loss: 0.6489 - val_precision: 0.7833 - val_recall: 0.7833\n",
      "Epoch 9/100\n",
      "\u001b[1m168/168\u001b[0m \u001b[32m━━━━━━━━━━━━━━━━━━━━\u001b[0m\u001b[37m\u001b[0m \u001b[1m0s\u001b[0m 2ms/step - auc: 0.9390 - categorical_accuracy: 0.8673 - loss: 0.4743 - precision: 0.8673 - recall: 0.8673 - val_auc: 0.8392 - val_categorical_accuracy: 0.7833 - val_loss: 0.6403 - val_precision: 0.7833 - val_recall: 0.7833\n",
      "Epoch 10/100\n",
      "\u001b[1m168/168\u001b[0m \u001b[32m━━━━━━━━━━━━━━━━━━━━\u001b[0m\u001b[37m\u001b[0m \u001b[1m0s\u001b[0m 2ms/step - auc: 0.9545 - categorical_accuracy: 0.9084 - loss: 0.4335 - precision: 0.9084 - recall: 0.9084 - val_auc: 0.8400 - val_categorical_accuracy: 0.7833 - val_loss: 0.6294 - val_precision: 0.7833 - val_recall: 0.7833\n",
      "Epoch 11/100\n",
      "\u001b[1m168/168\u001b[0m \u001b[32m━━━━━━━━━━━━━━━━━━━━\u001b[0m\u001b[37m\u001b[0m \u001b[1m0s\u001b[0m 2ms/step - auc: 0.9583 - categorical_accuracy: 0.8960 - loss: 0.4070 - precision: 0.8960 - recall: 0.8960 - val_auc: 0.8381 - val_categorical_accuracy: 0.8000 - val_loss: 0.6301 - val_precision: 0.8000 - val_recall: 0.8000\n",
      "Epoch 12/100\n",
      "\u001b[1m168/168\u001b[0m \u001b[32m━━━━━━━━━━━━━━━━━━━━\u001b[0m\u001b[37m\u001b[0m \u001b[1m0s\u001b[0m 1ms/step - auc: 0.9402 - categorical_accuracy: 0.8441 - loss: 0.4265 - precision: 0.8441 - recall: 0.8441 - val_auc: 0.8406 - val_categorical_accuracy: 0.8000 - val_loss: 0.6173 - val_precision: 0.8000 - val_recall: 0.8000\n",
      "Epoch 13/100\n",
      "\u001b[1m168/168\u001b[0m \u001b[32m━━━━━━━━━━━━━━━━━━━━\u001b[0m\u001b[37m\u001b[0m \u001b[1m0s\u001b[0m 2ms/step - auc: 0.9304 - categorical_accuracy: 0.8459 - loss: 0.4475 - precision: 0.8459 - recall: 0.8459 - val_auc: 0.8361 - val_categorical_accuracy: 0.7833 - val_loss: 0.6209 - val_precision: 0.7833 - val_recall: 0.7833\n",
      "Epoch 14/100\n",
      "\u001b[1m168/168\u001b[0m \u001b[32m━━━━━━━━━━━━━━━━━━━━\u001b[0m\u001b[37m\u001b[0m \u001b[1m0s\u001b[0m 2ms/step - auc: 0.9305 - categorical_accuracy: 0.8396 - loss: 0.4389 - precision: 0.8396 - recall: 0.8396 - val_auc: 0.8417 - val_categorical_accuracy: 0.8000 - val_loss: 0.6061 - val_precision: 0.8000 - val_recall: 0.8000\n",
      "Epoch 15/100\n",
      "\u001b[1m168/168\u001b[0m \u001b[32m━━━━━━━━━━━━━━━━━━━━\u001b[0m\u001b[37m\u001b[0m \u001b[1m0s\u001b[0m 3ms/step - auc: 0.9222 - categorical_accuracy: 0.8390 - loss: 0.4579 - precision: 0.8390 - recall: 0.8390 - val_auc: 0.8406 - val_categorical_accuracy: 0.8000 - val_loss: 0.6023 - val_precision: 0.8000 - val_recall: 0.8000\n",
      "Epoch 16/100\n",
      "\u001b[1m168/168\u001b[0m \u001b[32m━━━━━━━━━━━━━━━━━━━━\u001b[0m\u001b[37m\u001b[0m \u001b[1m1s\u001b[0m 3ms/step - auc: 0.9353 - categorical_accuracy: 0.8653 - loss: 0.4227 - precision: 0.8653 - recall: 0.8653 - val_auc: 0.8408 - val_categorical_accuracy: 0.8000 - val_loss: 0.6034 - val_precision: 0.8000 - val_recall: 0.8000\n",
      "Epoch 17/100\n",
      "\u001b[1m168/168\u001b[0m \u001b[32m━━━━━━━━━━━━━━━━━━━━\u001b[0m\u001b[37m\u001b[0m \u001b[1m1s\u001b[0m 3ms/step - auc: 0.9322 - categorical_accuracy: 0.8494 - loss: 0.4294 - precision: 0.8494 - recall: 0.8494 - val_auc: 0.8425 - val_categorical_accuracy: 0.8000 - val_loss: 0.6030 - val_precision: 0.8000 - val_recall: 0.8000\n",
      "Epoch 18/100\n",
      "\u001b[1m168/168\u001b[0m \u001b[32m━━━━━━━━━━━━━━━━━━━━\u001b[0m\u001b[37m\u001b[0m \u001b[1m0s\u001b[0m 3ms/step - auc: 0.9467 - categorical_accuracy: 0.8729 - loss: 0.3894 - precision: 0.8729 - recall: 0.8729 - val_auc: 0.8383 - val_categorical_accuracy: 0.7833 - val_loss: 0.6109 - val_precision: 0.7833 - val_recall: 0.7833\n",
      "Epoch 19/100\n",
      "\u001b[1m168/168\u001b[0m \u001b[32m━━━━━━━━━━━━━━━━━━━━\u001b[0m\u001b[37m\u001b[0m \u001b[1m0s\u001b[0m 3ms/step - auc: 0.9609 - categorical_accuracy: 0.8833 - loss: 0.3528 - precision: 0.8833 - recall: 0.8833 - val_auc: 0.8397 - val_categorical_accuracy: 0.8000 - val_loss: 0.6070 - val_precision: 0.8000 - val_recall: 0.8000\n",
      "Epoch 20/100\n",
      "\u001b[1m168/168\u001b[0m \u001b[32m━━━━━━━━━━━━━━━━━━━━\u001b[0m\u001b[37m\u001b[0m \u001b[1m0s\u001b[0m 3ms/step - auc: 0.9440 - categorical_accuracy: 0.8742 - loss: 0.3948 - precision: 0.8742 - recall: 0.8742 - val_auc: 0.8396 - val_categorical_accuracy: 0.7833 - val_loss: 0.6053 - val_precision: 0.7833 - val_recall: 0.7833\n",
      "Epoch 21/100\n",
      "\u001b[1m168/168\u001b[0m \u001b[32m━━━━━━━━━━━━━━━━━━━━\u001b[0m\u001b[37m\u001b[0m \u001b[1m0s\u001b[0m 3ms/step - auc: 0.9539 - categorical_accuracy: 0.8656 - loss: 0.3695 - precision: 0.8656 - recall: 0.8656 - val_auc: 0.8381 - val_categorical_accuracy: 0.7833 - val_loss: 0.6148 - val_precision: 0.7833 - val_recall: 0.7833\n",
      "Epoch 22/100\n",
      "\u001b[1m168/168\u001b[0m \u001b[32m━━━━━━━━━━━━━━━━━━━━\u001b[0m\u001b[37m\u001b[0m \u001b[1m1s\u001b[0m 3ms/step - auc: 0.9321 - categorical_accuracy: 0.8446 - loss: 0.4176 - precision: 0.8446 - recall: 0.8446 - val_auc: 0.8413 - val_categorical_accuracy: 0.8000 - val_loss: 0.6037 - val_precision: 0.8000 - val_recall: 0.8000\n",
      "Epoch 23/100\n",
      "\u001b[1m168/168\u001b[0m \u001b[32m━━━━━━━━━━━━━━━━━━━━\u001b[0m\u001b[37m\u001b[0m \u001b[1m1s\u001b[0m 3ms/step - auc: 0.9515 - categorical_accuracy: 0.8734 - loss: 0.3734 - precision: 0.8734 - recall: 0.8734 - val_auc: 0.8399 - val_categorical_accuracy: 0.7833 - val_loss: 0.6050 - val_precision: 0.7833 - val_recall: 0.7833\n",
      "Epoch 24/100\n",
      "\u001b[1m168/168\u001b[0m \u001b[32m━━━━━━━━━━━━━━━━━━━━\u001b[0m\u001b[37m\u001b[0m \u001b[1m0s\u001b[0m 2ms/step - auc: 0.9579 - categorical_accuracy: 0.8667 - loss: 0.3584 - precision: 0.8667 - recall: 0.8667 - val_auc: 0.8431 - val_categorical_accuracy: 0.7833 - val_loss: 0.5962 - val_precision: 0.7833 - val_recall: 0.7833\n",
      "Epoch 25/100\n",
      "\u001b[1m168/168\u001b[0m \u001b[32m━━━━━━━━━━━━━━━━━━━━\u001b[0m\u001b[37m\u001b[0m \u001b[1m0s\u001b[0m 3ms/step - auc: 0.9569 - categorical_accuracy: 0.8812 - loss: 0.3623 - precision: 0.8812 - recall: 0.8812 - val_auc: 0.8407 - val_categorical_accuracy: 0.7833 - val_loss: 0.6026 - val_precision: 0.7833 - val_recall: 0.7833\n",
      "Epoch 26/100\n",
      "\u001b[1m168/168\u001b[0m \u001b[32m━━━━━━━━━━━━━━━━━━━━\u001b[0m\u001b[37m\u001b[0m \u001b[1m0s\u001b[0m 3ms/step - auc: 0.9439 - categorical_accuracy: 0.8494 - loss: 0.3831 - precision: 0.8494 - recall: 0.8494 - val_auc: 0.8400 - val_categorical_accuracy: 0.7667 - val_loss: 0.6007 - val_precision: 0.7667 - val_recall: 0.7667\n",
      "Epoch 27/100\n",
      "\u001b[1m168/168\u001b[0m \u001b[32m━━━━━━━━━━━━━━━━━━━━\u001b[0m\u001b[37m\u001b[0m \u001b[1m1s\u001b[0m 3ms/step - auc: 0.9662 - categorical_accuracy: 0.9017 - loss: 0.3359 - precision: 0.9017 - recall: 0.9017 - val_auc: 0.8422 - val_categorical_accuracy: 0.7667 - val_loss: 0.5957 - val_precision: 0.7667 - val_recall: 0.7667\n",
      "Epoch 28/100\n",
      "\u001b[1m168/168\u001b[0m \u001b[32m━━━━━━━━━━━━━━━━━━━━\u001b[0m\u001b[37m\u001b[0m \u001b[1m0s\u001b[0m 2ms/step - auc: 0.9534 - categorical_accuracy: 0.8751 - loss: 0.3636 - precision: 0.8751 - recall: 0.8751 - val_auc: 0.8375 - val_categorical_accuracy: 0.7667 - val_loss: 0.6068 - val_precision: 0.7667 - val_recall: 0.7667\n",
      "Epoch 29/100\n",
      "\u001b[1m168/168\u001b[0m \u001b[32m━━━━━━━━━━━━━━━━━━━━\u001b[0m\u001b[37m\u001b[0m \u001b[1m0s\u001b[0m 2ms/step - auc: 0.9502 - categorical_accuracy: 0.8823 - loss: 0.3772 - precision: 0.8823 - recall: 0.8823 - val_auc: 0.8383 - val_categorical_accuracy: 0.7667 - val_loss: 0.6086 - val_precision: 0.7667 - val_recall: 0.7667\n",
      "Epoch 30/100\n",
      "\u001b[1m168/168\u001b[0m \u001b[32m━━━━━━━━━━━━━━━━━━━━\u001b[0m\u001b[37m\u001b[0m \u001b[1m0s\u001b[0m 2ms/step - auc: 0.9524 - categorical_accuracy: 0.8747 - loss: 0.3648 - precision: 0.8747 - recall: 0.8747 - val_auc: 0.8411 - val_categorical_accuracy: 0.7667 - val_loss: 0.6049 - val_precision: 0.7667 - val_recall: 0.7667\n",
      "Epoch 31/100\n",
      "\u001b[1m168/168\u001b[0m \u001b[32m━━━━━━━━━━━━━━━━━━━━\u001b[0m\u001b[37m\u001b[0m \u001b[1m0s\u001b[0m 2ms/step - auc: 0.9596 - categorical_accuracy: 0.8823 - loss: 0.3454 - precision: 0.8823 - recall: 0.8823 - val_auc: 0.8428 - val_categorical_accuracy: 0.7667 - val_loss: 0.5980 - val_precision: 0.7667 - val_recall: 0.7667\n",
      "Epoch 32/100\n",
      "\u001b[1m168/168\u001b[0m \u001b[32m━━━━━━━━━━━━━━━━━━━━\u001b[0m\u001b[37m\u001b[0m \u001b[1m0s\u001b[0m 2ms/step - auc: 0.9606 - categorical_accuracy: 0.8862 - loss: 0.3433 - precision: 0.8862 - recall: 0.8862 - val_auc: 0.8432 - val_categorical_accuracy: 0.7667 - val_loss: 0.5970 - val_precision: 0.7667 - val_recall: 0.7667\n",
      "Epoch 33/100\n",
      "\u001b[1m168/168\u001b[0m \u001b[32m━━━━━━━━━━━━━━━━━━━━\u001b[0m\u001b[37m\u001b[0m \u001b[1m0s\u001b[0m 2ms/step - auc: 0.9571 - categorical_accuracy: 0.8849 - loss: 0.3610 - precision: 0.8849 - recall: 0.8849 - val_auc: 0.8369 - val_categorical_accuracy: 0.7500 - val_loss: 0.6139 - val_precision: 0.7500 - val_recall: 0.7500\n",
      "Epoch 34/100\n",
      "\u001b[1m168/168\u001b[0m \u001b[32m━━━━━━━━━━━━━━━━━━━━\u001b[0m\u001b[37m\u001b[0m \u001b[1m0s\u001b[0m 2ms/step - auc: 0.9636 - categorical_accuracy: 0.8760 - loss: 0.3319 - precision: 0.8760 - recall: 0.8760 - val_auc: 0.8347 - val_categorical_accuracy: 0.7500 - val_loss: 0.6159 - val_precision: 0.7500 - val_recall: 0.7500\n",
      "Epoch 35/100\n",
      "\u001b[1m168/168\u001b[0m \u001b[32m━━━━━━━━━━━━━━━━━━━━\u001b[0m\u001b[37m\u001b[0m \u001b[1m0s\u001b[0m 2ms/step - auc: 0.9695 - categorical_accuracy: 0.8860 - loss: 0.3190 - precision: 0.8860 - recall: 0.8860 - val_auc: 0.8392 - val_categorical_accuracy: 0.7500 - val_loss: 0.6088 - val_precision: 0.7500 - val_recall: 0.7500\n",
      "Epoch 36/100\n",
      "\u001b[1m168/168\u001b[0m \u001b[32m━━━━━━━━━━━━━━━━━━━━\u001b[0m\u001b[37m\u001b[0m \u001b[1m0s\u001b[0m 3ms/step - auc: 0.9567 - categorical_accuracy: 0.8840 - loss: 0.3512 - precision: 0.8840 - recall: 0.8840 - val_auc: 0.8347 - val_categorical_accuracy: 0.7667 - val_loss: 0.6235 - val_precision: 0.7667 - val_recall: 0.7667\n",
      "Epoch 37/100\n",
      "\u001b[1m168/168\u001b[0m \u001b[32m━━━━━━━━━━━━━━━━━━━━\u001b[0m\u001b[37m\u001b[0m \u001b[1m0s\u001b[0m 2ms/step - auc: 0.9518 - categorical_accuracy: 0.8680 - loss: 0.3625 - precision: 0.8680 - recall: 0.8680 - val_auc: 0.8367 - val_categorical_accuracy: 0.7500 - val_loss: 0.6170 - val_precision: 0.7500 - val_recall: 0.7500\n"
     ]
    }
   ],
   "source": [
    "# Train and ealuate model # \n",
    "from tensorflow.keras.callbacks import EarlyStopping\n",
    "early_stop = EarlyStopping(monitor='val_loss', patience=10, restore_best_weights=True)\n",
    "\n",
    "## 21. Train the model\n",
    "history = my_model.fit(\n",
    "              x=X_train_scaled,\n",
    "              y=y_train,\n",
    "              batch_size=2,\n",
    "              epochs=100,\n",
    "              verbose=1,\n",
    "              callbacks=[early_stop], # can add layter on\n",
    "              validation_data=(X_test_scaled, y_test),\n",
    "              shuffle=True\n",
    "              )"
   ]
  },
  {
   "cell_type": "code",
   "execution_count": 331,
   "id": "af1ccb9d",
   "metadata": {},
   "outputs": [
    {
     "data": {
      "image/png": "[encoded data removed]",
      "text/plain": [
       "<Figure size 1400x500 with 2 Axes>"
      ]
     },
     "metadata": {},
     "output_type": "display_data"
    }
   ],
   "source": [
    "import matplotlib.pyplot as plt\n",
    "\n",
    "# Create subplots: 1 row, 2 columns\n",
    "fig, axs = plt.subplots(1, 2, figsize=(14, 5))\n",
    "\n",
    "# Plot Loss\n",
    "axs[0].plot(history.history['loss'], label='Training Loss')\n",
    "axs[0].plot(history.history['val_loss'], label='Validation Loss')\n",
    "axs[0].set_xlabel('Epoch')\n",
    "axs[0].set_ylabel('Loss')\n",
    "axs[0].set_title('Loss over Epochs')\n",
    "axs[0].legend()\n",
    "axs[0].grid(True)\n",
    "\n",
    "# Plot Categorical Accuracy\n",
    "axs[1].plot(history.history['categorical_accuracy'], label='Training Accuracy')\n",
    "axs[1].plot(history.history['val_categorical_accuracy'], label='Validation Accuracy')\n",
    "axs[1].set_xlabel('Epoch')\n",
    "axs[1].set_ylabel('Categorical Accuracy')\n",
    "axs[1].set_title('Accuracy over Epochs')\n",
    "axs[1].legend()\n",
    "axs[1].grid(True)\n",
    "\n",
    "plt.tight_layout()\n",
    "plt.show()\n"
   ]
  },
  {
   "cell_type": "code",
   "execution_count": 332,
   "id": "8976f3df",
   "metadata": {},
   "outputs": [
    {
     "name": "stdout",
     "output_type": "stream",
     "text": [
      "Loss = 0.5957\n",
      "Accuracy = 76.67%\n",
      "AUC = 0.8422, Precision = 0.7667, Recall = 0.7667\n"
     ]
    }
   ],
   "source": [
    "## 22. Evaluate the model\n",
    "loss, acc, auc, prec, recall = my_model.evaluate(\n",
    "                    x=X_test_scaled,\n",
    "                    y=y_test,\n",
    "                    batch_size=2,\n",
    "                    verbose=0\n",
    "                    )\n",
    "print(f\"Loss = {loss:.4f}\")\n",
    "print(f\"Accuracy = {acc*100:.2f}%\")\n",
    "print(f\"AUC = {auc:.4f}, Precision = {prec:.4f}, Recall = {recall:.4f}\")"
   ]
  },
  {
   "cell_type": "code",
   "execution_count": 337,
   "id": "b4ca1e41",
   "metadata": {},
   "outputs": [
    {
     "name": "stdout",
     "output_type": "stream",
     "text": [
      "\u001b[1m2/2\u001b[0m \u001b[32m━━━━━━━━━━━━━━━━━━━━\u001b[0m\u001b[37m\u001b[0m \u001b[1m0s\u001b[0m 17ms/step\n",
      "              precision    recall  f1-score   support\n",
      "\n",
      "           0       0.76      0.89      0.82        35\n",
      "           1       0.79      0.60      0.68        25\n",
      "\n",
      "    accuracy                           0.77        60\n",
      "   macro avg       0.77      0.74      0.75        60\n",
      "weighted avg       0.77      0.77      0.76        60\n",
      "\n",
      "Note: Class 0 -> Survival, Class 1 -> Death\n"
     ]
    }
   ],
   "source": [
    "# Generate Classification report\n",
    "## 23. Predictions\n",
    "y_estimate = my_model.predict(x = X_test_scaled)\n",
    "\n",
    "## 24. - 26. Print classification report\n",
    "import numpy as np\n",
    "from sklearn.metrics import classification_report\n",
    "\n",
    "y_estimate = np.argmax(y_estimate, axis = 1)\n",
    "y_true = np.argmax(y_test, axis = 1)\n",
    "\n",
    "print(classification_report(y_true, y_estimate))\n",
    "print(\"Note: Class 0 -> Survival, Class 1 -> Death\")"
   ]
  },
  {
   "cell_type": "markdown",
   "id": "56af3273",
   "metadata": {},
   "source": [
    "Interpretation of each metric:\n",
    "Precision for Class 0 (Survival):\n",
    "Out of all instances predicted as survival, 76% were actually survival.\n",
    "\n",
    "Recall for Class 0:\n",
    "The model correctly identified 89% of all survival cases (high recall means few false negatives for survival).\n",
    "\n",
    "Precision for Class 1 (Death):\n",
    "Out of all instances predicted as death, 79% were actually death.\n",
    "\n",
    "Recall for Class 1:\n",
    "The model correctly identified 60% of all death cases (moderate recall means it missed 40% of deaths)."
   ]
  },
  {
   "cell_type": "code",
   "execution_count": 336,
   "id": "d7b9faf8",
   "metadata": {},
   "outputs": [
    {
     "name": "stdout",
     "output_type": "stream",
     "text": [
      "\u001b[1m2/2\u001b[0m \u001b[32m━━━━━━━━━━━━━━━━━━━━\u001b[0m\u001b[37m\u001b[0m \u001b[1m0s\u001b[0m 16ms/step\n"
     ]
    },
    {
     "data": {
      "image/png": "[encoded data removed]",
      "text/plain": [
       "<Figure size 800x600 with 1 Axes>"
      ]
     },
     "metadata": {},
     "output_type": "display_data"
    }
   ],
   "source": [
    "## ROC curve\n",
    "import matplotlib.pyplot as plt\n",
    "from sklearn.metrics import roc_curve, auc\n",
    "import numpy as np\n",
    "\n",
    "# Assuming y_test and y_estimate are already defined as one-hot and probabilities respectively:\n",
    "\n",
    "# If y_test is one-hot encoded, get the true labels for positive class (e.g. class 1)\n",
    "y_true = y_test[:, 1]\n",
    "\n",
    "# Get predicted probabilities for positive class from your model\n",
    "y_scores = my_model.predict(X_test_scaled)[:, 1]\n",
    "\n",
    "# Calculate ROC curve\n",
    "fpr, tpr, thresholds = roc_curve(y_true, y_scores)\n",
    "\n",
    "# Calculate AUC\n",
    "roc_auc = auc(fpr, tpr)\n",
    "\n",
    "# Plot ROC curve\n",
    "plt.figure(figsize=(8, 6))\n",
    "plt.plot(fpr, tpr, color='darkorange', lw=2, label=f'ROC curve (AUC = {roc_auc:.2f})')\n",
    "plt.plot([0, 1], [0, 1], color='navy', lw=2, linestyle='--')  # Diagonal line (random guess)\n",
    "plt.xlim([0.0, 1.0])\n",
    "plt.ylim([0.0, 1.05])\n",
    "plt.xlabel('False Positive Rate')\n",
    "plt.ylabel('True Positive Rate (Recall)')\n",
    "plt.title('Receiver Operating Characteristic (ROC) Curve')\n",
    "plt.legend(loc=\"lower right\")\n",
    "plt.grid(True)\n",
    "plt.show()"
   ]
  }
 ],
 "metadata": {
  "kernelspec": {
   "display_name": ".venv",
   "language": "python",
   "name": "python3"
  },
  "language_info": {
   "codemirror_mode": {
    "name": "ipython",
    "version": 3
   },
   "file_extension": ".py",
   "mimetype": "text/x-python",
   "name": "python",
   "nbconvert_exporter": "python",
   "pygments_lexer": "ipython3",
   "version": "3.12.10"
  }
 },
 "nbformat": 4,
 "nbformat_minor": 5
}
