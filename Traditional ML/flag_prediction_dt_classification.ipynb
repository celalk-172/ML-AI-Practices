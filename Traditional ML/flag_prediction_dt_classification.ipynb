{
 "cells": [
  {
   "cell_type": "code",
   "execution_count": 222,
   "id": "6b27de4e",
   "metadata": {},
   "outputs": [
    {
     "data": {
      "application/vnd.microsoft.datawrangler.viewer.v0+json": {
       "columns": [
        {
         "name": "index",
         "rawType": "int64",
         "type": "integer"
        },
        {
         "name": "name",
         "rawType": "object",
         "type": "string"
        },
        {
         "name": "landmass",
         "rawType": "int64",
         "type": "integer"
        },
        {
         "name": "zone",
         "rawType": "int64",
         "type": "integer"
        },
        {
         "name": "area",
         "rawType": "int64",
         "type": "integer"
        },
        {
         "name": "population",
         "rawType": "int64",
         "type": "integer"
        },
        {
         "name": "language",
         "rawType": "int64",
         "type": "integer"
        },
        {
         "name": "religion",
         "rawType": "int64",
         "type": "integer"
        },
        {
         "name": "bars",
         "rawType": "int64",
         "type": "integer"
        },
        {
         "name": "stripes",
         "rawType": "int64",
         "type": "integer"
        },
        {
         "name": "colours",
         "rawType": "int64",
         "type": "integer"
        },
        {
         "name": "red",
         "rawType": "int64",
         "type": "integer"
        },
        {
         "name": "green",
         "rawType": "int64",
         "type": "integer"
        },
        {
         "name": "blue",
         "rawType": "int64",
         "type": "integer"
        },
        {
         "name": "gold",
         "rawType": "int64",
         "type": "integer"
        },
        {
         "name": "white",
         "rawType": "int64",
         "type": "integer"
        },
        {
         "name": "black",
         "rawType": "int64",
         "type": "integer"
        },
        {
         "name": "orange",
         "rawType": "int64",
         "type": "integer"
        },
        {
         "name": "mainhue",
         "rawType": "object",
         "type": "string"
        },
        {
         "name": "circles",
         "rawType": "int64",
         "type": "integer"
        },
        {
         "name": "crosses",
         "rawType": "int64",
         "type": "integer"
        },
        {
         "name": "saltires",
         "rawType": "int64",
         "type": "integer"
        },
        {
         "name": "quarters",
         "rawType": "int64",
         "type": "integer"
        },
        {
         "name": "sunstars",
         "rawType": "int64",
         "type": "integer"
        },
        {
         "name": "crescent",
         "rawType": "int64",
         "type": "integer"
        },
        {
         "name": "triangle",
         "rawType": "int64",
         "type": "integer"
        },
        {
         "name": "icon",
         "rawType": "int64",
         "type": "integer"
        },
        {
         "name": "animate",
         "rawType": "int64",
         "type": "integer"
        },
        {
         "name": "text",
         "rawType": "int64",
         "type": "integer"
        },
        {
         "name": "topleft",
         "rawType": "object",
         "type": "string"
        },
        {
         "name": "botright",
         "rawType": "object",
         "type": "string"
        }
       ],
       "ref": "87ffe84f-cc62-4fcc-a495-1c27d273ee60",
       "rows": [
        [
         "0",
         "Afghanistan",
         "5",
         "1",
         "648",
         "16",
         "10",
         "2",
         "0",
         "3",
         "5",
         "1",
         "1",
         "0",
         "1",
         "1",
         "1",
         "0",
         "green",
         "0",
         "0",
         "0",
         "0",
         "1",
         "0",
         "0",
         "1",
         "0",
         "0",
         "black",
         "green"
        ],
        [
         "1",
         "Albania",
         "3",
         "1",
         "29",
         "3",
         "6",
         "6",
         "0",
         "0",
         "3",
         "1",
         "0",
         "0",
         "1",
         "0",
         "1",
         "0",
         "red",
         "0",
         "0",
         "0",
         "0",
         "1",
         "0",
         "0",
         "0",
         "1",
         "0",
         "red",
         "red"
        ],
        [
         "2",
         "Algeria",
         "4",
         "1",
         "2388",
         "20",
         "8",
         "2",
         "2",
         "0",
         "3",
         "1",
         "1",
         "0",
         "0",
         "1",
         "0",
         "0",
         "green",
         "0",
         "0",
         "0",
         "0",
         "1",
         "1",
         "0",
         "0",
         "0",
         "0",
         "green",
         "white"
        ],
        [
         "3",
         "American-Samoa",
         "6",
         "3",
         "0",
         "0",
         "1",
         "1",
         "0",
         "0",
         "5",
         "1",
         "0",
         "1",
         "1",
         "1",
         "0",
         "1",
         "blue",
         "0",
         "0",
         "0",
         "0",
         "0",
         "0",
         "1",
         "1",
         "1",
         "0",
         "blue",
         "red"
        ],
        [
         "4",
         "Andorra",
         "3",
         "1",
         "0",
         "0",
         "6",
         "0",
         "3",
         "0",
         "3",
         "1",
         "0",
         "1",
         "1",
         "0",
         "0",
         "0",
         "gold",
         "0",
         "0",
         "0",
         "0",
         "0",
         "0",
         "0",
         "0",
         "0",
         "0",
         "blue",
         "red"
        ]
       ],
       "shape": {
        "columns": 30,
        "rows": 5
       }
      },
      "text/html": [
       "<div>\n",
       "<style scoped>\n",
       "    .dataframe tbody tr th:only-of-type {\n",
       "        vertical-align: middle;\n",
       "    }\n",
       "\n",
       "    .dataframe tbody tr th {\n",
       "        vertical-align: top;\n",
       "    }\n",
       "\n",
       "    .dataframe thead th {\n",
       "        text-align: right;\n",
       "    }\n",
       "</style>\n",
       "<table border=\"1\" class=\"dataframe\">\n",
       "  <thead>\n",
       "    <tr style=\"text-align: right;\">\n",
       "      <th></th>\n",
       "      <th>name</th>\n",
       "      <th>landmass</th>\n",
       "      <th>zone</th>\n",
       "      <th>area</th>\n",
       "      <th>population</th>\n",
       "      <th>language</th>\n",
       "      <th>religion</th>\n",
       "      <th>bars</th>\n",
       "      <th>stripes</th>\n",
       "      <th>colours</th>\n",
       "      <th>...</th>\n",
       "      <th>saltires</th>\n",
       "      <th>quarters</th>\n",
       "      <th>sunstars</th>\n",
       "      <th>crescent</th>\n",
       "      <th>triangle</th>\n",
       "      <th>icon</th>\n",
       "      <th>animate</th>\n",
       "      <th>text</th>\n",
       "      <th>topleft</th>\n",
       "      <th>botright</th>\n",
       "    </tr>\n",
       "  </thead>\n",
       "  <tbody>\n",
       "    <tr>\n",
       "      <th>0</th>\n",
       "      <td>Afghanistan</td>\n",
       "      <td>5</td>\n",
       "      <td>1</td>\n",
       "      <td>648</td>\n",
       "      <td>16</td>\n",
       "      <td>10</td>\n",
       "      <td>2</td>\n",
       "      <td>0</td>\n",
       "      <td>3</td>\n",
       "      <td>5</td>\n",
       "      <td>...</td>\n",
       "      <td>0</td>\n",
       "      <td>0</td>\n",
       "      <td>1</td>\n",
       "      <td>0</td>\n",
       "      <td>0</td>\n",
       "      <td>1</td>\n",
       "      <td>0</td>\n",
       "      <td>0</td>\n",
       "      <td>black</td>\n",
       "      <td>green</td>\n",
       "    </tr>\n",
       "    <tr>\n",
       "      <th>1</th>\n",
       "      <td>Albania</td>\n",
       "      <td>3</td>\n",
       "      <td>1</td>\n",
       "      <td>29</td>\n",
       "      <td>3</td>\n",
       "      <td>6</td>\n",
       "      <td>6</td>\n",
       "      <td>0</td>\n",
       "      <td>0</td>\n",
       "      <td>3</td>\n",
       "      <td>...</td>\n",
       "      <td>0</td>\n",
       "      <td>0</td>\n",
       "      <td>1</td>\n",
       "      <td>0</td>\n",
       "      <td>0</td>\n",
       "      <td>0</td>\n",
       "      <td>1</td>\n",
       "      <td>0</td>\n",
       "      <td>red</td>\n",
       "      <td>red</td>\n",
       "    </tr>\n",
       "    <tr>\n",
       "      <th>2</th>\n",
       "      <td>Algeria</td>\n",
       "      <td>4</td>\n",
       "      <td>1</td>\n",
       "      <td>2388</td>\n",
       "      <td>20</td>\n",
       "      <td>8</td>\n",
       "      <td>2</td>\n",
       "      <td>2</td>\n",
       "      <td>0</td>\n",
       "      <td>3</td>\n",
       "      <td>...</td>\n",
       "      <td>0</td>\n",
       "      <td>0</td>\n",
       "      <td>1</td>\n",
       "      <td>1</td>\n",
       "      <td>0</td>\n",
       "      <td>0</td>\n",
       "      <td>0</td>\n",
       "      <td>0</td>\n",
       "      <td>green</td>\n",
       "      <td>white</td>\n",
       "    </tr>\n",
       "    <tr>\n",
       "      <th>3</th>\n",
       "      <td>American-Samoa</td>\n",
       "      <td>6</td>\n",
       "      <td>3</td>\n",
       "      <td>0</td>\n",
       "      <td>0</td>\n",
       "      <td>1</td>\n",
       "      <td>1</td>\n",
       "      <td>0</td>\n",
       "      <td>0</td>\n",
       "      <td>5</td>\n",
       "      <td>...</td>\n",
       "      <td>0</td>\n",
       "      <td>0</td>\n",
       "      <td>0</td>\n",
       "      <td>0</td>\n",
       "      <td>1</td>\n",
       "      <td>1</td>\n",
       "      <td>1</td>\n",
       "      <td>0</td>\n",
       "      <td>blue</td>\n",
       "      <td>red</td>\n",
       "    </tr>\n",
       "    <tr>\n",
       "      <th>4</th>\n",
       "      <td>Andorra</td>\n",
       "      <td>3</td>\n",
       "      <td>1</td>\n",
       "      <td>0</td>\n",
       "      <td>0</td>\n",
       "      <td>6</td>\n",
       "      <td>0</td>\n",
       "      <td>3</td>\n",
       "      <td>0</td>\n",
       "      <td>3</td>\n",
       "      <td>...</td>\n",
       "      <td>0</td>\n",
       "      <td>0</td>\n",
       "      <td>0</td>\n",
       "      <td>0</td>\n",
       "      <td>0</td>\n",
       "      <td>0</td>\n",
       "      <td>0</td>\n",
       "      <td>0</td>\n",
       "      <td>blue</td>\n",
       "      <td>red</td>\n",
       "    </tr>\n",
       "  </tbody>\n",
       "</table>\n",
       "<p>5 rows × 30 columns</p>\n",
       "</div>"
      ],
      "text/plain": [
       "             name  landmass  zone  area  population  language  religion  bars  \\\n",
       "0     Afghanistan         5     1   648          16        10         2     0   \n",
       "1         Albania         3     1    29           3         6         6     0   \n",
       "2         Algeria         4     1  2388          20         8         2     2   \n",
       "3  American-Samoa         6     3     0           0         1         1     0   \n",
       "4         Andorra         3     1     0           0         6         0     3   \n",
       "\n",
       "   stripes  colours  ...  saltires  quarters  sunstars  crescent  triangle  \\\n",
       "0        3        5  ...         0         0         1         0         0   \n",
       "1        0        3  ...         0         0         1         0         0   \n",
       "2        0        3  ...         0         0         1         1         0   \n",
       "3        0        5  ...         0         0         0         0         1   \n",
       "4        0        3  ...         0         0         0         0         0   \n",
       "\n",
       "   icon  animate text  topleft  botright  \n",
       "0     1        0    0    black     green  \n",
       "1     0        1    0      red       red  \n",
       "2     0        0    0    green     white  \n",
       "3     1        1    0     blue       red  \n",
       "4     0        0    0     blue       red  \n",
       "\n",
       "[5 rows x 30 columns]"
      ]
     },
     "execution_count": 222,
     "metadata": {},
     "output_type": "execute_result"
    }
   ],
   "source": [
    "import pandas as pd\n",
    "\n",
    "#https://archive.ics.uci.edu/ml/machine-learning-databases/flags/flag.data\n",
    "cols = ['name','landmass','zone', 'area', 'population', 'language','religion','bars','stripes','colours',\n",
    "'red','green','blue','gold','white','black','orange','mainhue','circles',\n",
    "'crosses','saltires','quarters','sunstars','crescent','triangle','icon','animate','text','topleft','botright']\n",
    "\n",
    "df = pd.read_csv(\"https://archive.ics.uci.edu/ml/machine-learning-databases/flags/flag.data\", names = cols)\n",
    "\n",
    "df.head()"
   ]
  },
  {
   "cell_type": "markdown",
   "id": "edbf5d03",
   "metadata": {},
   "source": [
    "```name:``` Name of the country concerned\n",
    "\n",
    "```landmass```: 1=N.America, 2=S.America, 3=Europe, 4=Africa, 5=Asia, 6=Oceania\n",
    "\n",
    "```bars```: Number of vertical bars in the flag\n",
    "\n",
    "```stripes```: Number of horizontal stripes in the flag\n",
    "\n",
    "```colours```: Number of different colours in the flag\n",
    "\n",
    "```red```: 0 if red absent, 1 if red present in the flag\n",
    "\n",
    "```mainhue```: predominant colour in the flag (tie-breaks decided by taking the topmost hue, if that fails then the most central hue, and if that fails the leftmost hue)\n",
    "\n",
    "```circles```: Number of circles in the flag\n",
    "\n",
    "```crosses```: Number of (upright) crosses\n",
    "\n",
    "```saltires```: Number of diagonal crosses\n",
    "\n",
    "```quarters```: Number of quartered sections\n",
    "\n",
    "```sunstars```: Number of sun or star symbols"
   ]
  },
  {
   "cell_type": "code",
   "execution_count": 223,
   "id": "18bc2fab",
   "metadata": {},
   "outputs": [
    {
     "data": {
      "application/vnd.microsoft.datawrangler.viewer.v0+json": {
       "columns": [
        {
         "name": "index",
         "rawType": "int64",
         "type": "integer"
        },
        {
         "name": "landmass",
         "rawType": "int64",
         "type": "integer"
        },
        {
         "name": "count",
         "rawType": "int64",
         "type": "integer"
        }
       ],
       "ref": "a16939fb-7a61-4841-bd42-fbb96b514293",
       "rows": [
        [
         "0",
         "1",
         "31"
        ],
        [
         "1",
         "2",
         "17"
        ],
        [
         "2",
         "3",
         "35"
        ],
        [
         "3",
         "4",
         "52"
        ],
        [
         "4",
         "5",
         "39"
        ],
        [
         "5",
         "6",
         "20"
        ]
       ],
       "shape": {
        "columns": 2,
        "rows": 6
       }
      },
      "text/html": [
       "<div>\n",
       "<style scoped>\n",
       "    .dataframe tbody tr th:only-of-type {\n",
       "        vertical-align: middle;\n",
       "    }\n",
       "\n",
       "    .dataframe tbody tr th {\n",
       "        vertical-align: top;\n",
       "    }\n",
       "\n",
       "    .dataframe thead th {\n",
       "        text-align: right;\n",
       "    }\n",
       "</style>\n",
       "<table border=\"1\" class=\"dataframe\">\n",
       "  <thead>\n",
       "    <tr style=\"text-align: right;\">\n",
       "      <th></th>\n",
       "      <th>landmass</th>\n",
       "      <th>count</th>\n",
       "    </tr>\n",
       "  </thead>\n",
       "  <tbody>\n",
       "    <tr>\n",
       "      <th>0</th>\n",
       "      <td>1</td>\n",
       "      <td>31</td>\n",
       "    </tr>\n",
       "    <tr>\n",
       "      <th>1</th>\n",
       "      <td>2</td>\n",
       "      <td>17</td>\n",
       "    </tr>\n",
       "    <tr>\n",
       "      <th>2</th>\n",
       "      <td>3</td>\n",
       "      <td>35</td>\n",
       "    </tr>\n",
       "    <tr>\n",
       "      <th>3</th>\n",
       "      <td>4</td>\n",
       "      <td>52</td>\n",
       "    </tr>\n",
       "    <tr>\n",
       "      <th>4</th>\n",
       "      <td>5</td>\n",
       "      <td>39</td>\n",
       "    </tr>\n",
       "    <tr>\n",
       "      <th>5</th>\n",
       "      <td>6</td>\n",
       "      <td>20</td>\n",
       "    </tr>\n",
       "  </tbody>\n",
       "</table>\n",
       "</div>"
      ],
      "text/plain": [
       "   landmass  count\n",
       "0         1     31\n",
       "1         2     17\n",
       "2         3     35\n",
       "3         4     52\n",
       "4         5     39\n",
       "5         6     20"
      ]
     },
     "execution_count": 223,
     "metadata": {},
     "output_type": "execute_result"
    }
   ],
   "source": [
    "## Calculate flag count per continent\n",
    "df.groupby('landmass').size().reset_index(name='count')"
   ]
  },
  {
   "cell_type": "code",
   "execution_count": 224,
   "id": "f0216f57",
   "metadata": {},
   "outputs": [
    {
     "data": {
      "application/vnd.microsoft.datawrangler.viewer.v0+json": {
       "columns": [
        {
         "name": "index",
         "rawType": "int64",
         "type": "integer"
        },
        {
         "name": "name",
         "rawType": "object",
         "type": "string"
        },
        {
         "name": "landmass",
         "rawType": "int64",
         "type": "integer"
        },
        {
         "name": "zone",
         "rawType": "int64",
         "type": "integer"
        },
        {
         "name": "area",
         "rawType": "int64",
         "type": "integer"
        },
        {
         "name": "population",
         "rawType": "int64",
         "type": "integer"
        },
        {
         "name": "language",
         "rawType": "int64",
         "type": "integer"
        },
        {
         "name": "religion",
         "rawType": "int64",
         "type": "integer"
        },
        {
         "name": "bars",
         "rawType": "int64",
         "type": "integer"
        },
        {
         "name": "stripes",
         "rawType": "int64",
         "type": "integer"
        },
        {
         "name": "colours",
         "rawType": "int64",
         "type": "integer"
        },
        {
         "name": "red",
         "rawType": "int64",
         "type": "integer"
        },
        {
         "name": "green",
         "rawType": "int64",
         "type": "integer"
        },
        {
         "name": "blue",
         "rawType": "int64",
         "type": "integer"
        },
        {
         "name": "gold",
         "rawType": "int64",
         "type": "integer"
        },
        {
         "name": "white",
         "rawType": "int64",
         "type": "integer"
        },
        {
         "name": "black",
         "rawType": "int64",
         "type": "integer"
        },
        {
         "name": "orange",
         "rawType": "int64",
         "type": "integer"
        },
        {
         "name": "mainhue",
         "rawType": "object",
         "type": "string"
        },
        {
         "name": "circles",
         "rawType": "int64",
         "type": "integer"
        },
        {
         "name": "crosses",
         "rawType": "int64",
         "type": "integer"
        },
        {
         "name": "saltires",
         "rawType": "int64",
         "type": "integer"
        },
        {
         "name": "quarters",
         "rawType": "int64",
         "type": "integer"
        },
        {
         "name": "sunstars",
         "rawType": "int64",
         "type": "integer"
        },
        {
         "name": "crescent",
         "rawType": "int64",
         "type": "integer"
        },
        {
         "name": "triangle",
         "rawType": "int64",
         "type": "integer"
        },
        {
         "name": "icon",
         "rawType": "int64",
         "type": "integer"
        },
        {
         "name": "animate",
         "rawType": "int64",
         "type": "integer"
        },
        {
         "name": "text",
         "rawType": "int64",
         "type": "integer"
        },
        {
         "name": "topleft",
         "rawType": "object",
         "type": "string"
        },
        {
         "name": "botright",
         "rawType": "object",
         "type": "string"
        }
       ],
       "ref": "50b1157c-6c83-45a2-9c6b-e7129bc5a070",
       "rows": [
        [
         "1",
         "Albania",
         "3",
         "1",
         "29",
         "3",
         "6",
         "6",
         "0",
         "0",
         "3",
         "1",
         "0",
         "0",
         "1",
         "0",
         "1",
         "0",
         "red",
         "0",
         "0",
         "0",
         "0",
         "1",
         "0",
         "0",
         "0",
         "1",
         "0",
         "red",
         "red"
        ],
        [
         "3",
         "American-Samoa",
         "6",
         "3",
         "0",
         "0",
         "1",
         "1",
         "0",
         "0",
         "5",
         "1",
         "0",
         "1",
         "1",
         "1",
         "0",
         "1",
         "blue",
         "0",
         "0",
         "0",
         "0",
         "0",
         "0",
         "1",
         "1",
         "1",
         "0",
         "blue",
         "red"
        ],
        [
         "4",
         "Andorra",
         "3",
         "1",
         "0",
         "0",
         "6",
         "0",
         "3",
         "0",
         "3",
         "1",
         "0",
         "1",
         "1",
         "0",
         "0",
         "0",
         "gold",
         "0",
         "0",
         "0",
         "0",
         "0",
         "0",
         "0",
         "0",
         "0",
         "0",
         "blue",
         "red"
        ],
        [
         "10",
         "Australia",
         "6",
         "2",
         "7690",
         "15",
         "1",
         "1",
         "0",
         "0",
         "3",
         "1",
         "0",
         "1",
         "0",
         "1",
         "0",
         "0",
         "blue",
         "0",
         "1",
         "1",
         "1",
         "6",
         "0",
         "0",
         "0",
         "0",
         "0",
         "white",
         "blue"
        ],
        [
         "11",
         "Austria",
         "3",
         "1",
         "84",
         "8",
         "4",
         "0",
         "0",
         "3",
         "2",
         "1",
         "0",
         "0",
         "0",
         "1",
         "0",
         "0",
         "red",
         "0",
         "0",
         "0",
         "0",
         "0",
         "0",
         "0",
         "0",
         "0",
         "0",
         "red",
         "red"
        ]
       ],
       "shape": {
        "columns": 30,
        "rows": 5
       }
      },
      "text/html": [
       "<div>\n",
       "<style scoped>\n",
       "    .dataframe tbody tr th:only-of-type {\n",
       "        vertical-align: middle;\n",
       "    }\n",
       "\n",
       "    .dataframe tbody tr th {\n",
       "        vertical-align: top;\n",
       "    }\n",
       "\n",
       "    .dataframe thead th {\n",
       "        text-align: right;\n",
       "    }\n",
       "</style>\n",
       "<table border=\"1\" class=\"dataframe\">\n",
       "  <thead>\n",
       "    <tr style=\"text-align: right;\">\n",
       "      <th></th>\n",
       "      <th>name</th>\n",
       "      <th>landmass</th>\n",
       "      <th>zone</th>\n",
       "      <th>area</th>\n",
       "      <th>population</th>\n",
       "      <th>language</th>\n",
       "      <th>religion</th>\n",
       "      <th>bars</th>\n",
       "      <th>stripes</th>\n",
       "      <th>colours</th>\n",
       "      <th>...</th>\n",
       "      <th>saltires</th>\n",
       "      <th>quarters</th>\n",
       "      <th>sunstars</th>\n",
       "      <th>crescent</th>\n",
       "      <th>triangle</th>\n",
       "      <th>icon</th>\n",
       "      <th>animate</th>\n",
       "      <th>text</th>\n",
       "      <th>topleft</th>\n",
       "      <th>botright</th>\n",
       "    </tr>\n",
       "  </thead>\n",
       "  <tbody>\n",
       "    <tr>\n",
       "      <th>1</th>\n",
       "      <td>Albania</td>\n",
       "      <td>3</td>\n",
       "      <td>1</td>\n",
       "      <td>29</td>\n",
       "      <td>3</td>\n",
       "      <td>6</td>\n",
       "      <td>6</td>\n",
       "      <td>0</td>\n",
       "      <td>0</td>\n",
       "      <td>3</td>\n",
       "      <td>...</td>\n",
       "      <td>0</td>\n",
       "      <td>0</td>\n",
       "      <td>1</td>\n",
       "      <td>0</td>\n",
       "      <td>0</td>\n",
       "      <td>0</td>\n",
       "      <td>1</td>\n",
       "      <td>0</td>\n",
       "      <td>red</td>\n",
       "      <td>red</td>\n",
       "    </tr>\n",
       "    <tr>\n",
       "      <th>3</th>\n",
       "      <td>American-Samoa</td>\n",
       "      <td>6</td>\n",
       "      <td>3</td>\n",
       "      <td>0</td>\n",
       "      <td>0</td>\n",
       "      <td>1</td>\n",
       "      <td>1</td>\n",
       "      <td>0</td>\n",
       "      <td>0</td>\n",
       "      <td>5</td>\n",
       "      <td>...</td>\n",
       "      <td>0</td>\n",
       "      <td>0</td>\n",
       "      <td>0</td>\n",
       "      <td>0</td>\n",
       "      <td>1</td>\n",
       "      <td>1</td>\n",
       "      <td>1</td>\n",
       "      <td>0</td>\n",
       "      <td>blue</td>\n",
       "      <td>red</td>\n",
       "    </tr>\n",
       "    <tr>\n",
       "      <th>4</th>\n",
       "      <td>Andorra</td>\n",
       "      <td>3</td>\n",
       "      <td>1</td>\n",
       "      <td>0</td>\n",
       "      <td>0</td>\n",
       "      <td>6</td>\n",
       "      <td>0</td>\n",
       "      <td>3</td>\n",
       "      <td>0</td>\n",
       "      <td>3</td>\n",
       "      <td>...</td>\n",
       "      <td>0</td>\n",
       "      <td>0</td>\n",
       "      <td>0</td>\n",
       "      <td>0</td>\n",
       "      <td>0</td>\n",
       "      <td>0</td>\n",
       "      <td>0</td>\n",
       "      <td>0</td>\n",
       "      <td>blue</td>\n",
       "      <td>red</td>\n",
       "    </tr>\n",
       "    <tr>\n",
       "      <th>10</th>\n",
       "      <td>Australia</td>\n",
       "      <td>6</td>\n",
       "      <td>2</td>\n",
       "      <td>7690</td>\n",
       "      <td>15</td>\n",
       "      <td>1</td>\n",
       "      <td>1</td>\n",
       "      <td>0</td>\n",
       "      <td>0</td>\n",
       "      <td>3</td>\n",
       "      <td>...</td>\n",
       "      <td>1</td>\n",
       "      <td>1</td>\n",
       "      <td>6</td>\n",
       "      <td>0</td>\n",
       "      <td>0</td>\n",
       "      <td>0</td>\n",
       "      <td>0</td>\n",
       "      <td>0</td>\n",
       "      <td>white</td>\n",
       "      <td>blue</td>\n",
       "    </tr>\n",
       "    <tr>\n",
       "      <th>11</th>\n",
       "      <td>Austria</td>\n",
       "      <td>3</td>\n",
       "      <td>1</td>\n",
       "      <td>84</td>\n",
       "      <td>8</td>\n",
       "      <td>4</td>\n",
       "      <td>0</td>\n",
       "      <td>0</td>\n",
       "      <td>3</td>\n",
       "      <td>2</td>\n",
       "      <td>...</td>\n",
       "      <td>0</td>\n",
       "      <td>0</td>\n",
       "      <td>0</td>\n",
       "      <td>0</td>\n",
       "      <td>0</td>\n",
       "      <td>0</td>\n",
       "      <td>0</td>\n",
       "      <td>0</td>\n",
       "      <td>red</td>\n",
       "      <td>red</td>\n",
       "    </tr>\n",
       "  </tbody>\n",
       "</table>\n",
       "<p>5 rows × 30 columns</p>\n",
       "</div>"
      ],
      "text/plain": [
       "              name  landmass  zone  area  population  language  religion  \\\n",
       "1          Albania         3     1    29           3         6         6   \n",
       "3   American-Samoa         6     3     0           0         1         1   \n",
       "4          Andorra         3     1     0           0         6         0   \n",
       "10       Australia         6     2  7690          15         1         1   \n",
       "11         Austria         3     1    84           8         4         0   \n",
       "\n",
       "    bars  stripes  colours  ...  saltires  quarters  sunstars  crescent  \\\n",
       "1      0        0        3  ...         0         0         1         0   \n",
       "3      0        0        5  ...         0         0         0         0   \n",
       "4      3        0        3  ...         0         0         0         0   \n",
       "10     0        0        3  ...         1         1         6         0   \n",
       "11     0        3        2  ...         0         0         0         0   \n",
       "\n",
       "    triangle  icon  animate text  topleft  botright  \n",
       "1          0     0        1    0      red       red  \n",
       "3          1     1        1    0     blue       red  \n",
       "4          0     0        0    0     blue       red  \n",
       "10         0     0        0    0    white      blue  \n",
       "11         0     0        0    0      red       red  \n",
       "\n",
       "[5 rows x 30 columns]"
      ]
     },
     "execution_count": 224,
     "metadata": {},
     "output_type": "execute_result"
    }
   ],
   "source": [
    "## Focus on Europe and Ocenia (i.e. landmass = 3 and 6)\n",
    "df_new = df[df['landmass'].isin([3, 6])]\n",
    "df_new.head()"
   ]
  },
  {
   "cell_type": "code",
   "execution_count": 225,
   "id": "37581206",
   "metadata": {},
   "outputs": [
    {
     "data": {
      "application/vnd.microsoft.datawrangler.viewer.v0+json": {
       "columns": [
        {
         "name": "index",
         "rawType": "object",
         "type": "string"
        },
        {
         "name": "landmass",
         "rawType": "float64",
         "type": "float"
        },
        {
         "name": "zone",
         "rawType": "float64",
         "type": "float"
        },
        {
         "name": "area",
         "rawType": "float64",
         "type": "float"
        },
        {
         "name": "population",
         "rawType": "float64",
         "type": "float"
        },
        {
         "name": "language",
         "rawType": "float64",
         "type": "float"
        },
        {
         "name": "religion",
         "rawType": "float64",
         "type": "float"
        },
        {
         "name": "bars",
         "rawType": "float64",
         "type": "float"
        },
        {
         "name": "stripes",
         "rawType": "float64",
         "type": "float"
        },
        {
         "name": "colours",
         "rawType": "float64",
         "type": "float"
        },
        {
         "name": "red",
         "rawType": "float64",
         "type": "float"
        },
        {
         "name": "green",
         "rawType": "float64",
         "type": "float"
        },
        {
         "name": "blue",
         "rawType": "float64",
         "type": "float"
        },
        {
         "name": "gold",
         "rawType": "float64",
         "type": "float"
        },
        {
         "name": "white",
         "rawType": "float64",
         "type": "float"
        },
        {
         "name": "black",
         "rawType": "float64",
         "type": "float"
        },
        {
         "name": "orange",
         "rawType": "float64",
         "type": "float"
        },
        {
         "name": "circles",
         "rawType": "float64",
         "type": "float"
        },
        {
         "name": "crosses",
         "rawType": "float64",
         "type": "float"
        },
        {
         "name": "saltires",
         "rawType": "float64",
         "type": "float"
        },
        {
         "name": "quarters",
         "rawType": "float64",
         "type": "float"
        },
        {
         "name": "sunstars",
         "rawType": "float64",
         "type": "float"
        },
        {
         "name": "crescent",
         "rawType": "float64",
         "type": "float"
        },
        {
         "name": "triangle",
         "rawType": "float64",
         "type": "float"
        },
        {
         "name": "icon",
         "rawType": "float64",
         "type": "float"
        },
        {
         "name": "animate",
         "rawType": "float64",
         "type": "float"
        },
        {
         "name": "text",
         "rawType": "float64",
         "type": "float"
        }
       ],
       "ref": "c58e62c4-f842-4e3c-b551-23ecbc01a9e7",
       "rows": [
        [
         "count",
         "55.0",
         "55.0",
         "55.0",
         "55.0",
         "55.0",
         "55.0",
         "55.0",
         "55.0",
         "55.0",
         "55.0",
         "55.0",
         "55.0",
         "55.0",
         "55.0",
         "55.0",
         "55.0",
         "55.0",
         "55.0",
         "55.0",
         "55.0",
         "55.0",
         "55.0",
         "55.0",
         "55.0",
         "55.0",
         "55.0"
        ],
        [
         "mean",
         "4.090909090909091",
         "1.7454545454545454",
         "283.27272727272725",
         "12.927272727272728",
         "4.745454545454545",
         "1.5272727272727273",
         "0.4",
         "0.9636363636363636",
         "3.327272727272727",
         "0.8181818181818182",
         "0.2",
         "0.6181818181818182",
         "0.4909090909090909",
         "0.8363636363636363",
         "0.16363636363636364",
         "0.09090909090909091",
         "0.07272727272727272",
         "0.32727272727272727",
         "0.12727272727272726",
         "0.16363636363636364",
         "1.290909090909091",
         "0.0",
         "0.10909090909090909",
         "0.2727272727272727",
         "0.18181818181818182",
         "0.03636363636363636"
        ],
        [
         "std",
         "1.4564381625088385",
         "1.075280873181029",
         "1056.178917477482",
         "25.888546406023547",
         "3.0075102402349096",
         "2.0078968677822653",
         "0.9925649526278796",
         "1.6662625772761561",
         "1.248028748697624",
         "0.3892494720807616",
         "0.40368671387966554",
         "0.49031014715590004",
         "0.504524979109513",
         "0.3733549777275501",
         "0.37335497772755016",
         "0.29012942659282964",
         "0.26208179770229884",
         "0.511155026659683",
         "0.3363499860730087",
         "0.3733549777275501",
         "2.7532655848049568",
         "0.0",
         "0.31462660248284624",
         "0.44946657497549464",
         "0.3892494720807615",
         "0.18891859540615819"
        ],
        [
         "min",
         "3.0",
         "1.0",
         "0.0",
         "0.0",
         "1.0",
         "0.0",
         "0.0",
         "0.0",
         "2.0",
         "0.0",
         "0.0",
         "0.0",
         "0.0",
         "0.0",
         "0.0",
         "0.0",
         "0.0",
         "0.0",
         "0.0",
         "0.0",
         "0.0",
         "0.0",
         "0.0",
         "0.0",
         "0.0",
         "0.0"
        ],
        [
         "25%",
         "3.0",
         "1.0",
         "0.0",
         "0.0",
         "1.0",
         "0.0",
         "0.0",
         "0.0",
         "3.0",
         "1.0",
         "0.0",
         "0.0",
         "0.0",
         "1.0",
         "0.0",
         "0.0",
         "0.0",
         "0.0",
         "0.0",
         "0.0",
         "0.0",
         "0.0",
         "0.0",
         "0.0",
         "0.0",
         "0.0"
        ],
        [
         "50%",
         "3.0",
         "1.0",
         "41.0",
         "3.0",
         "5.0",
         "1.0",
         "0.0",
         "0.0",
         "3.0",
         "1.0",
         "0.0",
         "1.0",
         "0.0",
         "1.0",
         "0.0",
         "0.0",
         "0.0",
         "0.0",
         "0.0",
         "0.0",
         "0.0",
         "0.0",
         "0.0",
         "0.0",
         "0.0",
         "0.0"
        ],
        [
         "75%",
         "6.0",
         "2.0",
         "247.0",
         "12.5",
         "6.0",
         "1.0",
         "0.0",
         "2.0",
         "4.0",
         "1.0",
         "0.0",
         "1.0",
         "1.0",
         "1.0",
         "0.0",
         "0.0",
         "0.0",
         "1.0",
         "0.0",
         "0.0",
         "1.0",
         "0.0",
         "0.0",
         "1.0",
         "0.0",
         "0.0"
        ],
        [
         "max",
         "6.0",
         "4.0",
         "7690.0",
         "157.0",
         "10.0",
         "6.0",
         "3.0",
         "9.0",
         "7.0",
         "1.0",
         "1.0",
         "1.0",
         "1.0",
         "1.0",
         "1.0",
         "1.0",
         "1.0",
         "2.0",
         "1.0",
         "1.0",
         "15.0",
         "0.0",
         "1.0",
         "1.0",
         "1.0",
         "1.0"
        ]
       ],
       "shape": {
        "columns": 26,
        "rows": 8
       }
      },
      "text/html": [
       "<div>\n",
       "<style scoped>\n",
       "    .dataframe tbody tr th:only-of-type {\n",
       "        vertical-align: middle;\n",
       "    }\n",
       "\n",
       "    .dataframe tbody tr th {\n",
       "        vertical-align: top;\n",
       "    }\n",
       "\n",
       "    .dataframe thead th {\n",
       "        text-align: right;\n",
       "    }\n",
       "</style>\n",
       "<table border=\"1\" class=\"dataframe\">\n",
       "  <thead>\n",
       "    <tr style=\"text-align: right;\">\n",
       "      <th></th>\n",
       "      <th>landmass</th>\n",
       "      <th>zone</th>\n",
       "      <th>area</th>\n",
       "      <th>population</th>\n",
       "      <th>language</th>\n",
       "      <th>religion</th>\n",
       "      <th>bars</th>\n",
       "      <th>stripes</th>\n",
       "      <th>colours</th>\n",
       "      <th>red</th>\n",
       "      <th>...</th>\n",
       "      <th>circles</th>\n",
       "      <th>crosses</th>\n",
       "      <th>saltires</th>\n",
       "      <th>quarters</th>\n",
       "      <th>sunstars</th>\n",
       "      <th>crescent</th>\n",
       "      <th>triangle</th>\n",
       "      <th>icon</th>\n",
       "      <th>animate</th>\n",
       "      <th>text</th>\n",
       "    </tr>\n",
       "  </thead>\n",
       "  <tbody>\n",
       "    <tr>\n",
       "      <th>count</th>\n",
       "      <td>55.000000</td>\n",
       "      <td>55.000000</td>\n",
       "      <td>55.000000</td>\n",
       "      <td>55.000000</td>\n",
       "      <td>55.000000</td>\n",
       "      <td>55.000000</td>\n",
       "      <td>55.000000</td>\n",
       "      <td>55.000000</td>\n",
       "      <td>55.000000</td>\n",
       "      <td>55.000000</td>\n",
       "      <td>...</td>\n",
       "      <td>55.000000</td>\n",
       "      <td>55.000000</td>\n",
       "      <td>55.000000</td>\n",
       "      <td>55.000000</td>\n",
       "      <td>55.000000</td>\n",
       "      <td>55.0</td>\n",
       "      <td>55.000000</td>\n",
       "      <td>55.000000</td>\n",
       "      <td>55.000000</td>\n",
       "      <td>55.000000</td>\n",
       "    </tr>\n",
       "    <tr>\n",
       "      <th>mean</th>\n",
       "      <td>4.090909</td>\n",
       "      <td>1.745455</td>\n",
       "      <td>283.272727</td>\n",
       "      <td>12.927273</td>\n",
       "      <td>4.745455</td>\n",
       "      <td>1.527273</td>\n",
       "      <td>0.400000</td>\n",
       "      <td>0.963636</td>\n",
       "      <td>3.327273</td>\n",
       "      <td>0.818182</td>\n",
       "      <td>...</td>\n",
       "      <td>0.072727</td>\n",
       "      <td>0.327273</td>\n",
       "      <td>0.127273</td>\n",
       "      <td>0.163636</td>\n",
       "      <td>1.290909</td>\n",
       "      <td>0.0</td>\n",
       "      <td>0.109091</td>\n",
       "      <td>0.272727</td>\n",
       "      <td>0.181818</td>\n",
       "      <td>0.036364</td>\n",
       "    </tr>\n",
       "    <tr>\n",
       "      <th>std</th>\n",
       "      <td>1.456438</td>\n",
       "      <td>1.075281</td>\n",
       "      <td>1056.178917</td>\n",
       "      <td>25.888546</td>\n",
       "      <td>3.007510</td>\n",
       "      <td>2.007897</td>\n",
       "      <td>0.992565</td>\n",
       "      <td>1.666263</td>\n",
       "      <td>1.248029</td>\n",
       "      <td>0.389249</td>\n",
       "      <td>...</td>\n",
       "      <td>0.262082</td>\n",
       "      <td>0.511155</td>\n",
       "      <td>0.336350</td>\n",
       "      <td>0.373355</td>\n",
       "      <td>2.753266</td>\n",
       "      <td>0.0</td>\n",
       "      <td>0.314627</td>\n",
       "      <td>0.449467</td>\n",
       "      <td>0.389249</td>\n",
       "      <td>0.188919</td>\n",
       "    </tr>\n",
       "    <tr>\n",
       "      <th>min</th>\n",
       "      <td>3.000000</td>\n",
       "      <td>1.000000</td>\n",
       "      <td>0.000000</td>\n",
       "      <td>0.000000</td>\n",
       "      <td>1.000000</td>\n",
       "      <td>0.000000</td>\n",
       "      <td>0.000000</td>\n",
       "      <td>0.000000</td>\n",
       "      <td>2.000000</td>\n",
       "      <td>0.000000</td>\n",
       "      <td>...</td>\n",
       "      <td>0.000000</td>\n",
       "      <td>0.000000</td>\n",
       "      <td>0.000000</td>\n",
       "      <td>0.000000</td>\n",
       "      <td>0.000000</td>\n",
       "      <td>0.0</td>\n",
       "      <td>0.000000</td>\n",
       "      <td>0.000000</td>\n",
       "      <td>0.000000</td>\n",
       "      <td>0.000000</td>\n",
       "    </tr>\n",
       "    <tr>\n",
       "      <th>25%</th>\n",
       "      <td>3.000000</td>\n",
       "      <td>1.000000</td>\n",
       "      <td>0.000000</td>\n",
       "      <td>0.000000</td>\n",
       "      <td>1.000000</td>\n",
       "      <td>0.000000</td>\n",
       "      <td>0.000000</td>\n",
       "      <td>0.000000</td>\n",
       "      <td>3.000000</td>\n",
       "      <td>1.000000</td>\n",
       "      <td>...</td>\n",
       "      <td>0.000000</td>\n",
       "      <td>0.000000</td>\n",
       "      <td>0.000000</td>\n",
       "      <td>0.000000</td>\n",
       "      <td>0.000000</td>\n",
       "      <td>0.0</td>\n",
       "      <td>0.000000</td>\n",
       "      <td>0.000000</td>\n",
       "      <td>0.000000</td>\n",
       "      <td>0.000000</td>\n",
       "    </tr>\n",
       "    <tr>\n",
       "      <th>50%</th>\n",
       "      <td>3.000000</td>\n",
       "      <td>1.000000</td>\n",
       "      <td>41.000000</td>\n",
       "      <td>3.000000</td>\n",
       "      <td>5.000000</td>\n",
       "      <td>1.000000</td>\n",
       "      <td>0.000000</td>\n",
       "      <td>0.000000</td>\n",
       "      <td>3.000000</td>\n",
       "      <td>1.000000</td>\n",
       "      <td>...</td>\n",
       "      <td>0.000000</td>\n",
       "      <td>0.000000</td>\n",
       "      <td>0.000000</td>\n",
       "      <td>0.000000</td>\n",
       "      <td>0.000000</td>\n",
       "      <td>0.0</td>\n",
       "      <td>0.000000</td>\n",
       "      <td>0.000000</td>\n",
       "      <td>0.000000</td>\n",
       "      <td>0.000000</td>\n",
       "    </tr>\n",
       "    <tr>\n",
       "      <th>75%</th>\n",
       "      <td>6.000000</td>\n",
       "      <td>2.000000</td>\n",
       "      <td>247.000000</td>\n",
       "      <td>12.500000</td>\n",
       "      <td>6.000000</td>\n",
       "      <td>1.000000</td>\n",
       "      <td>0.000000</td>\n",
       "      <td>2.000000</td>\n",
       "      <td>4.000000</td>\n",
       "      <td>1.000000</td>\n",
       "      <td>...</td>\n",
       "      <td>0.000000</td>\n",
       "      <td>1.000000</td>\n",
       "      <td>0.000000</td>\n",
       "      <td>0.000000</td>\n",
       "      <td>1.000000</td>\n",
       "      <td>0.0</td>\n",
       "      <td>0.000000</td>\n",
       "      <td>1.000000</td>\n",
       "      <td>0.000000</td>\n",
       "      <td>0.000000</td>\n",
       "    </tr>\n",
       "    <tr>\n",
       "      <th>max</th>\n",
       "      <td>6.000000</td>\n",
       "      <td>4.000000</td>\n",
       "      <td>7690.000000</td>\n",
       "      <td>157.000000</td>\n",
       "      <td>10.000000</td>\n",
       "      <td>6.000000</td>\n",
       "      <td>3.000000</td>\n",
       "      <td>9.000000</td>\n",
       "      <td>7.000000</td>\n",
       "      <td>1.000000</td>\n",
       "      <td>...</td>\n",
       "      <td>1.000000</td>\n",
       "      <td>2.000000</td>\n",
       "      <td>1.000000</td>\n",
       "      <td>1.000000</td>\n",
       "      <td>15.000000</td>\n",
       "      <td>0.0</td>\n",
       "      <td>1.000000</td>\n",
       "      <td>1.000000</td>\n",
       "      <td>1.000000</td>\n",
       "      <td>1.000000</td>\n",
       "    </tr>\n",
       "  </tbody>\n",
       "</table>\n",
       "<p>8 rows × 26 columns</p>\n",
       "</div>"
      ],
      "text/plain": [
       "        landmass       zone         area  population   language   religion  \\\n",
       "count  55.000000  55.000000    55.000000   55.000000  55.000000  55.000000   \n",
       "mean    4.090909   1.745455   283.272727   12.927273   4.745455   1.527273   \n",
       "std     1.456438   1.075281  1056.178917   25.888546   3.007510   2.007897   \n",
       "min     3.000000   1.000000     0.000000    0.000000   1.000000   0.000000   \n",
       "25%     3.000000   1.000000     0.000000    0.000000   1.000000   0.000000   \n",
       "50%     3.000000   1.000000    41.000000    3.000000   5.000000   1.000000   \n",
       "75%     6.000000   2.000000   247.000000   12.500000   6.000000   1.000000   \n",
       "max     6.000000   4.000000  7690.000000  157.000000  10.000000   6.000000   \n",
       "\n",
       "            bars    stripes    colours        red  ...    circles    crosses  \\\n",
       "count  55.000000  55.000000  55.000000  55.000000  ...  55.000000  55.000000   \n",
       "mean    0.400000   0.963636   3.327273   0.818182  ...   0.072727   0.327273   \n",
       "std     0.992565   1.666263   1.248029   0.389249  ...   0.262082   0.511155   \n",
       "min     0.000000   0.000000   2.000000   0.000000  ...   0.000000   0.000000   \n",
       "25%     0.000000   0.000000   3.000000   1.000000  ...   0.000000   0.000000   \n",
       "50%     0.000000   0.000000   3.000000   1.000000  ...   0.000000   0.000000   \n",
       "75%     0.000000   2.000000   4.000000   1.000000  ...   0.000000   1.000000   \n",
       "max     3.000000   9.000000   7.000000   1.000000  ...   1.000000   2.000000   \n",
       "\n",
       "        saltires   quarters   sunstars  crescent   triangle       icon  \\\n",
       "count  55.000000  55.000000  55.000000      55.0  55.000000  55.000000   \n",
       "mean    0.127273   0.163636   1.290909       0.0   0.109091   0.272727   \n",
       "std     0.336350   0.373355   2.753266       0.0   0.314627   0.449467   \n",
       "min     0.000000   0.000000   0.000000       0.0   0.000000   0.000000   \n",
       "25%     0.000000   0.000000   0.000000       0.0   0.000000   0.000000   \n",
       "50%     0.000000   0.000000   0.000000       0.0   0.000000   0.000000   \n",
       "75%     0.000000   0.000000   1.000000       0.0   0.000000   1.000000   \n",
       "max     1.000000   1.000000  15.000000       0.0   1.000000   1.000000   \n",
       "\n",
       "         animate       text  \n",
       "count  55.000000  55.000000  \n",
       "mean    0.181818   0.036364  \n",
       "std     0.389249   0.188919  \n",
       "min     0.000000   0.000000  \n",
       "25%     0.000000   0.000000  \n",
       "50%     0.000000   0.000000  \n",
       "75%     0.000000   0.000000  \n",
       "max     1.000000   1.000000  \n",
       "\n",
       "[8 rows x 26 columns]"
      ]
     },
     "execution_count": 225,
     "metadata": {},
     "output_type": "execute_result"
    }
   ],
   "source": [
    "df_new.describe()"
   ]
  },
  {
   "cell_type": "code",
   "execution_count": 226,
   "id": "38b80f40",
   "metadata": {},
   "outputs": [
    {
     "name": "stdout",
     "output_type": "stream",
     "text": [
      "<class 'pandas.core.frame.DataFrame'>\n",
      "Index: 55 entries, 1 to 190\n",
      "Data columns (total 30 columns):\n",
      " #   Column      Non-Null Count  Dtype \n",
      "---  ------      --------------  ----- \n",
      " 0   name        55 non-null     object\n",
      " 1   landmass    55 non-null     int64 \n",
      " 2   zone        55 non-null     int64 \n",
      " 3   area        55 non-null     int64 \n",
      " 4   population  55 non-null     int64 \n",
      " 5   language    55 non-null     int64 \n",
      " 6   religion    55 non-null     int64 \n",
      " 7   bars        55 non-null     int64 \n",
      " 8   stripes     55 non-null     int64 \n",
      " 9   colours     55 non-null     int64 \n",
      " 10  red         55 non-null     int64 \n",
      " 11  green       55 non-null     int64 \n",
      " 12  blue        55 non-null     int64 \n",
      " 13  gold        55 non-null     int64 \n",
      " 14  white       55 non-null     int64 \n",
      " 15  black       55 non-null     int64 \n",
      " 16  orange      55 non-null     int64 \n",
      " 17  mainhue     55 non-null     object\n",
      " 18  circles     55 non-null     int64 \n",
      " 19  crosses     55 non-null     int64 \n",
      " 20  saltires    55 non-null     int64 \n",
      " 21  quarters    55 non-null     int64 \n",
      " 22  sunstars    55 non-null     int64 \n",
      " 23  crescent    55 non-null     int64 \n",
      " 24  triangle    55 non-null     int64 \n",
      " 25  icon        55 non-null     int64 \n",
      " 26  animate     55 non-null     int64 \n",
      " 27  text        55 non-null     int64 \n",
      " 28  topleft     55 non-null     object\n",
      " 29  botright    55 non-null     object\n",
      "dtypes: int64(26), object(4)\n",
      "memory usage: 13.3+ KB\n"
     ]
    }
   ],
   "source": [
    "df_new.info()"
   ]
  },
  {
   "cell_type": "code",
   "execution_count": 227,
   "id": "6ac3b995",
   "metadata": {},
   "outputs": [],
   "source": [
    "#variable names to use as predictors\n",
    "var = [ 'red', 'green', 'blue','gold', 'white', 'black', 'orange', 'mainhue','bars','stripes', 'circles','crosses', 'saltires','quarters','sunstars','triangle','animate']"
   ]
  },
  {
   "cell_type": "code",
   "execution_count": 228,
   "id": "e17b9f5c",
   "metadata": {},
   "outputs": [
    {
     "data": {
      "application/vnd.microsoft.datawrangler.viewer.v0+json": {
       "columns": [
        {
         "name": "landmass",
         "rawType": "int64",
         "type": "integer"
        },
        {
         "name": "red",
         "rawType": "float64",
         "type": "float"
        },
        {
         "name": "green",
         "rawType": "float64",
         "type": "float"
        },
        {
         "name": "blue",
         "rawType": "float64",
         "type": "float"
        },
        {
         "name": "gold",
         "rawType": "float64",
         "type": "float"
        },
        {
         "name": "white",
         "rawType": "float64",
         "type": "float"
        },
        {
         "name": "black",
         "rawType": "float64",
         "type": "float"
        },
        {
         "name": "orange",
         "rawType": "float64",
         "type": "float"
        },
        {
         "name": "bars",
         "rawType": "float64",
         "type": "float"
        },
        {
         "name": "stripes",
         "rawType": "float64",
         "type": "float"
        },
        {
         "name": "circles",
         "rawType": "float64",
         "type": "float"
        },
        {
         "name": "crosses",
         "rawType": "float64",
         "type": "float"
        },
        {
         "name": "saltires",
         "rawType": "float64",
         "type": "float"
        },
        {
         "name": "quarters",
         "rawType": "float64",
         "type": "float"
        },
        {
         "name": "sunstars",
         "rawType": "float64",
         "type": "float"
        },
        {
         "name": "triangle",
         "rawType": "float64",
         "type": "float"
        },
        {
         "name": "animate",
         "rawType": "float64",
         "type": "float"
        }
       ],
       "ref": "b8d8b2ed-ee37-41ee-916a-0bd923b89ab4",
       "rows": [
        [
         "3",
         "0.8285714285714286",
         "0.2",
         "0.5142857142857142",
         "0.42857142857142855",
         "0.7714285714285715",
         "0.17142857142857143",
         "0.05714285714285714",
         "0.6285714285714286",
         "1.2857142857142858",
         "0.02857142857142857",
         "0.2857142857142857",
         "0.02857142857142857",
         "0.02857142857142857",
         "0.14285714285714285",
         "0.02857142857142857",
         "0.11428571428571428"
        ],
        [
         "6",
         "0.8",
         "0.2",
         "0.8",
         "0.6",
         "0.95",
         "0.15",
         "0.15",
         "0.0",
         "0.4",
         "0.15",
         "0.4",
         "0.3",
         "0.4",
         "3.3",
         "0.25",
         "0.3"
        ]
       ],
       "shape": {
        "columns": 16,
        "rows": 2
       }
      },
      "text/html": [
       "<div>\n",
       "<style scoped>\n",
       "    .dataframe tbody tr th:only-of-type {\n",
       "        vertical-align: middle;\n",
       "    }\n",
       "\n",
       "    .dataframe tbody tr th {\n",
       "        vertical-align: top;\n",
       "    }\n",
       "\n",
       "    .dataframe thead th {\n",
       "        text-align: right;\n",
       "    }\n",
       "</style>\n",
       "<table border=\"1\" class=\"dataframe\">\n",
       "  <thead>\n",
       "    <tr style=\"text-align: right;\">\n",
       "      <th></th>\n",
       "      <th>red</th>\n",
       "      <th>green</th>\n",
       "      <th>blue</th>\n",
       "      <th>gold</th>\n",
       "      <th>white</th>\n",
       "      <th>black</th>\n",
       "      <th>orange</th>\n",
       "      <th>bars</th>\n",
       "      <th>stripes</th>\n",
       "      <th>circles</th>\n",
       "      <th>crosses</th>\n",
       "      <th>saltires</th>\n",
       "      <th>quarters</th>\n",
       "      <th>sunstars</th>\n",
       "      <th>triangle</th>\n",
       "      <th>animate</th>\n",
       "    </tr>\n",
       "    <tr>\n",
       "      <th>landmass</th>\n",
       "      <th></th>\n",
       "      <th></th>\n",
       "      <th></th>\n",
       "      <th></th>\n",
       "      <th></th>\n",
       "      <th></th>\n",
       "      <th></th>\n",
       "      <th></th>\n",
       "      <th></th>\n",
       "      <th></th>\n",
       "      <th></th>\n",
       "      <th></th>\n",
       "      <th></th>\n",
       "      <th></th>\n",
       "      <th></th>\n",
       "      <th></th>\n",
       "    </tr>\n",
       "  </thead>\n",
       "  <tbody>\n",
       "    <tr>\n",
       "      <th>3</th>\n",
       "      <td>0.828571</td>\n",
       "      <td>0.2</td>\n",
       "      <td>0.514286</td>\n",
       "      <td>0.428571</td>\n",
       "      <td>0.771429</td>\n",
       "      <td>0.171429</td>\n",
       "      <td>0.057143</td>\n",
       "      <td>0.628571</td>\n",
       "      <td>1.285714</td>\n",
       "      <td>0.028571</td>\n",
       "      <td>0.285714</td>\n",
       "      <td>0.028571</td>\n",
       "      <td>0.028571</td>\n",
       "      <td>0.142857</td>\n",
       "      <td>0.028571</td>\n",
       "      <td>0.114286</td>\n",
       "    </tr>\n",
       "    <tr>\n",
       "      <th>6</th>\n",
       "      <td>0.800000</td>\n",
       "      <td>0.2</td>\n",
       "      <td>0.800000</td>\n",
       "      <td>0.600000</td>\n",
       "      <td>0.950000</td>\n",
       "      <td>0.150000</td>\n",
       "      <td>0.150000</td>\n",
       "      <td>0.000000</td>\n",
       "      <td>0.400000</td>\n",
       "      <td>0.150000</td>\n",
       "      <td>0.400000</td>\n",
       "      <td>0.300000</td>\n",
       "      <td>0.400000</td>\n",
       "      <td>3.300000</td>\n",
       "      <td>0.250000</td>\n",
       "      <td>0.300000</td>\n",
       "    </tr>\n",
       "  </tbody>\n",
       "</table>\n",
       "</div>"
      ],
      "text/plain": [
       "               red  green      blue      gold     white     black    orange  \\\n",
       "landmass                                                                      \n",
       "3         0.828571    0.2  0.514286  0.428571  0.771429  0.171429  0.057143   \n",
       "6         0.800000    0.2  0.800000  0.600000  0.950000  0.150000  0.150000   \n",
       "\n",
       "              bars   stripes   circles   crosses  saltires  quarters  \\\n",
       "landmass                                                               \n",
       "3         0.628571  1.285714  0.028571  0.285714  0.028571  0.028571   \n",
       "6         0.000000  0.400000  0.150000  0.400000  0.300000  0.400000   \n",
       "\n",
       "          sunstars  triangle   animate  \n",
       "landmass                                \n",
       "3         0.142857  0.028571  0.114286  \n",
       "6         3.300000  0.250000  0.300000  "
      ]
     },
     "execution_count": 228,
     "metadata": {},
     "output_type": "execute_result"
    }
   ],
   "source": [
    "# Get the average values for each predictor per continent\n",
    "grouped_means = df_new.groupby('landmass')[var].mean(numeric_only=True)\n",
    "grouped_means.head()"
   ]
  },
  {
   "cell_type": "code",
   "execution_count": 229,
   "id": "3389971a",
   "metadata": {},
   "outputs": [
    {
     "data": {
      "image/png": "[encoded data removed]",
      "text/plain": [
       "<Figure size 1200x600 with 2 Axes>"
      ]
     },
     "metadata": {},
     "output_type": "display_data"
    }
   ],
   "source": [
    "# Plot to visualise differences\n",
    "import seaborn as sns\n",
    "import matplotlib.pyplot as plt\n",
    "\n",
    "plt.figure(figsize=(12,6))\n",
    "sns.heatmap(grouped_means, annot=True, cmap='coolwarm', fmt=\".2f\")\n",
    "\n",
    "plt.title('Heatmap of Average Predictor Values by Landmass')\n",
    "plt.ylabel('Landmass')\n",
    "plt.xlabel('Feature')\n",
    "plt.tight_layout()\n",
    "plt.show()"
   ]
  },
  {
   "cell_type": "code",
   "execution_count": 230,
   "id": "34fe206c",
   "metadata": {},
   "outputs": [
    {
     "data": {
      "application/vnd.microsoft.datawrangler.viewer.v0+json": {
       "columns": [
        {
         "name": "index",
         "rawType": "int64",
         "type": "integer"
        },
        {
         "name": "landmass",
         "rawType": "int64",
         "type": "integer"
        }
       ],
       "ref": "14f72819-7ed3-4e03-9fcc-e55dd4be9e41",
       "rows": [
        [
         "1",
         "3"
        ],
        [
         "3",
         "6"
        ],
        [
         "4",
         "3"
        ],
        [
         "10",
         "6"
        ],
        [
         "11",
         "3"
        ]
       ],
       "shape": {
        "columns": 1,
        "rows": 5
       }
      },
      "text/plain": [
       "1     3\n",
       "3     6\n",
       "4     3\n",
       "10    6\n",
       "11    3\n",
       "Name: landmass, dtype: int64"
      ]
     },
     "execution_count": 230,
     "metadata": {},
     "output_type": "execute_result"
    }
   ],
   "source": [
    "# get the labels\n",
    "y = df_new['landmass']\n",
    "y.head()"
   ]
  },
  {
   "cell_type": "code",
   "execution_count": 231,
   "id": "4c74496d",
   "metadata": {},
   "outputs": [
    {
     "name": "stdout",
     "output_type": "stream",
     "text": [
      "landmass\n",
      "3    35\n",
      "6    20\n",
      "Name: count, dtype: int64\n"
     ]
    }
   ],
   "source": [
    "# check the counts of each landmass\n",
    "print(y.value_counts().head())"
   ]
  },
  {
   "cell_type": "markdown",
   "id": "383ed7de",
   "metadata": {},
   "source": [
    "not really balanced so will use SMOTE to balance later on!"
   ]
  },
  {
   "cell_type": "code",
   "execution_count": 232,
   "id": "fe74a646",
   "metadata": {},
   "outputs": [
    {
     "name": "stdout",
     "output_type": "stream",
     "text": [
      "<class 'pandas.core.frame.DataFrame'>\n",
      "Index: 55 entries, 1 to 190\n",
      "Data columns (total 17 columns):\n",
      " #   Column    Non-Null Count  Dtype \n",
      "---  ------    --------------  ----- \n",
      " 0   red       55 non-null     int64 \n",
      " 1   green     55 non-null     int64 \n",
      " 2   blue      55 non-null     int64 \n",
      " 3   gold      55 non-null     int64 \n",
      " 4   white     55 non-null     int64 \n",
      " 5   black     55 non-null     int64 \n",
      " 6   orange    55 non-null     int64 \n",
      " 7   mainhue   55 non-null     object\n",
      " 8   bars      55 non-null     int64 \n",
      " 9   stripes   55 non-null     int64 \n",
      " 10  circles   55 non-null     int64 \n",
      " 11  crosses   55 non-null     int64 \n",
      " 12  saltires  55 non-null     int64 \n",
      " 13  quarters  55 non-null     int64 \n",
      " 14  sunstars  55 non-null     int64 \n",
      " 15  triangle  55 non-null     int64 \n",
      " 16  animate   55 non-null     int64 \n",
      "dtypes: int64(16), object(1)\n",
      "memory usage: 7.7+ KB\n"
     ]
    }
   ],
   "source": [
    "# see if there are non numerical predictor variables\n",
    "X = df_new[var]\n",
    "X.info()"
   ]
  },
  {
   "cell_type": "code",
   "execution_count": 233,
   "id": "af28de41",
   "metadata": {},
   "outputs": [
    {
     "data": {
      "application/vnd.microsoft.datawrangler.viewer.v0+json": {
       "columns": [
        {
         "name": "index",
         "rawType": "int64",
         "type": "integer"
        },
        {
         "name": "red",
         "rawType": "int64",
         "type": "integer"
        },
        {
         "name": "green",
         "rawType": "int64",
         "type": "integer"
        },
        {
         "name": "blue",
         "rawType": "int64",
         "type": "integer"
        },
        {
         "name": "gold",
         "rawType": "int64",
         "type": "integer"
        },
        {
         "name": "white",
         "rawType": "int64",
         "type": "integer"
        },
        {
         "name": "black",
         "rawType": "int64",
         "type": "integer"
        },
        {
         "name": "orange",
         "rawType": "int64",
         "type": "integer"
        },
        {
         "name": "bars",
         "rawType": "int64",
         "type": "integer"
        },
        {
         "name": "stripes",
         "rawType": "int64",
         "type": "integer"
        },
        {
         "name": "circles",
         "rawType": "int64",
         "type": "integer"
        },
        {
         "name": "crosses",
         "rawType": "int64",
         "type": "integer"
        },
        {
         "name": "saltires",
         "rawType": "int64",
         "type": "integer"
        },
        {
         "name": "quarters",
         "rawType": "int64",
         "type": "integer"
        },
        {
         "name": "sunstars",
         "rawType": "int64",
         "type": "integer"
        },
        {
         "name": "triangle",
         "rawType": "int64",
         "type": "integer"
        },
        {
         "name": "animate",
         "rawType": "int64",
         "type": "integer"
        },
        {
         "name": "mainhue_black",
         "rawType": "bool",
         "type": "boolean"
        },
        {
         "name": "mainhue_blue",
         "rawType": "bool",
         "type": "boolean"
        },
        {
         "name": "mainhue_gold",
         "rawType": "bool",
         "type": "boolean"
        },
        {
         "name": "mainhue_green",
         "rawType": "bool",
         "type": "boolean"
        },
        {
         "name": "mainhue_red",
         "rawType": "bool",
         "type": "boolean"
        },
        {
         "name": "mainhue_white",
         "rawType": "bool",
         "type": "boolean"
        }
       ],
       "ref": "7a66dda1-fe0b-4019-a750-3f9e5e494871",
       "rows": [
        [
         "1",
         "1",
         "0",
         "0",
         "1",
         "0",
         "1",
         "0",
         "0",
         "0",
         "0",
         "0",
         "0",
         "0",
         "1",
         "0",
         "1",
         "False",
         "False",
         "False",
         "False",
         "True",
         "False"
        ],
        [
         "3",
         "1",
         "0",
         "1",
         "1",
         "1",
         "0",
         "1",
         "0",
         "0",
         "0",
         "0",
         "0",
         "0",
         "0",
         "1",
         "1",
         "False",
         "True",
         "False",
         "False",
         "False",
         "False"
        ],
        [
         "4",
         "1",
         "0",
         "1",
         "1",
         "0",
         "0",
         "0",
         "3",
         "0",
         "0",
         "0",
         "0",
         "0",
         "0",
         "0",
         "0",
         "False",
         "False",
         "True",
         "False",
         "False",
         "False"
        ],
        [
         "10",
         "1",
         "0",
         "1",
         "0",
         "1",
         "0",
         "0",
         "0",
         "0",
         "0",
         "1",
         "1",
         "1",
         "6",
         "0",
         "0",
         "False",
         "True",
         "False",
         "False",
         "False",
         "False"
        ],
        [
         "11",
         "1",
         "0",
         "0",
         "0",
         "1",
         "0",
         "0",
         "0",
         "3",
         "0",
         "0",
         "0",
         "0",
         "0",
         "0",
         "0",
         "False",
         "False",
         "False",
         "False",
         "True",
         "False"
        ]
       ],
       "shape": {
        "columns": 22,
        "rows": 5
       }
      },
      "text/html": [
       "<div>\n",
       "<style scoped>\n",
       "    .dataframe tbody tr th:only-of-type {\n",
       "        vertical-align: middle;\n",
       "    }\n",
       "\n",
       "    .dataframe tbody tr th {\n",
       "        vertical-align: top;\n",
       "    }\n",
       "\n",
       "    .dataframe thead th {\n",
       "        text-align: right;\n",
       "    }\n",
       "</style>\n",
       "<table border=\"1\" class=\"dataframe\">\n",
       "  <thead>\n",
       "    <tr style=\"text-align: right;\">\n",
       "      <th></th>\n",
       "      <th>red</th>\n",
       "      <th>green</th>\n",
       "      <th>blue</th>\n",
       "      <th>gold</th>\n",
       "      <th>white</th>\n",
       "      <th>black</th>\n",
       "      <th>orange</th>\n",
       "      <th>bars</th>\n",
       "      <th>stripes</th>\n",
       "      <th>circles</th>\n",
       "      <th>...</th>\n",
       "      <th>quarters</th>\n",
       "      <th>sunstars</th>\n",
       "      <th>triangle</th>\n",
       "      <th>animate</th>\n",
       "      <th>mainhue_black</th>\n",
       "      <th>mainhue_blue</th>\n",
       "      <th>mainhue_gold</th>\n",
       "      <th>mainhue_green</th>\n",
       "      <th>mainhue_red</th>\n",
       "      <th>mainhue_white</th>\n",
       "    </tr>\n",
       "  </thead>\n",
       "  <tbody>\n",
       "    <tr>\n",
       "      <th>1</th>\n",
       "      <td>1</td>\n",
       "      <td>0</td>\n",
       "      <td>0</td>\n",
       "      <td>1</td>\n",
       "      <td>0</td>\n",
       "      <td>1</td>\n",
       "      <td>0</td>\n",
       "      <td>0</td>\n",
       "      <td>0</td>\n",
       "      <td>0</td>\n",
       "      <td>...</td>\n",
       "      <td>0</td>\n",
       "      <td>1</td>\n",
       "      <td>0</td>\n",
       "      <td>1</td>\n",
       "      <td>False</td>\n",
       "      <td>False</td>\n",
       "      <td>False</td>\n",
       "      <td>False</td>\n",
       "      <td>True</td>\n",
       "      <td>False</td>\n",
       "    </tr>\n",
       "    <tr>\n",
       "      <th>3</th>\n",
       "      <td>1</td>\n",
       "      <td>0</td>\n",
       "      <td>1</td>\n",
       "      <td>1</td>\n",
       "      <td>1</td>\n",
       "      <td>0</td>\n",
       "      <td>1</td>\n",
       "      <td>0</td>\n",
       "      <td>0</td>\n",
       "      <td>0</td>\n",
       "      <td>...</td>\n",
       "      <td>0</td>\n",
       "      <td>0</td>\n",
       "      <td>1</td>\n",
       "      <td>1</td>\n",
       "      <td>False</td>\n",
       "      <td>True</td>\n",
       "      <td>False</td>\n",
       "      <td>False</td>\n",
       "      <td>False</td>\n",
       "      <td>False</td>\n",
       "    </tr>\n",
       "    <tr>\n",
       "      <th>4</th>\n",
       "      <td>1</td>\n",
       "      <td>0</td>\n",
       "      <td>1</td>\n",
       "      <td>1</td>\n",
       "      <td>0</td>\n",
       "      <td>0</td>\n",
       "      <td>0</td>\n",
       "      <td>3</td>\n",
       "      <td>0</td>\n",
       "      <td>0</td>\n",
       "      <td>...</td>\n",
       "      <td>0</td>\n",
       "      <td>0</td>\n",
       "      <td>0</td>\n",
       "      <td>0</td>\n",
       "      <td>False</td>\n",
       "      <td>False</td>\n",
       "      <td>True</td>\n",
       "      <td>False</td>\n",
       "      <td>False</td>\n",
       "      <td>False</td>\n",
       "    </tr>\n",
       "    <tr>\n",
       "      <th>10</th>\n",
       "      <td>1</td>\n",
       "      <td>0</td>\n",
       "      <td>1</td>\n",
       "      <td>0</td>\n",
       "      <td>1</td>\n",
       "      <td>0</td>\n",
       "      <td>0</td>\n",
       "      <td>0</td>\n",
       "      <td>0</td>\n",
       "      <td>0</td>\n",
       "      <td>...</td>\n",
       "      <td>1</td>\n",
       "      <td>6</td>\n",
       "      <td>0</td>\n",
       "      <td>0</td>\n",
       "      <td>False</td>\n",
       "      <td>True</td>\n",
       "      <td>False</td>\n",
       "      <td>False</td>\n",
       "      <td>False</td>\n",
       "      <td>False</td>\n",
       "    </tr>\n",
       "    <tr>\n",
       "      <th>11</th>\n",
       "      <td>1</td>\n",
       "      <td>0</td>\n",
       "      <td>0</td>\n",
       "      <td>0</td>\n",
       "      <td>1</td>\n",
       "      <td>0</td>\n",
       "      <td>0</td>\n",
       "      <td>0</td>\n",
       "      <td>3</td>\n",
       "      <td>0</td>\n",
       "      <td>...</td>\n",
       "      <td>0</td>\n",
       "      <td>0</td>\n",
       "      <td>0</td>\n",
       "      <td>0</td>\n",
       "      <td>False</td>\n",
       "      <td>False</td>\n",
       "      <td>False</td>\n",
       "      <td>False</td>\n",
       "      <td>True</td>\n",
       "      <td>False</td>\n",
       "    </tr>\n",
       "  </tbody>\n",
       "</table>\n",
       "<p>5 rows × 22 columns</p>\n",
       "</div>"
      ],
      "text/plain": [
       "    red  green  blue  gold  white  black  orange  bars  stripes  circles  ...  \\\n",
       "1     1      0     0     1      0      1       0     0        0        0  ...   \n",
       "3     1      0     1     1      1      0       1     0        0        0  ...   \n",
       "4     1      0     1     1      0      0       0     3        0        0  ...   \n",
       "10    1      0     1     0      1      0       0     0        0        0  ...   \n",
       "11    1      0     0     0      1      0       0     0        3        0  ...   \n",
       "\n",
       "    quarters  sunstars  triangle  animate  mainhue_black  mainhue_blue  \\\n",
       "1          0         1         0        1          False         False   \n",
       "3          0         0         1        1          False          True   \n",
       "4          0         0         0        0          False         False   \n",
       "10         1         6         0        0          False          True   \n",
       "11         0         0         0        0          False         False   \n",
       "\n",
       "    mainhue_gold  mainhue_green  mainhue_red  mainhue_white  \n",
       "1          False          False         True          False  \n",
       "3          False          False        False          False  \n",
       "4           True          False        False          False  \n",
       "10         False          False        False          False  \n",
       "11         False          False         True          False  \n",
       "\n",
       "[5 rows x 22 columns]"
      ]
     },
     "execution_count": 233,
     "metadata": {},
     "output_type": "execute_result"
    }
   ],
   "source": [
    "# convert the non numerical mainhue column to categorical data\n",
    "non_numeric_cols = X.select_dtypes(include=\"object\").columns.tolist()\n",
    "X = pd.get_dummies(X, columns=non_numeric_cols)\n",
    "X.head()\n"
   ]
  },
  {
   "cell_type": "code",
   "execution_count": 234,
   "id": "a735447a",
   "metadata": {},
   "outputs": [],
   "source": [
    "# Split the data\n",
    "from sklearn.model_selection import train_test_split\n",
    "X_train, X_test, y_train, y_test = train_test_split(X, y, test_size=0.20, random_state=42, shuffle=True)"
   ]
  },
  {
   "cell_type": "code",
   "execution_count": 235,
   "id": "84d2a51c",
   "metadata": {},
   "outputs": [],
   "source": [
    "# # Handle imbalance\n",
    "# from imblearn.over_sampling import SMOTE\n",
    "# smote = SMOTE(random_state=42)\n",
    "# X_train, y_train = smote.fit_resample(X_train, y_train)\n"
   ]
  },
  {
   "cell_type": "code",
   "execution_count": 236,
   "id": "0e56c441",
   "metadata": {},
   "outputs": [],
   "source": [
    "# print(y_train.value_counts())"
   ]
  },
  {
   "cell_type": "code",
   "execution_count": 237,
   "id": "4cbee51a",
   "metadata": {},
   "outputs": [
    {
     "name": "stdout",
     "output_type": "stream",
     "text": [
      "[3 6] -> [0 1]\n"
     ]
    }
   ],
   "source": [
    "# convert the label values into 1 or 0 for classification\n",
    "\n",
    "from sklearn.preprocessing import LabelEncoder\n",
    "\n",
    "le = LabelEncoder()\n",
    "y_train = le.fit_transform(y_train)\n",
    "y_test = le.transform(y_test)\n",
    "\n",
    "print(f\"{le.classes_} -> [0 1]\")\n"
   ]
  },
  {
   "cell_type": "markdown",
   "id": "ef6b6e62",
   "metadata": {},
   "source": [
    "this means 0 = Europe, 1 = Ocenia !"
   ]
  },
  {
   "cell_type": "code",
   "execution_count": 238,
   "id": "17090225",
   "metadata": {},
   "outputs": [],
   "source": [
    "# Create a decision tree classifier for max_depth values from 1-20\n",
    "from sklearn.tree import DecisionTreeClassifier\n",
    "\n",
    "def DTC_explorer_depth(max_depth):\n",
    "    dtc = DecisionTreeClassifier(max_depth=max_depth, random_state=42, min_samples_split=4, min_samples_leaf=2, class_weight=\"balanced\")\n",
    "    dtc = dtc.fit(X_train,y_train)\n",
    "    acc_score = dtc.score(X_test,y_test)\n",
    "    return acc_score\n",
    "\n",
    "depth_and_accuracy = []\n",
    "for depth_choice in range(1,21):\n",
    "    acc = DTC_explorer_depth(depth_choice)\n",
    "    depth_and_accuracy.append([depth_choice, acc])\n",
    "\n",
    "depth_and_accuracy = pd.DataFrame(depth_and_accuracy, columns=[\"max_depth\", \"accuracy\"])"
   ]
  },
  {
   "cell_type": "code",
   "execution_count": 239,
   "id": "108194e1",
   "metadata": {},
   "outputs": [
    {
     "data": {
      "image/png": "[encoded data removed]",
      "text/plain": [
       "<Figure size 640x480 with 1 Axes>"
      ]
     },
     "metadata": {},
     "output_type": "display_data"
    }
   ],
   "source": [
    "# visualise\n",
    "import matplotlib.pyplot as plt\n",
    "\n",
    "plt.plot(depth_and_accuracy['max_depth'], depth_and_accuracy['accuracy'], marker='o')\n",
    "plt.xlabel('Max Depth')\n",
    "plt.ylabel('Accuracy on Test Set')\n",
    "plt.title('Decision Tree Accuracy vs Max Depth')\n",
    "plt.grid(True)\n",
    "plt.show()"
   ]
  },
  {
   "cell_type": "code",
   "execution_count": 240,
   "id": "a32f9303",
   "metadata": {},
   "outputs": [
    {
     "name": "stdout",
     "output_type": "stream",
     "text": [
      "Max accuracy is: 81.82%\n",
      "Occurs when max_depth = [1, 2, 3, 4, 5]\n"
     ]
    }
   ],
   "source": [
    "# find the max accuracy and the depth it occurs\n",
    "max_acc = depth_and_accuracy['accuracy'].max()\n",
    "max_depths = depth_and_accuracy[depth_and_accuracy['accuracy'] == max_acc]['max_depth'].tolist()\n",
    "\n",
    "print(f\"Max accuracy is: {max_acc*100:.2f}%\")\n",
    "print(f\"Occurs when max_depth = {max_depths}\")"
   ]
  },
  {
   "cell_type": "code",
   "execution_count": 241,
   "id": "4a978a20",
   "metadata": {},
   "outputs": [
    {
     "data": {
      "image/png": "[encoded data removed]",
      "text/plain": [
       "<Figure size 2000x1000 with 1 Axes>"
      ]
     },
     "metadata": {},
     "output_type": "display_data"
    }
   ],
   "source": [
    "# Plot the decision tree with this max depth and plot the tree\n",
    "from sklearn.tree import plot_tree\n",
    "\n",
    "dtc = DecisionTreeClassifier(max_depth=2, random_state=42, min_samples_split=4, min_samples_leaf=2, class_weight=\"balanced\")\n",
    "dtc = dtc.fit(X_train,y_train)\n",
    "\n",
    "plt.figure(figsize=(20,10))  # Adjust size as needed\n",
    "plot_tree(dtc, \n",
    "          filled=True,        # Colours nodes by class\n",
    "          rounded=True,       # Rounded boxes\n",
    "          class_names=[\"Europe\", \"Ocenia\"],   # If you have class names, or pass list of names\n",
    "          feature_names=X_train.columns if hasattr(X_train, 'columns') else None,\n",
    "          fontsize=12)\n",
    "\n",
    "plt.show()"
   ]
  },
  {
   "cell_type": "code",
   "execution_count": 242,
   "id": "eaaba72d",
   "metadata": {},
   "outputs": [],
   "source": [
    "# now explore ccp as well\n",
    "def DTC_explorer_depth_and_ccp(max_depth,ccp_val):\n",
    "    dtc = DecisionTreeClassifier(max_depth=max_depth, random_state=42, min_samples_split=4, min_samples_leaf=2, ccp_alpha=ccp_val, class_weight=\"balanced\")\n",
    "    dtc = dtc.fit(X_train,y_train)\n",
    "    acc_score = dtc.score(X_test,y_test)\n",
    "    return acc_score\n",
    "\n",
    "depth_ccp_and_accuracy = []\n",
    "ccp_choices = [0.0, 0.001, 0.01, 0.1, 1] \n",
    "\n",
    "for ccp_choice in ccp_choices:\n",
    "    for depth_choice in range(1, 21):\n",
    "        acc = DTC_explorer_depth_and_ccp(depth_choice, ccp_choice)\n",
    "        depth_ccp_and_accuracy.append([depth_choice, ccp_choice, acc])\n",
    "\n",
    "depth_ccp_and_accuracy = pd.DataFrame(depth_ccp_and_accuracy, columns=[\"max_depth\", \"ccp_value\", \"accuracy\"])"
   ]
  },
  {
   "cell_type": "code",
   "execution_count": 243,
   "id": "a0d223f8",
   "metadata": {},
   "outputs": [
    {
     "data": {
      "image/png": "[encoded data removed]",
      "text/plain": [
       "<Figure size 1000x600 with 1 Axes>"
      ]
     },
     "metadata": {},
     "output_type": "display_data"
    }
   ],
   "source": [
    "# plot to visualise\n",
    "\n",
    "# Plotting each line for different ccp_value\n",
    "plt.figure(figsize=(10, 6))\n",
    "\n",
    "linestyles = ['-', '--', '-.', ':']\n",
    "markers = ['o', 's', '^', 'D', '*']\n",
    "for i, ccp_val in enumerate(depth_ccp_and_accuracy['ccp_value'].unique()):\n",
    "    subset = depth_ccp_and_accuracy[depth_ccp_and_accuracy['ccp_value'] == ccp_val]\n",
    "    plt.plot(subset['max_depth'], subset['accuracy'],\n",
    "             label=f\"ccp={ccp_val}\",\n",
    "             linestyle=linestyles[i % len(linestyles)],\n",
    "             marker=markers[i % len(markers)])\n",
    "\n",
    "plt.title(\"Accuracy vs Max Depth for Different CCP Values\")\n",
    "plt.xlabel(\"Max Depth\")\n",
    "plt.ylabel(\"Accuracy\")\n",
    "plt.xticks(range(1, 21))\n",
    "plt.legend(title=\"CCP Alpha\")\n",
    "plt.grid(True)\n",
    "plt.tight_layout()\n",
    "plt.show()"
   ]
  },
  {
   "cell_type": "markdown",
   "id": "44a62750",
   "metadata": {},
   "source": [
    "appears that best ccp is 0.1, which gives the best accuracy no matter the max_depth!"
   ]
  },
  {
   "cell_type": "code",
   "execution_count": 244,
   "id": "49c728de",
   "metadata": {},
   "outputs": [
    {
     "data": {
      "image/png": "[encoded data removed]",
      "text/plain": [
       "<Figure size 2000x1000 with 1 Axes>"
      ]
     },
     "metadata": {},
     "output_type": "display_data"
    }
   ],
   "source": [
    "# Plot the decision tree \n",
    "dtc = DecisionTreeClassifier(max_depth=3, random_state=42, min_samples_split=4, min_samples_leaf=2, ccp_alpha=0.1, class_weight=\"balanced\")\n",
    "dtc = dtc.fit(X_train,y_train)\n",
    "\n",
    "plt.figure(figsize=(20,10))  # Adjust size as needed\n",
    "plot_tree(dtc, \n",
    "          filled=True,        # Colours nodes by class\n",
    "          rounded=True,       # Rounded boxes\n",
    "          class_names=[\"Europe\", \"Ocenia\"],   # If you have class names, or pass list of names\n",
    "          feature_names=X_train.columns if hasattr(X_train, 'columns') else None,\n",
    "          fontsize=12)\n",
    "\n",
    "plt.show()"
   ]
  },
  {
   "cell_type": "code",
   "execution_count": 246,
   "id": "558f6160",
   "metadata": {},
   "outputs": [
    {
     "name": "stdout",
     "output_type": "stream",
     "text": [
      "Fitting 5 folds for each of 18000 candidates, totalling 90000 fits\n",
      "Best parameters found: {'ccp_alpha': np.float64(0.0001), 'criterion': 'gini', 'max_depth': 4, 'min_samples_leaf': 2, 'min_samples_split': 2}\n",
      "Best cross-validated accuracy: 81.67%\n",
      "Test set accuracy: 81.82%\n"
     ]
    }
   ],
   "source": [
    "# EXTRA - Optimizing hyperparameters\n",
    "from sklearn.tree import DecisionTreeClassifier\n",
    "from sklearn.model_selection import GridSearchCV\n",
    "import numpy as np\n",
    "\n",
    "# Define your hyperparameter grid\n",
    "param_grid = {\n",
    "    'max_depth': range(1, 21),\n",
    "    'min_samples_split': range(2,11),\n",
    "    'min_samples_leaf': range(1,6),\n",
    "    'ccp_alpha': np.logspace(-4, 0, num=10),\n",
    "    'criterion': ['gini', 'entropy']\n",
    "}\n",
    "\n",
    "# Create the Decision Tree classifier\n",
    "dt = DecisionTreeClassifier(random_state=42, class_weight=\"balanced\")\n",
    "\n",
    "# Set up the GridSearchCV with accuracy as the scoring metric\n",
    "grid_search = GridSearchCV(\n",
    "    estimator=dt,\n",
    "    param_grid=param_grid,\n",
    "    cv=5,                           # 5-fold cross-validation\n",
    "    scoring='accuracy',             # Use accuracy on the validation folds\n",
    "    n_jobs=-1,                      # Use all cores for speed\n",
    "    verbose=1                       # Print progress\n",
    ")\n",
    "\n",
    "# Fit to your training data\n",
    "grid_search.fit(X_train, y_train)\n",
    "\n",
    "# Results\n",
    "print(\"Best parameters found:\", grid_search.best_params_)\n",
    "print(f\"Best cross-validated accuracy: {grid_search.best_score_*100:.2f}%\")\n",
    "\n",
    "# You can also evaluate the best model on your actual test set:\n",
    "best_model = grid_search.best_estimator_\n",
    "print(f\"Test set accuracy: {best_model.score(X_test, y_test)*100:.2f}%\")"
   ]
  },
  {
   "cell_type": "code",
   "execution_count": 247,
   "id": "eb86cd80",
   "metadata": {},
   "outputs": [
    {
     "data": {
      "image/png": "[encoded data removed]",
      "text/plain": [
       "<Figure size 2000x1000 with 1 Axes>"
      ]
     },
     "metadata": {},
     "output_type": "display_data"
    }
   ],
   "source": [
    "from sklearn.tree import plot_tree\n",
    "import matplotlib.pyplot as plt\n",
    "\n",
    "# Plot the best decision tree\n",
    "plt.figure(figsize=(20,10))\n",
    "plot_tree(\n",
    "    best_model, \n",
    "    filled=True, \n",
    "    rounded=True, \n",
    "    feature_names=X_train.columns,\n",
    "    class_names=[str(c) for c in best_model.classes_], \n",
    "    fontsize=10\n",
    ")\n",
    "plt.title(\"Optimal Decision Tree\")\n",
    "plt.show()"
   ]
  }
 ],
 "metadata": {
  "kernelspec": {
   "display_name": ".venv",
   "language": "python",
   "name": "python3"
  },
  "language_info": {
   "codemirror_mode": {
    "name": "ipython",
    "version": 3
   },
   "file_extension": ".py",
   "mimetype": "text/x-python",
   "name": "python",
   "nbconvert_exporter": "python",
   "pygments_lexer": "ipython3",
   "version": "3.12.10"
  }
 },
 "nbformat": 4,
 "nbformat_minor": 5
}
